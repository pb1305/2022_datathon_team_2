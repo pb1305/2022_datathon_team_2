{
 "cells": [
  {
   "cell_type": "code",
   "execution_count": 231,
   "metadata": {},
   "outputs": [],
   "source": [
    "import os\n",
    "import math\n",
    "import string\n",
    "import matplotlib.pyplot as plt\n",
    "import pandas as pd\n",
    "import numpy as np\n",
    "import random"
   ]
  },
  {
   "cell_type": "code",
   "execution_count": 232,
   "metadata": {},
   "outputs": [],
   "source": [
    "# care_management = r'C:/Users/secan/Documents/DataPhilly Datathon 2022/care_management_anonymized.csv'\n",
    "care_management = r'C:\\Users\\parob\\dthon\\2022_datathon_team_2\\data\\care_management_anonymized.csv'"
   ]
  },
  {
   "cell_type": "code",
   "execution_count": 233,
   "metadata": {},
   "outputs": [],
   "source": [
    "volunteer_services = r\"C:\\Users\\parob\\dthon\\2022_datathon_team_2\\data\\volunteer_services_anonymized.csv\"\n",
    "client_info = r\"C:\\Users\\parob\\dthon\\2022_datathon_team_2\\data\\client_info_anonymized.csv\"\n",
    "donations = r\"C:\\Users\\parob\\dthon\\2022_datathon_team_2\\data\\donations_anonymized.csv\"\n",
    "pantry = r\"C:\\Users\\parob\\dthon\\2022_datathon_team_2\\data\\pantry_anonymized.csv\""
   ]
  },
  {
   "cell_type": "code",
   "execution_count": 234,
   "metadata": {},
   "outputs": [],
   "source": [
    "care_management_data = pd.read_csv(care_management) #opens the file in read mode"
   ]
  },
  {
   "cell_type": "code",
   "execution_count": 235,
   "metadata": {},
   "outputs": [],
   "source": [
    "volunteer_services_data = pd.read_csv(volunteer_services) #opens the file in read mode\n",
    "client_info_data = pd.read_csv(client_info) #opens the file in read mode\n",
    "donations_data = pd.read_csv(donations) #opens the file in read mode\n",
    "pantry_data = pd.read_csv(pantry) #opens the file in read mode"
   ]
  },
  {
   "cell_type": "markdown",
   "metadata": {},
   "source": [
    "## Donations Visualization - Code Added by PB"
   ]
  },
  {
   "cell_type": "code",
   "execution_count": 236,
   "metadata": {},
   "outputs": [
    {
     "data": {
      "text/html": [
       "<div>\n",
       "<style scoped>\n",
       "    .dataframe tbody tr th:only-of-type {\n",
       "        vertical-align: middle;\n",
       "    }\n",
       "\n",
       "    .dataframe tbody tr th {\n",
       "        vertical-align: top;\n",
       "    }\n",
       "\n",
       "    .dataframe thead th {\n",
       "        text-align: right;\n",
       "    }\n",
       "</style>\n",
       "<table border=\"1\" class=\"dataframe\">\n",
       "  <thead>\n",
       "    <tr style=\"text-align: right;\">\n",
       "      <th></th>\n",
       "      <th>anon_donor_id</th>\n",
       "      <th>zip</th>\n",
       "      <th>status</th>\n",
       "      <th>do_not_mail</th>\n",
       "      <th>do_not_call</th>\n",
       "      <th>organisation</th>\n",
       "      <th>date</th>\n",
       "      <th>amount</th>\n",
       "      <th>form</th>\n",
       "      <th>campaign</th>\n",
       "      <th>target</th>\n",
       "    </tr>\n",
       "  </thead>\n",
       "  <tbody>\n",
       "    <tr>\n",
       "      <th>0</th>\n",
       "      <td>92</td>\n",
       "      <td>19003.0</td>\n",
       "      <td>Active</td>\n",
       "      <td>False</td>\n",
       "      <td>False</td>\n",
       "      <td>N</td>\n",
       "      <td>01/01/2019</td>\n",
       "      <td>40.0</td>\n",
       "      <td>Check</td>\n",
       "      <td>Clients</td>\n",
       "      <td>Gift</td>\n",
       "    </tr>\n",
       "    <tr>\n",
       "      <th>1</th>\n",
       "      <td>321</td>\n",
       "      <td>19096.0</td>\n",
       "      <td>Active</td>\n",
       "      <td>False</td>\n",
       "      <td>False</td>\n",
       "      <td>N</td>\n",
       "      <td>01/02/2019</td>\n",
       "      <td>25.0</td>\n",
       "      <td>Check</td>\n",
       "      <td>Fall Towns</td>\n",
       "      <td>Gift</td>\n",
       "    </tr>\n",
       "    <tr>\n",
       "      <th>2</th>\n",
       "      <td>559</td>\n",
       "      <td>19146.0</td>\n",
       "      <td>Active</td>\n",
       "      <td>False</td>\n",
       "      <td>False</td>\n",
       "      <td>N</td>\n",
       "      <td>01/02/2019</td>\n",
       "      <td>250.0</td>\n",
       "      <td>Check</td>\n",
       "      <td>Fall Towns</td>\n",
       "      <td>Gift</td>\n",
       "    </tr>\n",
       "    <tr>\n",
       "      <th>3</th>\n",
       "      <td>926</td>\n",
       "      <td>19041.0</td>\n",
       "      <td>Active</td>\n",
       "      <td>False</td>\n",
       "      <td>False</td>\n",
       "      <td>N</td>\n",
       "      <td>01/03/2019</td>\n",
       "      <td>50.0</td>\n",
       "      <td>Check</td>\n",
       "      <td>Fall Towns</td>\n",
       "      <td>Gift</td>\n",
       "    </tr>\n",
       "    <tr>\n",
       "      <th>4</th>\n",
       "      <td>860</td>\n",
       "      <td>10038.0</td>\n",
       "      <td>Active</td>\n",
       "      <td>False</td>\n",
       "      <td>False</td>\n",
       "      <td>N</td>\n",
       "      <td>01/04/2019</td>\n",
       "      <td>165.0</td>\n",
       "      <td>Check</td>\n",
       "      <td>Misc</td>\n",
       "      <td>Gift</td>\n",
       "    </tr>\n",
       "  </tbody>\n",
       "</table>\n",
       "</div>"
      ],
      "text/plain": [
       "   anon_donor_id      zip  status  do_not_mail  do_not_call organisation  \\\n",
       "0             92  19003.0  Active        False        False            N   \n",
       "1            321  19096.0  Active        False        False            N   \n",
       "2            559  19146.0  Active        False        False            N   \n",
       "3            926  19041.0  Active        False        False            N   \n",
       "4            860  10038.0  Active        False        False            N   \n",
       "\n",
       "         date  amount   form    campaign target  \n",
       "0  01/01/2019    40.0  Check     Clients   Gift  \n",
       "1  01/02/2019    25.0  Check  Fall Towns   Gift  \n",
       "2  01/02/2019   250.0  Check  Fall Towns   Gift  \n",
       "3  01/03/2019    50.0  Check  Fall Towns   Gift  \n",
       "4  01/04/2019   165.0  Check        Misc   Gift  "
      ]
     },
     "execution_count": 236,
     "metadata": {},
     "output_type": "execute_result"
    }
   ],
   "source": [
    "donations_data.head()"
   ]
  },
  {
   "cell_type": "code",
   "execution_count": 237,
   "metadata": {},
   "outputs": [
    {
     "data": {
      "text/plain": [
       "anon_donor_id      int64\n",
       "zip              float64\n",
       "status            object\n",
       "do_not_mail         bool\n",
       "do_not_call         bool\n",
       "organisation      object\n",
       "date              object\n",
       "amount           float64\n",
       "form              object\n",
       "campaign          object\n",
       "target            object\n",
       "dtype: object"
      ]
     },
     "execution_count": 237,
     "metadata": {},
     "output_type": "execute_result"
    }
   ],
   "source": [
    "donations_data.dtypes"
   ]
  },
  {
   "cell_type": "code",
   "execution_count": 238,
   "metadata": {},
   "outputs": [
    {
     "data": {
      "text/plain": [
       "anon_donor_id      0\n",
       "zip              135\n",
       "status             1\n",
       "do_not_mail        0\n",
       "do_not_call        0\n",
       "organisation       0\n",
       "date               0\n",
       "amount             0\n",
       "form               1\n",
       "campaign           0\n",
       "target             0\n",
       "dtype: int64"
      ]
     },
     "execution_count": 238,
     "metadata": {},
     "output_type": "execute_result"
    }
   ],
   "source": [
    "donations_data.isna().sum()\n",
    "## 135 donar zip codes are missing from the dataset"
   ]
  },
  {
   "cell_type": "code",
   "execution_count": 239,
   "metadata": {},
   "outputs": [
    {
     "data": {
      "text/plain": [
       "(2190, 11)"
      ]
     },
     "execution_count": 239,
     "metadata": {},
     "output_type": "execute_result"
    }
   ],
   "source": [
    "donations_data.shape"
   ]
  },
  {
   "cell_type": "code",
   "execution_count": 240,
   "metadata": {},
   "outputs": [],
   "source": [
    "## Creating a new df with no missing data\n",
    "donations_data_clean = donations_data.dropna()"
   ]
  },
  {
   "cell_type": "code",
   "execution_count": 241,
   "metadata": {},
   "outputs": [
    {
     "data": {
      "text/plain": [
       "anon_donor_id    0\n",
       "zip              0\n",
       "status           0\n",
       "do_not_mail      0\n",
       "do_not_call      0\n",
       "organisation     0\n",
       "date             0\n",
       "amount           0\n",
       "form             0\n",
       "campaign         0\n",
       "target           0\n",
       "dtype: int64"
      ]
     },
     "execution_count": 241,
     "metadata": {},
     "output_type": "execute_result"
    }
   ],
   "source": [
    "donations_data_clean.isna().sum()"
   ]
  },
  {
   "cell_type": "code",
   "execution_count": 242,
   "metadata": {},
   "outputs": [
    {
     "data": {
      "text/plain": [
       "103"
      ]
     },
     "execution_count": 242,
     "metadata": {},
     "output_type": "execute_result"
    }
   ],
   "source": [
    "donations_data_clean['zip'].nunique()\n",
    "## the zip code are from 103 unique zip codes"
   ]
  },
  {
   "cell_type": "code",
   "execution_count": 243,
   "metadata": {},
   "outputs": [
    {
     "data": {
      "text/plain": [
       "array([[<matplotlib.axes._subplots.AxesSubplot object at 0x000001BCE9181F48>]],\n",
       "      dtype=object)"
      ]
     },
     "execution_count": 243,
     "metadata": {},
     "output_type": "execute_result"
    },
    {
     "data": {
      "image/png": "[encoded data removed]",
      "text/plain": [
       "<Figure size 432x288 with 1 Axes>"
      ]
     },
     "metadata": {},
     "output_type": "display_data"
    }
   ],
   "source": [
    "## Let's review the distributions of the amount\n",
    "donations_data_clean.hist(column=\"amount\")"
   ]
  },
  {
   "cell_type": "code",
   "execution_count": 244,
   "metadata": {},
   "outputs": [
    {
     "data": {
      "text/html": [
       "<div>\n",
       "<style scoped>\n",
       "    .dataframe tbody tr th:only-of-type {\n",
       "        vertical-align: middle;\n",
       "    }\n",
       "\n",
       "    .dataframe tbody tr th {\n",
       "        vertical-align: top;\n",
       "    }\n",
       "\n",
       "    .dataframe thead th {\n",
       "        text-align: right;\n",
       "    }\n",
       "</style>\n",
       "<table border=\"1\" class=\"dataframe\">\n",
       "  <thead>\n",
       "    <tr style=\"text-align: right;\">\n",
       "      <th></th>\n",
       "      <th>count</th>\n",
       "      <th>mean</th>\n",
       "      <th>std</th>\n",
       "      <th>min</th>\n",
       "      <th>25%</th>\n",
       "      <th>50%</th>\n",
       "      <th>75%</th>\n",
       "      <th>max</th>\n",
       "    </tr>\n",
       "  </thead>\n",
       "  <tbody>\n",
       "    <tr>\n",
       "      <th>anon_donor_id</th>\n",
       "      <td>2054.0</td>\n",
       "      <td>538.014606</td>\n",
       "      <td>308.758408</td>\n",
       "      <td>1.0</td>\n",
       "      <td>268.0</td>\n",
       "      <td>553.5</td>\n",
       "      <td>821.75</td>\n",
       "      <td>1058.0</td>\n",
       "    </tr>\n",
       "    <tr>\n",
       "      <th>zip</th>\n",
       "      <td>2054.0</td>\n",
       "      <td>19573.761928</td>\n",
       "      <td>6539.330049</td>\n",
       "      <td>2067.0</td>\n",
       "      <td>19010.0</td>\n",
       "      <td>19066.0</td>\n",
       "      <td>19096.00</td>\n",
       "      <td>98110.0</td>\n",
       "    </tr>\n",
       "    <tr>\n",
       "      <th>amount</th>\n",
       "      <td>2054.0</td>\n",
       "      <td>477.779825</td>\n",
       "      <td>2254.024353</td>\n",
       "      <td>0.0</td>\n",
       "      <td>50.0</td>\n",
       "      <td>100.0</td>\n",
       "      <td>169.50</td>\n",
       "      <td>50000.0</td>\n",
       "    </tr>\n",
       "  </tbody>\n",
       "</table>\n",
       "</div>"
      ],
      "text/plain": [
       "                count          mean          std     min      25%      50%  \\\n",
       "anon_donor_id  2054.0    538.014606   308.758408     1.0    268.0    553.5   \n",
       "zip            2054.0  19573.761928  6539.330049  2067.0  19010.0  19066.0   \n",
       "amount         2054.0    477.779825  2254.024353     0.0     50.0    100.0   \n",
       "\n",
       "                    75%      max  \n",
       "anon_donor_id    821.75   1058.0  \n",
       "zip            19096.00  98110.0  \n",
       "amount           169.50  50000.0  "
      ]
     },
     "execution_count": 244,
     "metadata": {},
     "output_type": "execute_result"
    }
   ],
   "source": [
    "donations_data_clean.describe().T"
   ]
  },
  {
   "cell_type": "code",
   "execution_count": 245,
   "metadata": {},
   "outputs": [
    {
     "data": {
      "text/plain": [
       "<matplotlib.axes._subplots.AxesSubplot at 0x1bceda86e88>"
      ]
     },
     "execution_count": 245,
     "metadata": {},
     "output_type": "execute_result"
    },
    {
     "data": {
      "image/png": "[encoded data removed]",
      "text/plain": [
       "<Figure size 432x288 with 1 Axes>"
      ]
     },
     "metadata": {},
     "output_type": "display_data"
    }
   ],
   "source": [
    "donations_data_clean.boxplot()"
   ]
  },
  {
   "cell_type": "code",
   "execution_count": 246,
   "metadata": {},
   "outputs": [
    {
     "data": {
      "text/plain": [
       "{'whiskers': [<matplotlib.lines.Line2D at 0x1bcedbe6c88>,\n",
       "  <matplotlib.lines.Line2D at 0x1bcedbebd88>],\n",
       " 'caps': [<matplotlib.lines.Line2D at 0x1bcedbebe88>,\n",
       "  <matplotlib.lines.Line2D at 0x1bcedbefd08>],\n",
       " 'boxes': [<matplotlib.lines.Line2D at 0x1bcedbe6ac8>],\n",
       " 'medians': [<matplotlib.lines.Line2D at 0x1bcedbefe08>],\n",
       " 'fliers': [<matplotlib.lines.Line2D at 0x1bcedbf3c88>],\n",
       " 'means': []}"
      ]
     },
     "execution_count": 246,
     "metadata": {},
     "output_type": "execute_result"
    },
    {
     "data": {
      "image/png": "[encoded data removed]",
      "text/plain": [
       "<Figure size 432x288 with 1 Axes>"
      ]
     },
     "metadata": {},
     "output_type": "display_data"
    }
   ],
   "source": [
    "ig1, ax1 = plt.subplots()\n",
    "ax1.set_title('Amount Plot')\n",
    "ax1.boxplot(donations_data_clean['amount'])"
   ]
  },
  {
   "cell_type": "code",
   "execution_count": 247,
   "metadata": {},
   "outputs": [
    {
     "data": {
      "text/plain": [
       "100.0"
      ]
     },
     "execution_count": 247,
     "metadata": {},
     "output_type": "execute_result"
    }
   ],
   "source": [
    "donations_data_clean['amount'].median(axis=0)\n",
    "## Most common donation is $100"
   ]
  },
  {
   "cell_type": "code",
   "execution_count": 248,
   "metadata": {},
   "outputs": [
    {
     "data": {
      "text/plain": [
       "(612, 11)"
      ]
     },
     "execution_count": 248,
     "metadata": {},
     "output_type": "execute_result"
    }
   ],
   "source": [
    "donations_data_clean_high = donations_data_clean[donations_data_clean['amount']>100]\n",
    "donations_data_clean_high.shape"
   ]
  },
  {
   "cell_type": "code",
   "execution_count": 249,
   "metadata": {},
   "outputs": [
    {
     "data": {
      "text/plain": [
       "59"
      ]
     },
     "execution_count": 249,
     "metadata": {},
     "output_type": "execute_result"
    }
   ],
   "source": [
    "donations_data_clean_high['zip'].nunique()\n",
    "## There are 59 zip codes which provided a donation of over $100 dollars"
   ]
  },
  {
   "cell_type": "code",
   "execution_count": 250,
   "metadata": {},
   "outputs": [
    {
     "data": {
      "text/plain": [
       "19010.0    105\n",
       "19096.0     99\n",
       "19041.0     67\n",
       "19003.0     56\n",
       "19072.0     36\n",
       "19004.0     34\n",
       "19066.0     29\n",
       "19035.0     27\n",
       "19085.0     18\n",
       "19087.0     17\n",
       "19103.0     13\n",
       "20814.0     11\n",
       "19333.0      6\n",
       "19063.0      6\n",
       "19146.0      5\n",
       "19107.0      4\n",
       "19428.0      4\n",
       "19073.0      4\n",
       "19422.0      4\n",
       "19008.0      4\n",
       "6824.0       3\n",
       "6828.0       3\n",
       "19064.0      3\n",
       "19036.0      3\n",
       "18103.0      3\n",
       "19101.0      3\n",
       "19403.0      2\n",
       "19301.0      2\n",
       "94063.0      2\n",
       "32963.0      2\n",
       "19382.0      2\n",
       "10038.0      2\n",
       "19426.0      2\n",
       "23060.0      2\n",
       "19104.0      2\n",
       "19083.0      2\n",
       "19127.0      2\n",
       "19020.0      2\n",
       "19454.0      1\n",
       "83835.0      1\n",
       "19805.0      1\n",
       "19095.0      1\n",
       "19312.0      1\n",
       "19344.0      1\n",
       "30004.0      1\n",
       "27587.0      1\n",
       "19145.0      1\n",
       "21117.0      1\n",
       "19462.0      1\n",
       "15206.0      1\n",
       "19406.0      1\n",
       "20166.0      1\n",
       "19399.0      1\n",
       "19446.0      1\n",
       "95404.0      1\n",
       "19401.0      1\n",
       "20895.0      1\n",
       "19890.0      1\n",
       "19470.0      1\n",
       "Name: zip, dtype: int64"
      ]
     },
     "execution_count": 250,
     "metadata": {},
     "output_type": "execute_result"
    }
   ],
   "source": [
    "donations_data_clean_high['zip'].value_counts()"
   ]
  },
  {
   "cell_type": "code",
   "execution_count": 251,
   "metadata": {},
   "outputs": [
    {
     "data": {
      "text/html": [
       "<div>\n",
       "<style scoped>\n",
       "    .dataframe tbody tr th:only-of-type {\n",
       "        vertical-align: middle;\n",
       "    }\n",
       "\n",
       "    .dataframe tbody tr th {\n",
       "        vertical-align: top;\n",
       "    }\n",
       "\n",
       "    .dataframe thead th {\n",
       "        text-align: right;\n",
       "    }\n",
       "</style>\n",
       "<table border=\"1\" class=\"dataframe\">\n",
       "  <thead>\n",
       "    <tr style=\"text-align: right;\">\n",
       "      <th></th>\n",
       "      <th>anon_donor_id</th>\n",
       "      <th>zip</th>\n",
       "      <th>status</th>\n",
       "      <th>do_not_mail</th>\n",
       "      <th>do_not_call</th>\n",
       "      <th>organisation</th>\n",
       "      <th>date</th>\n",
       "      <th>amount</th>\n",
       "      <th>form</th>\n",
       "      <th>campaign</th>\n",
       "      <th>target</th>\n",
       "    </tr>\n",
       "  </thead>\n",
       "  <tbody>\n",
       "    <tr>\n",
       "      <th>2</th>\n",
       "      <td>559</td>\n",
       "      <td>19146.0</td>\n",
       "      <td>Active</td>\n",
       "      <td>False</td>\n",
       "      <td>False</td>\n",
       "      <td>N</td>\n",
       "      <td>01/02/2019</td>\n",
       "      <td>250.00</td>\n",
       "      <td>Check</td>\n",
       "      <td>Fall Towns</td>\n",
       "      <td>Gift</td>\n",
       "    </tr>\n",
       "    <tr>\n",
       "      <th>4</th>\n",
       "      <td>860</td>\n",
       "      <td>10038.0</td>\n",
       "      <td>Active</td>\n",
       "      <td>False</td>\n",
       "      <td>False</td>\n",
       "      <td>N</td>\n",
       "      <td>01/04/2019</td>\n",
       "      <td>165.00</td>\n",
       "      <td>Check</td>\n",
       "      <td>Misc</td>\n",
       "      <td>Gift</td>\n",
       "    </tr>\n",
       "    <tr>\n",
       "      <th>9</th>\n",
       "      <td>192</td>\n",
       "      <td>19403.0</td>\n",
       "      <td>Active</td>\n",
       "      <td>False</td>\n",
       "      <td>False</td>\n",
       "      <td>N</td>\n",
       "      <td>01/09/2019</td>\n",
       "      <td>1000.00</td>\n",
       "      <td>Check</td>\n",
       "      <td>Corporatio</td>\n",
       "      <td>Gift</td>\n",
       "    </tr>\n",
       "    <tr>\n",
       "      <th>10</th>\n",
       "      <td>396</td>\n",
       "      <td>19010.0</td>\n",
       "      <td>Active</td>\n",
       "      <td>False</td>\n",
       "      <td>False</td>\n",
       "      <td>N</td>\n",
       "      <td>01/10/2019</td>\n",
       "      <td>20000.00</td>\n",
       "      <td>Check</td>\n",
       "      <td>Corporatio</td>\n",
       "      <td>Gift</td>\n",
       "    </tr>\n",
       "    <tr>\n",
       "      <th>15</th>\n",
       "      <td>864</td>\n",
       "      <td>20814.0</td>\n",
       "      <td>Active</td>\n",
       "      <td>False</td>\n",
       "      <td>False</td>\n",
       "      <td>N</td>\n",
       "      <td>01/15/2019</td>\n",
       "      <td>304.01</td>\n",
       "      <td>Check</td>\n",
       "      <td>Misc</td>\n",
       "      <td>Gift</td>\n",
       "    </tr>\n",
       "  </tbody>\n",
       "</table>\n",
       "</div>"
      ],
      "text/plain": [
       "    anon_donor_id      zip  status  do_not_mail  do_not_call organisation  \\\n",
       "2             559  19146.0  Active        False        False            N   \n",
       "4             860  10038.0  Active        False        False            N   \n",
       "9             192  19403.0  Active        False        False            N   \n",
       "10            396  19010.0  Active        False        False            N   \n",
       "15            864  20814.0  Active        False        False            N   \n",
       "\n",
       "          date    amount   form    campaign target  \n",
       "2   01/02/2019    250.00  Check  Fall Towns   Gift  \n",
       "4   01/04/2019    165.00  Check        Misc   Gift  \n",
       "9   01/09/2019   1000.00  Check  Corporatio   Gift  \n",
       "10  01/10/2019  20000.00  Check  Corporatio   Gift  \n",
       "15  01/15/2019    304.01  Check        Misc   Gift  "
      ]
     },
     "execution_count": 251,
     "metadata": {},
     "output_type": "execute_result"
    }
   ],
   "source": [
    "donations_data_clean_high.head()"
   ]
  },
  {
   "cell_type": "code",
   "execution_count": 252,
   "metadata": {},
   "outputs": [],
   "source": [
    "don_num_by_zip = donations_data_clean_high.groupby(['zip']).count()"
   ]
  },
  {
   "cell_type": "code",
   "execution_count": 253,
   "metadata": {},
   "outputs": [
    {
     "data": {
      "text/plain": [
       "Index(['anon_donor_id', 'status', 'do_not_mail', 'do_not_call', 'organisation',\n",
       "       'date', 'amount', 'form', 'campaign', 'target'],\n",
       "      dtype='object')"
      ]
     },
     "execution_count": 253,
     "metadata": {},
     "output_type": "execute_result"
    }
   ],
   "source": [
    "don_num_by_zip.columns"
   ]
  },
  {
   "cell_type": "code",
   "execution_count": 254,
   "metadata": {},
   "outputs": [
    {
     "data": {
      "text/plain": [
       "pandas.core.frame.DataFrame"
      ]
     },
     "execution_count": 254,
     "metadata": {},
     "output_type": "execute_result"
    }
   ],
   "source": [
    "type(don_num_by_zip)"
   ]
  },
  {
   "cell_type": "code",
   "execution_count": 255,
   "metadata": {},
   "outputs": [
    {
     "data": {
      "text/plain": [
       "(59, 10)"
      ]
     },
     "execution_count": 255,
     "metadata": {},
     "output_type": "execute_result"
    }
   ],
   "source": [
    "don_num_by_zip.shape"
   ]
  },
  {
   "cell_type": "code",
   "execution_count": 256,
   "metadata": {},
   "outputs": [
    {
     "data": {
      "text/html": [
       "<div>\n",
       "<style scoped>\n",
       "    .dataframe tbody tr th:only-of-type {\n",
       "        vertical-align: middle;\n",
       "    }\n",
       "\n",
       "    .dataframe tbody tr th {\n",
       "        vertical-align: top;\n",
       "    }\n",
       "\n",
       "    .dataframe thead th {\n",
       "        text-align: right;\n",
       "    }\n",
       "</style>\n",
       "<table border=\"1\" class=\"dataframe\">\n",
       "  <thead>\n",
       "    <tr style=\"text-align: right;\">\n",
       "      <th></th>\n",
       "      <th>anon_donor_id</th>\n",
       "      <th>status</th>\n",
       "      <th>do_not_mail</th>\n",
       "      <th>do_not_call</th>\n",
       "      <th>organisation</th>\n",
       "      <th>date</th>\n",
       "      <th>amount</th>\n",
       "      <th>form</th>\n",
       "      <th>campaign</th>\n",
       "      <th>target</th>\n",
       "    </tr>\n",
       "    <tr>\n",
       "      <th>zip</th>\n",
       "      <th></th>\n",
       "      <th></th>\n",
       "      <th></th>\n",
       "      <th></th>\n",
       "      <th></th>\n",
       "      <th></th>\n",
       "      <th></th>\n",
       "      <th></th>\n",
       "      <th></th>\n",
       "      <th></th>\n",
       "    </tr>\n",
       "  </thead>\n",
       "  <tbody>\n",
       "    <tr>\n",
       "      <th>30004.0</th>\n",
       "      <td>1</td>\n",
       "      <td>1</td>\n",
       "      <td>1</td>\n",
       "      <td>1</td>\n",
       "      <td>1</td>\n",
       "      <td>1</td>\n",
       "      <td>1</td>\n",
       "      <td>1</td>\n",
       "      <td>1</td>\n",
       "      <td>1</td>\n",
       "    </tr>\n",
       "    <tr>\n",
       "      <th>32963.0</th>\n",
       "      <td>2</td>\n",
       "      <td>2</td>\n",
       "      <td>2</td>\n",
       "      <td>2</td>\n",
       "      <td>2</td>\n",
       "      <td>2</td>\n",
       "      <td>2</td>\n",
       "      <td>2</td>\n",
       "      <td>2</td>\n",
       "      <td>2</td>\n",
       "    </tr>\n",
       "    <tr>\n",
       "      <th>83835.0</th>\n",
       "      <td>1</td>\n",
       "      <td>1</td>\n",
       "      <td>1</td>\n",
       "      <td>1</td>\n",
       "      <td>1</td>\n",
       "      <td>1</td>\n",
       "      <td>1</td>\n",
       "      <td>1</td>\n",
       "      <td>1</td>\n",
       "      <td>1</td>\n",
       "    </tr>\n",
       "    <tr>\n",
       "      <th>94063.0</th>\n",
       "      <td>2</td>\n",
       "      <td>2</td>\n",
       "      <td>2</td>\n",
       "      <td>2</td>\n",
       "      <td>2</td>\n",
       "      <td>2</td>\n",
       "      <td>2</td>\n",
       "      <td>2</td>\n",
       "      <td>2</td>\n",
       "      <td>2</td>\n",
       "    </tr>\n",
       "    <tr>\n",
       "      <th>95404.0</th>\n",
       "      <td>1</td>\n",
       "      <td>1</td>\n",
       "      <td>1</td>\n",
       "      <td>1</td>\n",
       "      <td>1</td>\n",
       "      <td>1</td>\n",
       "      <td>1</td>\n",
       "      <td>1</td>\n",
       "      <td>1</td>\n",
       "      <td>1</td>\n",
       "    </tr>\n",
       "  </tbody>\n",
       "</table>\n",
       "</div>"
      ],
      "text/plain": [
       "         anon_donor_id  status  do_not_mail  do_not_call  organisation  date  \\\n",
       "zip                                                                            \n",
       "30004.0              1       1            1            1             1     1   \n",
       "32963.0              2       2            2            2             2     2   \n",
       "83835.0              1       1            1            1             1     1   \n",
       "94063.0              2       2            2            2             2     2   \n",
       "95404.0              1       1            1            1             1     1   \n",
       "\n",
       "         amount  form  campaign  target  \n",
       "zip                                      \n",
       "30004.0       1     1         1       1  \n",
       "32963.0       2     2         2       2  \n",
       "83835.0       1     1         1       1  \n",
       "94063.0       2     2         2       2  \n",
       "95404.0       1     1         1       1  "
      ]
     },
     "execution_count": 256,
     "metadata": {},
     "output_type": "execute_result"
    }
   ],
   "source": [
    "don_num_by_zip.tail()"
   ]
  },
  {
   "cell_type": "code",
   "execution_count": 257,
   "metadata": {},
   "outputs": [],
   "source": [
    "don_num_by_zip.reset_index(inplace=True)"
   ]
  },
  {
   "cell_type": "code",
   "execution_count": 258,
   "metadata": {},
   "outputs": [
    {
     "data": {
      "text/plain": [
       "Index(['zip', 'anon_donor_id', 'status', 'do_not_mail', 'do_not_call',\n",
       "       'organisation', 'date', 'amount', 'form', 'campaign', 'target'],\n",
       "      dtype='object')"
      ]
     },
     "execution_count": 258,
     "metadata": {},
     "output_type": "execute_result"
    }
   ],
   "source": [
    "don_num_by_zip.columns"
   ]
  },
  {
   "cell_type": "code",
   "execution_count": 259,
   "metadata": {},
   "outputs": [],
   "source": [
    "don_num_by_zip.drop(['status', 'do_not_mail', 'do_not_call',\n",
    "       'organisation', 'date', 'amount', 'form', 'campaign', 'target'], axis=1, inplace = True)"
   ]
  },
  {
   "cell_type": "code",
   "execution_count": 260,
   "metadata": {},
   "outputs": [],
   "source": [
    "don_num_by_zip_viz = don_num_by_zip.copy()"
   ]
  },
  {
   "cell_type": "code",
   "execution_count": 261,
   "metadata": {},
   "outputs": [
    {
     "data": {
      "text/plain": [
       "Index(['zip', 'anon_donor_id'], dtype='object')"
      ]
     },
     "execution_count": 261,
     "metadata": {},
     "output_type": "execute_result"
    }
   ],
   "source": [
    "don_num_by_zip_viz.columns"
   ]
  },
  {
   "cell_type": "code",
   "execution_count": 262,
   "metadata": {},
   "outputs": [],
   "source": [
    "don_num_by_zip_viz['count_donations']= don_num_by_zip_viz['anon_donor_id']"
   ]
  },
  {
   "cell_type": "code",
   "execution_count": 263,
   "metadata": {},
   "outputs": [],
   "source": [
    "don_num_by_zip_viz.drop(['anon_donor_id'],axis=1, inplace=True)"
   ]
  },
  {
   "cell_type": "code",
   "execution_count": 264,
   "metadata": {},
   "outputs": [
    {
     "data": {
      "text/html": [
       "<div>\n",
       "<style scoped>\n",
       "    .dataframe tbody tr th:only-of-type {\n",
       "        vertical-align: middle;\n",
       "    }\n",
       "\n",
       "    .dataframe tbody tr th {\n",
       "        vertical-align: top;\n",
       "    }\n",
       "\n",
       "    .dataframe thead th {\n",
       "        text-align: right;\n",
       "    }\n",
       "</style>\n",
       "<table border=\"1\" class=\"dataframe\">\n",
       "  <thead>\n",
       "    <tr style=\"text-align: right;\">\n",
       "      <th></th>\n",
       "      <th>zip</th>\n",
       "      <th>count_donations</th>\n",
       "    </tr>\n",
       "  </thead>\n",
       "  <tbody>\n",
       "    <tr>\n",
       "      <th>8</th>\n",
       "      <td>19010.0</td>\n",
       "      <td>105</td>\n",
       "    </tr>\n",
       "    <tr>\n",
       "      <th>22</th>\n",
       "      <td>19096.0</td>\n",
       "      <td>99</td>\n",
       "    </tr>\n",
       "    <tr>\n",
       "      <th>12</th>\n",
       "      <td>19041.0</td>\n",
       "      <td>67</td>\n",
       "    </tr>\n",
       "    <tr>\n",
       "      <th>5</th>\n",
       "      <td>19003.0</td>\n",
       "      <td>56</td>\n",
       "    </tr>\n",
       "    <tr>\n",
       "      <th>16</th>\n",
       "      <td>19072.0</td>\n",
       "      <td>36</td>\n",
       "    </tr>\n",
       "    <tr>\n",
       "      <th>6</th>\n",
       "      <td>19004.0</td>\n",
       "      <td>34</td>\n",
       "    </tr>\n",
       "    <tr>\n",
       "      <th>15</th>\n",
       "      <td>19066.0</td>\n",
       "      <td>29</td>\n",
       "    </tr>\n",
       "    <tr>\n",
       "      <th>10</th>\n",
       "      <td>19035.0</td>\n",
       "      <td>27</td>\n",
       "    </tr>\n",
       "    <tr>\n",
       "      <th>19</th>\n",
       "      <td>19085.0</td>\n",
       "      <td>18</td>\n",
       "    </tr>\n",
       "    <tr>\n",
       "      <th>20</th>\n",
       "      <td>19087.0</td>\n",
       "      <td>17</td>\n",
       "    </tr>\n",
       "    <tr>\n",
       "      <th>24</th>\n",
       "      <td>19103.0</td>\n",
       "      <td>13</td>\n",
       "    </tr>\n",
       "    <tr>\n",
       "      <th>49</th>\n",
       "      <td>20814.0</td>\n",
       "      <td>11</td>\n",
       "    </tr>\n",
       "    <tr>\n",
       "      <th>32</th>\n",
       "      <td>19333.0</td>\n",
       "      <td>6</td>\n",
       "    </tr>\n",
       "    <tr>\n",
       "      <th>13</th>\n",
       "      <td>19063.0</td>\n",
       "      <td>6</td>\n",
       "    </tr>\n",
       "    <tr>\n",
       "      <th>29</th>\n",
       "      <td>19146.0</td>\n",
       "      <td>5</td>\n",
       "    </tr>\n",
       "    <tr>\n",
       "      <th>7</th>\n",
       "      <td>19008.0</td>\n",
       "      <td>4</td>\n",
       "    </tr>\n",
       "    <tr>\n",
       "      <th>39</th>\n",
       "      <td>19422.0</td>\n",
       "      <td>4</td>\n",
       "    </tr>\n",
       "    <tr>\n",
       "      <th>26</th>\n",
       "      <td>19107.0</td>\n",
       "      <td>4</td>\n",
       "    </tr>\n",
       "    <tr>\n",
       "      <th>41</th>\n",
       "      <td>19428.0</td>\n",
       "      <td>4</td>\n",
       "    </tr>\n",
       "    <tr>\n",
       "      <th>17</th>\n",
       "      <td>19073.0</td>\n",
       "      <td>4</td>\n",
       "    </tr>\n",
       "    <tr>\n",
       "      <th>1</th>\n",
       "      <td>6828.0</td>\n",
       "      <td>3</td>\n",
       "    </tr>\n",
       "    <tr>\n",
       "      <th>23</th>\n",
       "      <td>19101.0</td>\n",
       "      <td>3</td>\n",
       "    </tr>\n",
       "    <tr>\n",
       "      <th>0</th>\n",
       "      <td>6824.0</td>\n",
       "      <td>3</td>\n",
       "    </tr>\n",
       "    <tr>\n",
       "      <th>4</th>\n",
       "      <td>18103.0</td>\n",
       "      <td>3</td>\n",
       "    </tr>\n",
       "    <tr>\n",
       "      <th>14</th>\n",
       "      <td>19064.0</td>\n",
       "      <td>3</td>\n",
       "    </tr>\n",
       "    <tr>\n",
       "      <th>11</th>\n",
       "      <td>19036.0</td>\n",
       "      <td>3</td>\n",
       "    </tr>\n",
       "    <tr>\n",
       "      <th>9</th>\n",
       "      <td>19020.0</td>\n",
       "      <td>2</td>\n",
       "    </tr>\n",
       "    <tr>\n",
       "      <th>52</th>\n",
       "      <td>23060.0</td>\n",
       "      <td>2</td>\n",
       "    </tr>\n",
       "    <tr>\n",
       "      <th>37</th>\n",
       "      <td>19403.0</td>\n",
       "      <td>2</td>\n",
       "    </tr>\n",
       "    <tr>\n",
       "      <th>18</th>\n",
       "      <td>19083.0</td>\n",
       "      <td>2</td>\n",
       "    </tr>\n",
       "    <tr>\n",
       "      <th>55</th>\n",
       "      <td>32963.0</td>\n",
       "      <td>2</td>\n",
       "    </tr>\n",
       "    <tr>\n",
       "      <th>34</th>\n",
       "      <td>19382.0</td>\n",
       "      <td>2</td>\n",
       "    </tr>\n",
       "    <tr>\n",
       "      <th>40</th>\n",
       "      <td>19426.0</td>\n",
       "      <td>2</td>\n",
       "    </tr>\n",
       "    <tr>\n",
       "      <th>30</th>\n",
       "      <td>19301.0</td>\n",
       "      <td>2</td>\n",
       "    </tr>\n",
       "    <tr>\n",
       "      <th>57</th>\n",
       "      <td>94063.0</td>\n",
       "      <td>2</td>\n",
       "    </tr>\n",
       "    <tr>\n",
       "      <th>27</th>\n",
       "      <td>19127.0</td>\n",
       "      <td>2</td>\n",
       "    </tr>\n",
       "    <tr>\n",
       "      <th>25</th>\n",
       "      <td>19104.0</td>\n",
       "      <td>2</td>\n",
       "    </tr>\n",
       "    <tr>\n",
       "      <th>2</th>\n",
       "      <td>10038.0</td>\n",
       "      <td>2</td>\n",
       "    </tr>\n",
       "    <tr>\n",
       "      <th>50</th>\n",
       "      <td>20895.0</td>\n",
       "      <td>1</td>\n",
       "    </tr>\n",
       "    <tr>\n",
       "      <th>51</th>\n",
       "      <td>21117.0</td>\n",
       "      <td>1</td>\n",
       "    </tr>\n",
       "    <tr>\n",
       "      <th>21</th>\n",
       "      <td>19095.0</td>\n",
       "      <td>1</td>\n",
       "    </tr>\n",
       "    <tr>\n",
       "      <th>53</th>\n",
       "      <td>27587.0</td>\n",
       "      <td>1</td>\n",
       "    </tr>\n",
       "    <tr>\n",
       "      <th>54</th>\n",
       "      <td>30004.0</td>\n",
       "      <td>1</td>\n",
       "    </tr>\n",
       "    <tr>\n",
       "      <th>47</th>\n",
       "      <td>19890.0</td>\n",
       "      <td>1</td>\n",
       "    </tr>\n",
       "    <tr>\n",
       "      <th>56</th>\n",
       "      <td>83835.0</td>\n",
       "      <td>1</td>\n",
       "    </tr>\n",
       "    <tr>\n",
       "      <th>48</th>\n",
       "      <td>20166.0</td>\n",
       "      <td>1</td>\n",
       "    </tr>\n",
       "    <tr>\n",
       "      <th>3</th>\n",
       "      <td>15206.0</td>\n",
       "      <td>1</td>\n",
       "    </tr>\n",
       "    <tr>\n",
       "      <th>46</th>\n",
       "      <td>19805.0</td>\n",
       "      <td>1</td>\n",
       "    </tr>\n",
       "    <tr>\n",
       "      <th>45</th>\n",
       "      <td>19470.0</td>\n",
       "      <td>1</td>\n",
       "    </tr>\n",
       "    <tr>\n",
       "      <th>44</th>\n",
       "      <td>19462.0</td>\n",
       "      <td>1</td>\n",
       "    </tr>\n",
       "    <tr>\n",
       "      <th>43</th>\n",
       "      <td>19454.0</td>\n",
       "      <td>1</td>\n",
       "    </tr>\n",
       "    <tr>\n",
       "      <th>42</th>\n",
       "      <td>19446.0</td>\n",
       "      <td>1</td>\n",
       "    </tr>\n",
       "    <tr>\n",
       "      <th>38</th>\n",
       "      <td>19406.0</td>\n",
       "      <td>1</td>\n",
       "    </tr>\n",
       "    <tr>\n",
       "      <th>36</th>\n",
       "      <td>19401.0</td>\n",
       "      <td>1</td>\n",
       "    </tr>\n",
       "    <tr>\n",
       "      <th>35</th>\n",
       "      <td>19399.0</td>\n",
       "      <td>1</td>\n",
       "    </tr>\n",
       "    <tr>\n",
       "      <th>33</th>\n",
       "      <td>19344.0</td>\n",
       "      <td>1</td>\n",
       "    </tr>\n",
       "    <tr>\n",
       "      <th>31</th>\n",
       "      <td>19312.0</td>\n",
       "      <td>1</td>\n",
       "    </tr>\n",
       "    <tr>\n",
       "      <th>28</th>\n",
       "      <td>19145.0</td>\n",
       "      <td>1</td>\n",
       "    </tr>\n",
       "    <tr>\n",
       "      <th>58</th>\n",
       "      <td>95404.0</td>\n",
       "      <td>1</td>\n",
       "    </tr>\n",
       "  </tbody>\n",
       "</table>\n",
       "</div>"
      ],
      "text/plain": [
       "        zip  count_donations\n",
       "8   19010.0              105\n",
       "22  19096.0               99\n",
       "12  19041.0               67\n",
       "5   19003.0               56\n",
       "16  19072.0               36\n",
       "6   19004.0               34\n",
       "15  19066.0               29\n",
       "10  19035.0               27\n",
       "19  19085.0               18\n",
       "20  19087.0               17\n",
       "24  19103.0               13\n",
       "49  20814.0               11\n",
       "32  19333.0                6\n",
       "13  19063.0                6\n",
       "29  19146.0                5\n",
       "7   19008.0                4\n",
       "39  19422.0                4\n",
       "26  19107.0                4\n",
       "41  19428.0                4\n",
       "17  19073.0                4\n",
       "1    6828.0                3\n",
       "23  19101.0                3\n",
       "0    6824.0                3\n",
       "4   18103.0                3\n",
       "14  19064.0                3\n",
       "11  19036.0                3\n",
       "9   19020.0                2\n",
       "52  23060.0                2\n",
       "37  19403.0                2\n",
       "18  19083.0                2\n",
       "55  32963.0                2\n",
       "34  19382.0                2\n",
       "40  19426.0                2\n",
       "30  19301.0                2\n",
       "57  94063.0                2\n",
       "27  19127.0                2\n",
       "25  19104.0                2\n",
       "2   10038.0                2\n",
       "50  20895.0                1\n",
       "51  21117.0                1\n",
       "21  19095.0                1\n",
       "53  27587.0                1\n",
       "54  30004.0                1\n",
       "47  19890.0                1\n",
       "56  83835.0                1\n",
       "48  20166.0                1\n",
       "3   15206.0                1\n",
       "46  19805.0                1\n",
       "45  19470.0                1\n",
       "44  19462.0                1\n",
       "43  19454.0                1\n",
       "42  19446.0                1\n",
       "38  19406.0                1\n",
       "36  19401.0                1\n",
       "35  19399.0                1\n",
       "33  19344.0                1\n",
       "31  19312.0                1\n",
       "28  19145.0                1\n",
       "58  95404.0                1"
      ]
     },
     "execution_count": 264,
     "metadata": {},
     "output_type": "execute_result"
    }
   ],
   "source": [
    "don_num_by_zip_viz.sort_values(by=['count_donations'],ascending = False)"
   ]
  },
  {
   "cell_type": "code",
   "execution_count": 265,
   "metadata": {},
   "outputs": [],
   "source": [
    "don_num_by_zip_fin = don_num_by_zip_viz[don_num_by_zip_viz['count_donations']>4]"
   ]
  },
  {
   "cell_type": "code",
   "execution_count": 266,
   "metadata": {},
   "outputs": [],
   "source": [
    "DV = don_num_by_zip_fin.sort_values(by=\"count_donations\",ascending=False)"
   ]
  },
  {
   "cell_type": "code",
   "execution_count": 267,
   "metadata": {},
   "outputs": [
    {
     "data": {
      "text/html": [
       "<div>\n",
       "<style scoped>\n",
       "    .dataframe tbody tr th:only-of-type {\n",
       "        vertical-align: middle;\n",
       "    }\n",
       "\n",
       "    .dataframe tbody tr th {\n",
       "        vertical-align: top;\n",
       "    }\n",
       "\n",
       "    .dataframe thead th {\n",
       "        text-align: right;\n",
       "    }\n",
       "</style>\n",
       "<table border=\"1\" class=\"dataframe\">\n",
       "  <thead>\n",
       "    <tr style=\"text-align: right;\">\n",
       "      <th></th>\n",
       "      <th>zip</th>\n",
       "      <th>count_donations</th>\n",
       "    </tr>\n",
       "  </thead>\n",
       "  <tbody>\n",
       "    <tr>\n",
       "      <th>8</th>\n",
       "      <td>19010.0</td>\n",
       "      <td>105</td>\n",
       "    </tr>\n",
       "    <tr>\n",
       "      <th>22</th>\n",
       "      <td>19096.0</td>\n",
       "      <td>99</td>\n",
       "    </tr>\n",
       "    <tr>\n",
       "      <th>12</th>\n",
       "      <td>19041.0</td>\n",
       "      <td>67</td>\n",
       "    </tr>\n",
       "    <tr>\n",
       "      <th>5</th>\n",
       "      <td>19003.0</td>\n",
       "      <td>56</td>\n",
       "    </tr>\n",
       "    <tr>\n",
       "      <th>16</th>\n",
       "      <td>19072.0</td>\n",
       "      <td>36</td>\n",
       "    </tr>\n",
       "    <tr>\n",
       "      <th>6</th>\n",
       "      <td>19004.0</td>\n",
       "      <td>34</td>\n",
       "    </tr>\n",
       "    <tr>\n",
       "      <th>15</th>\n",
       "      <td>19066.0</td>\n",
       "      <td>29</td>\n",
       "    </tr>\n",
       "    <tr>\n",
       "      <th>10</th>\n",
       "      <td>19035.0</td>\n",
       "      <td>27</td>\n",
       "    </tr>\n",
       "    <tr>\n",
       "      <th>19</th>\n",
       "      <td>19085.0</td>\n",
       "      <td>18</td>\n",
       "    </tr>\n",
       "    <tr>\n",
       "      <th>20</th>\n",
       "      <td>19087.0</td>\n",
       "      <td>17</td>\n",
       "    </tr>\n",
       "    <tr>\n",
       "      <th>24</th>\n",
       "      <td>19103.0</td>\n",
       "      <td>13</td>\n",
       "    </tr>\n",
       "    <tr>\n",
       "      <th>49</th>\n",
       "      <td>20814.0</td>\n",
       "      <td>11</td>\n",
       "    </tr>\n",
       "    <tr>\n",
       "      <th>13</th>\n",
       "      <td>19063.0</td>\n",
       "      <td>6</td>\n",
       "    </tr>\n",
       "    <tr>\n",
       "      <th>32</th>\n",
       "      <td>19333.0</td>\n",
       "      <td>6</td>\n",
       "    </tr>\n",
       "    <tr>\n",
       "      <th>29</th>\n",
       "      <td>19146.0</td>\n",
       "      <td>5</td>\n",
       "    </tr>\n",
       "  </tbody>\n",
       "</table>\n",
       "</div>"
      ],
      "text/plain": [
       "        zip  count_donations\n",
       "8   19010.0              105\n",
       "22  19096.0               99\n",
       "12  19041.0               67\n",
       "5   19003.0               56\n",
       "16  19072.0               36\n",
       "6   19004.0               34\n",
       "15  19066.0               29\n",
       "10  19035.0               27\n",
       "19  19085.0               18\n",
       "20  19087.0               17\n",
       "24  19103.0               13\n",
       "49  20814.0               11\n",
       "13  19063.0                6\n",
       "32  19333.0                6\n",
       "29  19146.0                5"
      ]
     },
     "execution_count": 267,
     "metadata": {},
     "output_type": "execute_result"
    }
   ],
   "source": [
    "## There are 12 zip codes with more than 10 donations.\n",
    "DV"
   ]
  },
  {
   "cell_type": "code",
   "execution_count": 268,
   "metadata": {},
   "outputs": [],
   "source": [
    "DV.set_index('zip',inplace=True)"
   ]
  },
  {
   "cell_type": "code",
   "execution_count": 269,
   "metadata": {},
   "outputs": [
    {
     "data": {
      "text/plain": [
       "Text(0, 0.5, 'Number of Donations')"
      ]
     },
     "execution_count": 269,
     "metadata": {},
     "output_type": "execute_result"
    },
    {
     "data": {
      "image/png": "[encoded data removed]",
      "text/plain": [
       "<Figure size 432x288 with 1 Axes>"
      ]
     },
     "metadata": {},
     "output_type": "display_data"
    }
   ],
   "source": [
    "plt.style.use('fivethirtyeight')\n",
    "DV['count_donations'].plot(kind='bar')\n",
    "plt.title(\"Zip Codes With More Than 4 Donations\")\n",
    "plt.xlabel(\"Zip Codes\")\n",
    "plt.ylabel(\"Number of Donations\")"
   ]
  },
  {
   "cell_type": "code",
   "execution_count": 270,
   "metadata": {},
   "outputs": [
    {
     "data": {
      "text/html": [
       "<div>\n",
       "<style scoped>\n",
       "    .dataframe tbody tr th:only-of-type {\n",
       "        vertical-align: middle;\n",
       "    }\n",
       "\n",
       "    .dataframe tbody tr th {\n",
       "        vertical-align: top;\n",
       "    }\n",
       "\n",
       "    .dataframe thead th {\n",
       "        text-align: right;\n",
       "    }\n",
       "</style>\n",
       "<table border=\"1\" class=\"dataframe\">\n",
       "  <thead>\n",
       "    <tr style=\"text-align: right;\">\n",
       "      <th></th>\n",
       "      <th>anon_donor_id</th>\n",
       "      <th>zip</th>\n",
       "      <th>amount</th>\n",
       "    </tr>\n",
       "  </thead>\n",
       "  <tbody>\n",
       "    <tr>\n",
       "      <th>count</th>\n",
       "      <td>612.000000</td>\n",
       "      <td>612.000000</td>\n",
       "      <td>612.000000</td>\n",
       "    </tr>\n",
       "    <tr>\n",
       "      <th>mean</th>\n",
       "      <td>537.398693</td>\n",
       "      <td>19515.142157</td>\n",
       "      <td>1463.710670</td>\n",
       "    </tr>\n",
       "    <tr>\n",
       "      <th>std</th>\n",
       "      <td>327.385354</td>\n",
       "      <td>6120.189385</td>\n",
       "      <td>3960.052147</td>\n",
       "    </tr>\n",
       "    <tr>\n",
       "      <th>min</th>\n",
       "      <td>5.000000</td>\n",
       "      <td>6824.000000</td>\n",
       "      <td>105.000000</td>\n",
       "    </tr>\n",
       "    <tr>\n",
       "      <th>25%</th>\n",
       "      <td>221.000000</td>\n",
       "      <td>19010.000000</td>\n",
       "      <td>200.000000</td>\n",
       "    </tr>\n",
       "    <tr>\n",
       "      <th>50%</th>\n",
       "      <td>559.000000</td>\n",
       "      <td>19041.000000</td>\n",
       "      <td>300.000000</td>\n",
       "    </tr>\n",
       "    <tr>\n",
       "      <th>75%</th>\n",
       "      <td>854.250000</td>\n",
       "      <td>19096.000000</td>\n",
       "      <td>1000.000000</td>\n",
       "    </tr>\n",
       "    <tr>\n",
       "      <th>max</th>\n",
       "      <td>1057.000000</td>\n",
       "      <td>95404.000000</td>\n",
       "      <td>50000.000000</td>\n",
       "    </tr>\n",
       "  </tbody>\n",
       "</table>\n",
       "</div>"
      ],
      "text/plain": [
       "       anon_donor_id           zip        amount\n",
       "count     612.000000    612.000000    612.000000\n",
       "mean      537.398693  19515.142157   1463.710670\n",
       "std       327.385354   6120.189385   3960.052147\n",
       "min         5.000000   6824.000000    105.000000\n",
       "25%       221.000000  19010.000000    200.000000\n",
       "50%       559.000000  19041.000000    300.000000\n",
       "75%       854.250000  19096.000000   1000.000000\n",
       "max      1057.000000  95404.000000  50000.000000"
      ]
     },
     "execution_count": 270,
     "metadata": {},
     "output_type": "execute_result"
    }
   ],
   "source": [
    "donations_data_clean_high.describe()"
   ]
  },
  {
   "cell_type": "code",
   "execution_count": 271,
   "metadata": {},
   "outputs": [],
   "source": [
    "don_amt_by_zip = donations_data_clean_high.groupby(['zip'])['amount'].sum().reset_index()"
   ]
  },
  {
   "cell_type": "code",
   "execution_count": 272,
   "metadata": {},
   "outputs": [],
   "source": [
    "DV2 = don_amt_by_zip.sort_values(by='amount', ascending=False)"
   ]
  },
  {
   "cell_type": "code",
   "execution_count": 273,
   "metadata": {},
   "outputs": [],
   "source": [
    "DV2 = DV2[DV2['amount']>10000]\n",
    "DV2.set_index('zip',inplace = True)"
   ]
  },
  {
   "cell_type": "code",
   "execution_count": 274,
   "metadata": {},
   "outputs": [
    {
     "data": {
      "text/html": [
       "<div>\n",
       "<style scoped>\n",
       "    .dataframe tbody tr th:only-of-type {\n",
       "        vertical-align: middle;\n",
       "    }\n",
       "\n",
       "    .dataframe tbody tr th {\n",
       "        vertical-align: top;\n",
       "    }\n",
       "\n",
       "    .dataframe thead th {\n",
       "        text-align: right;\n",
       "    }\n",
       "</style>\n",
       "<table border=\"1\" class=\"dataframe\">\n",
       "  <thead>\n",
       "    <tr style=\"text-align: right;\">\n",
       "      <th></th>\n",
       "      <th>amount</th>\n",
       "    </tr>\n",
       "    <tr>\n",
       "      <th>zip</th>\n",
       "      <th></th>\n",
       "    </tr>\n",
       "  </thead>\n",
       "  <tbody>\n",
       "    <tr>\n",
       "      <th>19010.0</th>\n",
       "      <td>184359.17</td>\n",
       "    </tr>\n",
       "    <tr>\n",
       "      <th>19003.0</th>\n",
       "      <td>157340.80</td>\n",
       "    </tr>\n",
       "    <tr>\n",
       "      <th>19101.0</th>\n",
       "      <td>100000.00</td>\n",
       "    </tr>\n",
       "    <tr>\n",
       "      <th>19428.0</th>\n",
       "      <td>60000.00</td>\n",
       "    </tr>\n",
       "    <tr>\n",
       "      <th>19096.0</th>\n",
       "      <td>59637.00</td>\n",
       "    </tr>\n",
       "    <tr>\n",
       "      <th>19107.0</th>\n",
       "      <td>45530.00</td>\n",
       "    </tr>\n",
       "    <tr>\n",
       "      <th>19041.0</th>\n",
       "      <td>42085.73</td>\n",
       "    </tr>\n",
       "    <tr>\n",
       "      <th>19035.0</th>\n",
       "      <td>28782.00</td>\n",
       "    </tr>\n",
       "    <tr>\n",
       "      <th>19004.0</th>\n",
       "      <td>23500.00</td>\n",
       "    </tr>\n",
       "    <tr>\n",
       "      <th>19103.0</th>\n",
       "      <td>20367.00</td>\n",
       "    </tr>\n",
       "    <tr>\n",
       "      <th>18103.0</th>\n",
       "      <td>20000.00</td>\n",
       "    </tr>\n",
       "    <tr>\n",
       "      <th>19422.0</th>\n",
       "      <td>20000.00</td>\n",
       "    </tr>\n",
       "    <tr>\n",
       "      <th>19085.0</th>\n",
       "      <td>16300.00</td>\n",
       "    </tr>\n",
       "    <tr>\n",
       "      <th>6824.0</th>\n",
       "      <td>15000.00</td>\n",
       "    </tr>\n",
       "    <tr>\n",
       "      <th>19072.0</th>\n",
       "      <td>14786.00</td>\n",
       "    </tr>\n",
       "    <tr>\n",
       "      <th>19087.0</th>\n",
       "      <td>12570.00</td>\n",
       "    </tr>\n",
       "    <tr>\n",
       "      <th>19066.0</th>\n",
       "      <td>11199.00</td>\n",
       "    </tr>\n",
       "  </tbody>\n",
       "</table>\n",
       "</div>"
      ],
      "text/plain": [
       "            amount\n",
       "zip               \n",
       "19010.0  184359.17\n",
       "19003.0  157340.80\n",
       "19101.0  100000.00\n",
       "19428.0   60000.00\n",
       "19096.0   59637.00\n",
       "19107.0   45530.00\n",
       "19041.0   42085.73\n",
       "19035.0   28782.00\n",
       "19004.0   23500.00\n",
       "19103.0   20367.00\n",
       "18103.0   20000.00\n",
       "19422.0   20000.00\n",
       "19085.0   16300.00\n",
       "6824.0    15000.00\n",
       "19072.0   14786.00\n",
       "19087.0   12570.00\n",
       "19066.0   11199.00"
      ]
     },
     "execution_count": 274,
     "metadata": {},
     "output_type": "execute_result"
    }
   ],
   "source": [
    "DV2"
   ]
  },
  {
   "cell_type": "code",
   "execution_count": 275,
   "metadata": {},
   "outputs": [
    {
     "data": {
      "text/plain": [
       "Text(0, 0.5, 'Total Donations Amount')"
      ]
     },
     "execution_count": 275,
     "metadata": {},
     "output_type": "execute_result"
    },
    {
     "data": {
      "image/png": "[encoded data removed]",
      "text/plain": [
       "<Figure size 432x288 with 1 Axes>"
      ]
     },
     "metadata": {},
     "output_type": "display_data"
    }
   ],
   "source": [
    "plt.style.use('fivethirtyeight')\n",
    "DV2['amount'].plot(kind='bar')\n",
    "plt.title(\"Zip Codes With Donations Over 10K\")\n",
    "plt.xlabel(\"Zip Codes\")\n",
    "plt.ylabel(\"Total Donations Amount\")"
   ]
  },
  {
   "cell_type": "code",
   "execution_count": 313,
   "metadata": {},
   "outputs": [
    {
     "data": {
      "text/plain": [
       "anon_ID                         int64\n",
       "assistance_date        datetime64[ns]\n",
       "assistance_category            object\n",
       "amount                          int64\n",
       "unit                           object\n",
       "dtype: object"
      ]
     },
     "execution_count": 313,
     "metadata": {},
     "output_type": "execute_result"
    }
   ],
   "source": [
    "pantry_data.head()\n",
    "pantry_data['assistance_date']=pd.to_datetime(pantry_data.assistance_date, infer_datetime_format=True)\n",
    "pantry_data.dtypes"
   ]
  },
  {
   "cell_type": "code",
   "execution_count": 321,
   "metadata": {},
   "outputs": [
    {
     "data": {
      "text/html": [
       "<div>\n",
       "<style scoped>\n",
       "    .dataframe tbody tr th:only-of-type {\n",
       "        vertical-align: middle;\n",
       "    }\n",
       "\n",
       "    .dataframe tbody tr th {\n",
       "        vertical-align: top;\n",
       "    }\n",
       "\n",
       "    .dataframe thead th {\n",
       "        text-align: right;\n",
       "    }\n",
       "</style>\n",
       "<table border=\"1\" class=\"dataframe\">\n",
       "  <thead>\n",
       "    <tr style=\"text-align: right;\">\n",
       "      <th></th>\n",
       "      <th>anon_ID</th>\n",
       "      <th>assistance_date</th>\n",
       "      <th>assistance_category</th>\n",
       "      <th>amount</th>\n",
       "      <th>unit</th>\n",
       "    </tr>\n",
       "  </thead>\n",
       "  <tbody>\n",
       "    <tr>\n",
       "      <th>6268</th>\n",
       "      <td>611</td>\n",
       "      <td>2021-09-07 14:15:00</td>\n",
       "      <td>Food Pantry: Food Pantry Poundage</td>\n",
       "      <td>25</td>\n",
       "      <td>Pounds</td>\n",
       "    </tr>\n",
       "    <tr>\n",
       "      <th>6269</th>\n",
       "      <td>516</td>\n",
       "      <td>2021-09-07 14:55:00</td>\n",
       "      <td>Food Pantry: Food Pantry Poundage</td>\n",
       "      <td>25</td>\n",
       "      <td>Pounds</td>\n",
       "    </tr>\n",
       "    <tr>\n",
       "      <th>6270</th>\n",
       "      <td>274</td>\n",
       "      <td>2021-09-07 15:00:00</td>\n",
       "      <td>Food Pantry: Food Pantry Poundage</td>\n",
       "      <td>25</td>\n",
       "      <td>Pounds</td>\n",
       "    </tr>\n",
       "    <tr>\n",
       "      <th>6271</th>\n",
       "      <td>524</td>\n",
       "      <td>2021-09-07 15:15:00</td>\n",
       "      <td>Food Pantry: Food Pantry Poundage</td>\n",
       "      <td>25</td>\n",
       "      <td>Pounds</td>\n",
       "    </tr>\n",
       "    <tr>\n",
       "      <th>6272</th>\n",
       "      <td>191</td>\n",
       "      <td>2021-09-09 14:25:00</td>\n",
       "      <td>Food Pantry: Food Pantry Poundage</td>\n",
       "      <td>25</td>\n",
       "      <td>Pounds</td>\n",
       "    </tr>\n",
       "  </tbody>\n",
       "</table>\n",
       "</div>"
      ],
      "text/plain": [
       "      anon_ID     assistance_date                assistance_category  amount  \\\n",
       "6268      611 2021-09-07 14:15:00  Food Pantry: Food Pantry Poundage      25   \n",
       "6269      516 2021-09-07 14:55:00  Food Pantry: Food Pantry Poundage      25   \n",
       "6270      274 2021-09-07 15:00:00  Food Pantry: Food Pantry Poundage      25   \n",
       "6271      524 2021-09-07 15:15:00  Food Pantry: Food Pantry Poundage      25   \n",
       "6272      191 2021-09-09 14:25:00  Food Pantry: Food Pantry Poundage      25   \n",
       "\n",
       "        unit  \n",
       "6268  Pounds  \n",
       "6269  Pounds  \n",
       "6270  Pounds  \n",
       "6271  Pounds  \n",
       "6272  Pounds  "
      ]
     },
     "execution_count": 321,
     "metadata": {},
     "output_type": "execute_result"
    }
   ],
   "source": [
    "pantry_data.tail()"
   ]
  },
  {
   "cell_type": "code",
   "execution_count": 325,
   "metadata": {},
   "outputs": [
    {
     "data": {
      "text/plain": [
       "assistance_category\n",
       "Food Pantry: Easter Outreach            109\n",
       "Food Pantry: Food Pantry Poundage    145370\n",
       "Food Pantry: Holiday Baskets          13220\n",
       "Name: amount, dtype: int64"
      ]
     },
     "execution_count": 325,
     "metadata": {},
     "output_type": "execute_result"
    }
   ],
   "source": [
    "pantry_data.groupby(['assistance_category'])['amount'].sum()"
   ]
  },
  {
   "cell_type": "code",
   "execution_count": 308,
   "metadata": {},
   "outputs": [
    {
     "data": {
      "text/html": [
       "<div>\n",
       "<style scoped>\n",
       "    .dataframe tbody tr th:only-of-type {\n",
       "        vertical-align: middle;\n",
       "    }\n",
       "\n",
       "    .dataframe tbody tr th {\n",
       "        vertical-align: top;\n",
       "    }\n",
       "\n",
       "    .dataframe thead th {\n",
       "        text-align: right;\n",
       "    }\n",
       "</style>\n",
       "<table border=\"1\" class=\"dataframe\">\n",
       "  <thead>\n",
       "    <tr style=\"text-align: right;\">\n",
       "      <th></th>\n",
       "      <th>anon_ID</th>\n",
       "      <th>county</th>\n",
       "      <th>poverty</th>\n",
       "      <th>minority</th>\n",
       "      <th>age_group</th>\n",
       "    </tr>\n",
       "  </thead>\n",
       "  <tbody>\n",
       "    <tr>\n",
       "      <th>0</th>\n",
       "      <td>1</td>\n",
       "      <td>Montgomery</td>\n",
       "      <td>No</td>\n",
       "      <td>NaN</td>\n",
       "      <td>P</td>\n",
       "    </tr>\n",
       "    <tr>\n",
       "      <th>1</th>\n",
       "      <td>2</td>\n",
       "      <td>Montgomery</td>\n",
       "      <td>No</td>\n",
       "      <td>No</td>\n",
       "      <td>D</td>\n",
       "    </tr>\n",
       "    <tr>\n",
       "      <th>2</th>\n",
       "      <td>3</td>\n",
       "      <td>Montgomery</td>\n",
       "      <td>No</td>\n",
       "      <td>No</td>\n",
       "      <td>P</td>\n",
       "    </tr>\n",
       "    <tr>\n",
       "      <th>3</th>\n",
       "      <td>5</td>\n",
       "      <td>Montgomery</td>\n",
       "      <td>No</td>\n",
       "      <td>NaN</td>\n",
       "      <td>G</td>\n",
       "    </tr>\n",
       "    <tr>\n",
       "      <th>4</th>\n",
       "      <td>6</td>\n",
       "      <td>Montgomery</td>\n",
       "      <td>Yes</td>\n",
       "      <td>NaN</td>\n",
       "      <td>NaN</td>\n",
       "    </tr>\n",
       "  </tbody>\n",
       "</table>\n",
       "</div>"
      ],
      "text/plain": [
       "   anon_ID      county poverty minority age_group\n",
       "0        1  Montgomery      No      NaN         P\n",
       "1        2  Montgomery      No       No         D\n",
       "2        3  Montgomery      No       No         P\n",
       "3        5  Montgomery      No      NaN         G\n",
       "4        6  Montgomery     Yes      NaN       NaN"
      ]
     },
     "execution_count": 308,
     "metadata": {},
     "output_type": "execute_result"
    }
   ],
   "source": [
    "client_info_data.head()"
   ]
  },
  {
   "cell_type": "markdown",
   "metadata": {},
   "source": [
    "## Code added by PB ends above"
   ]
  },
  {
   "cell_type": "code",
   "execution_count": 276,
   "metadata": {},
   "outputs": [
    {
     "data": {
      "text/html": [
       "<div>\n",
       "<style scoped>\n",
       "    .dataframe tbody tr th:only-of-type {\n",
       "        vertical-align: middle;\n",
       "    }\n",
       "\n",
       "    .dataframe tbody tr th {\n",
       "        vertical-align: top;\n",
       "    }\n",
       "\n",
       "    .dataframe thead th {\n",
       "        text-align: right;\n",
       "    }\n",
       "</style>\n",
       "<table border=\"1\" class=\"dataframe\">\n",
       "  <thead>\n",
       "    <tr style=\"text-align: right;\">\n",
       "      <th></th>\n",
       "      <th>anon_ID</th>\n",
       "      <th>assistance_date</th>\n",
       "      <th>assistance_category</th>\n",
       "      <th>amount</th>\n",
       "      <th>unit</th>\n",
       "      <th>CommType</th>\n",
       "      <th>Party</th>\n",
       "      <th>InitiatedBy</th>\n",
       "      <th>Benefit_1</th>\n",
       "      <th>Assistance_1</th>\n",
       "      <th>Benefit_2</th>\n",
       "      <th>Assistance_2</th>\n",
       "      <th>Benefit_3</th>\n",
       "      <th>Assistance_3</th>\n",
       "    </tr>\n",
       "  </thead>\n",
       "  <tbody>\n",
       "    <tr>\n",
       "      <th>0</th>\n",
       "      <td>531</td>\n",
       "      <td>2019-01-01 12:50:00</td>\n",
       "      <td>Remote Contact with client (phone, email)</td>\n",
       "      <td>2.0</td>\n",
       "      <td>Minutes</td>\n",
       "      <td>NaN</td>\n",
       "      <td>NaN</td>\n",
       "      <td>NaN</td>\n",
       "      <td>NaN</td>\n",
       "      <td>NaN</td>\n",
       "      <td>NaN</td>\n",
       "      <td>NaN</td>\n",
       "      <td>NaN</td>\n",
       "      <td>NaN</td>\n",
       "    </tr>\n",
       "    <tr>\n",
       "      <th>1</th>\n",
       "      <td>531</td>\n",
       "      <td>2019-01-02 07:30:00</td>\n",
       "      <td>Remote Contact with client (phone, email)</td>\n",
       "      <td>2.0</td>\n",
       "      <td>Minutes</td>\n",
       "      <td>NaN</td>\n",
       "      <td>NaN</td>\n",
       "      <td>NaN</td>\n",
       "      <td>NaN</td>\n",
       "      <td>NaN</td>\n",
       "      <td>NaN</td>\n",
       "      <td>NaN</td>\n",
       "      <td>NaN</td>\n",
       "      <td>NaN</td>\n",
       "    </tr>\n",
       "    <tr>\n",
       "      <th>2</th>\n",
       "      <td>581</td>\n",
       "      <td>2019-01-02 09:50:00</td>\n",
       "      <td>Remote Contact with client (phone, email)</td>\n",
       "      <td>14.0</td>\n",
       "      <td>Minutes</td>\n",
       "      <td>NaN</td>\n",
       "      <td>NaN</td>\n",
       "      <td>NaN</td>\n",
       "      <td>NaN</td>\n",
       "      <td>NaN</td>\n",
       "      <td>NaN</td>\n",
       "      <td>NaN</td>\n",
       "      <td>NaN</td>\n",
       "      <td>NaN</td>\n",
       "    </tr>\n",
       "    <tr>\n",
       "      <th>3</th>\n",
       "      <td>337</td>\n",
       "      <td>2019-01-02 10:10:00</td>\n",
       "      <td>Remote Contact with client (phone, email)</td>\n",
       "      <td>1.0</td>\n",
       "      <td>Minutes</td>\n",
       "      <td>NaN</td>\n",
       "      <td>NaN</td>\n",
       "      <td>NaN</td>\n",
       "      <td>NaN</td>\n",
       "      <td>NaN</td>\n",
       "      <td>NaN</td>\n",
       "      <td>NaN</td>\n",
       "      <td>NaN</td>\n",
       "      <td>NaN</td>\n",
       "    </tr>\n",
       "    <tr>\n",
       "      <th>4</th>\n",
       "      <td>254</td>\n",
       "      <td>2019-01-02 10:15:00</td>\n",
       "      <td>Remote Contact with client (phone, email)</td>\n",
       "      <td>1.0</td>\n",
       "      <td>Minutes</td>\n",
       "      <td>NaN</td>\n",
       "      <td>NaN</td>\n",
       "      <td>NaN</td>\n",
       "      <td>NaN</td>\n",
       "      <td>NaN</td>\n",
       "      <td>NaN</td>\n",
       "      <td>NaN</td>\n",
       "      <td>NaN</td>\n",
       "      <td>NaN</td>\n",
       "    </tr>\n",
       "    <tr>\n",
       "      <th>...</th>\n",
       "      <td>...</td>\n",
       "      <td>...</td>\n",
       "      <td>...</td>\n",
       "      <td>...</td>\n",
       "      <td>...</td>\n",
       "      <td>...</td>\n",
       "      <td>...</td>\n",
       "      <td>...</td>\n",
       "      <td>...</td>\n",
       "      <td>...</td>\n",
       "      <td>...</td>\n",
       "      <td>...</td>\n",
       "      <td>...</td>\n",
       "      <td>...</td>\n",
       "    </tr>\n",
       "    <tr>\n",
       "      <th>12482</th>\n",
       "      <td>434</td>\n",
       "      <td>2021-09-13 11:40:00</td>\n",
       "      <td>Remote Contact w/o client</td>\n",
       "      <td>1.0</td>\n",
       "      <td>Minutes</td>\n",
       "      <td>Call</td>\n",
       "      <td>Client</td>\n",
       "      <td>ElderNet</td>\n",
       "      <td>ElderNet</td>\n",
       "      <td>Coordination</td>\n",
       "      <td>NaN</td>\n",
       "      <td>NaN</td>\n",
       "      <td>NaN</td>\n",
       "      <td>NaN</td>\n",
       "    </tr>\n",
       "    <tr>\n",
       "      <th>12483</th>\n",
       "      <td>502</td>\n",
       "      <td>2021-09-15 09:35:00</td>\n",
       "      <td>Remote Contact with client (phone, email)</td>\n",
       "      <td>7.0</td>\n",
       "      <td>Minutes</td>\n",
       "      <td>Call</td>\n",
       "      <td>Client</td>\n",
       "      <td>Other Party</td>\n",
       "      <td>NaN</td>\n",
       "      <td>NaN</td>\n",
       "      <td>NaN</td>\n",
       "      <td>NaN</td>\n",
       "      <td>NaN</td>\n",
       "      <td>NaN</td>\n",
       "    </tr>\n",
       "    <tr>\n",
       "      <th>12484</th>\n",
       "      <td>30</td>\n",
       "      <td>2021-09-15 10:55:00</td>\n",
       "      <td>Remote Contact with client (phone, email)</td>\n",
       "      <td>18.0</td>\n",
       "      <td>Minutes</td>\n",
       "      <td>Call</td>\n",
       "      <td>Client</td>\n",
       "      <td>ElderNet</td>\n",
       "      <td>Food</td>\n",
       "      <td>Coordination</td>\n",
       "      <td>NaN</td>\n",
       "      <td>NaN</td>\n",
       "      <td>NaN</td>\n",
       "      <td>NaN</td>\n",
       "    </tr>\n",
       "    <tr>\n",
       "      <th>12485</th>\n",
       "      <td>406</td>\n",
       "      <td>2021-09-15 14:05:00</td>\n",
       "      <td>Remote Contact w/o client</td>\n",
       "      <td>1.0</td>\n",
       "      <td>Minutes</td>\n",
       "      <td>Call</td>\n",
       "      <td>Client</td>\n",
       "      <td>ElderNet</td>\n",
       "      <td>ElderNet</td>\n",
       "      <td>Coordination</td>\n",
       "      <td>NaN</td>\n",
       "      <td>NaN</td>\n",
       "      <td>NaN</td>\n",
       "      <td>NaN</td>\n",
       "    </tr>\n",
       "    <tr>\n",
       "      <th>12486</th>\n",
       "      <td>512</td>\n",
       "      <td>2021-09-15 18:05:00</td>\n",
       "      <td>Remote Contact with client (phone, email)</td>\n",
       "      <td>10.0</td>\n",
       "      <td>Minutes</td>\n",
       "      <td>Call</td>\n",
       "      <td>Client</td>\n",
       "      <td>Other Party</td>\n",
       "      <td>Housing</td>\n",
       "      <td>Information</td>\n",
       "      <td>NaN</td>\n",
       "      <td>NaN</td>\n",
       "      <td>NaN</td>\n",
       "      <td>NaN</td>\n",
       "    </tr>\n",
       "  </tbody>\n",
       "</table>\n",
       "<p>12487 rows × 14 columns</p>\n",
       "</div>"
      ],
      "text/plain": [
       "       anon_ID      assistance_date  \\\n",
       "0          531  2019-01-01 12:50:00   \n",
       "1          531  2019-01-02 07:30:00   \n",
       "2          581  2019-01-02 09:50:00   \n",
       "3          337  2019-01-02 10:10:00   \n",
       "4          254  2019-01-02 10:15:00   \n",
       "...        ...                  ...   \n",
       "12482      434  2021-09-13 11:40:00   \n",
       "12483      502  2021-09-15 09:35:00   \n",
       "12484       30  2021-09-15 10:55:00   \n",
       "12485      406  2021-09-15 14:05:00   \n",
       "12486      512  2021-09-15 18:05:00   \n",
       "\n",
       "                             assistance_category  amount     unit CommType  \\\n",
       "0      Remote Contact with client (phone, email)     2.0  Minutes      NaN   \n",
       "1      Remote Contact with client (phone, email)     2.0  Minutes      NaN   \n",
       "2      Remote Contact with client (phone, email)    14.0  Minutes      NaN   \n",
       "3      Remote Contact with client (phone, email)     1.0  Minutes      NaN   \n",
       "4      Remote Contact with client (phone, email)     1.0  Minutes      NaN   \n",
       "...                                          ...     ...      ...      ...   \n",
       "12482                  Remote Contact w/o client     1.0  Minutes     Call   \n",
       "12483  Remote Contact with client (phone, email)     7.0  Minutes     Call   \n",
       "12484  Remote Contact with client (phone, email)    18.0  Minutes     Call   \n",
       "12485                  Remote Contact w/o client     1.0  Minutes     Call   \n",
       "12486  Remote Contact with client (phone, email)    10.0  Minutes     Call   \n",
       "\n",
       "        Party  InitiatedBy Benefit_1  Assistance_1 Benefit_2 Assistance_2  \\\n",
       "0         NaN          NaN       NaN           NaN       NaN          NaN   \n",
       "1         NaN          NaN       NaN           NaN       NaN          NaN   \n",
       "2         NaN          NaN       NaN           NaN       NaN          NaN   \n",
       "3         NaN          NaN       NaN           NaN       NaN          NaN   \n",
       "4         NaN          NaN       NaN           NaN       NaN          NaN   \n",
       "...       ...          ...       ...           ...       ...          ...   \n",
       "12482  Client     ElderNet  ElderNet  Coordination       NaN          NaN   \n",
       "12483  Client  Other Party       NaN           NaN       NaN          NaN   \n",
       "12484  Client     ElderNet      Food  Coordination       NaN          NaN   \n",
       "12485  Client     ElderNet  ElderNet  Coordination       NaN          NaN   \n",
       "12486  Client  Other Party   Housing   Information       NaN          NaN   \n",
       "\n",
       "      Benefit_3 Assistance_3  \n",
       "0           NaN          NaN  \n",
       "1           NaN          NaN  \n",
       "2           NaN          NaN  \n",
       "3           NaN          NaN  \n",
       "4           NaN          NaN  \n",
       "...         ...          ...  \n",
       "12482       NaN          NaN  \n",
       "12483       NaN          NaN  \n",
       "12484       NaN          NaN  \n",
       "12485       NaN          NaN  \n",
       "12486       NaN          NaN  \n",
       "\n",
       "[12487 rows x 14 columns]"
      ]
     },
     "execution_count": 276,
     "metadata": {},
     "output_type": "execute_result"
    }
   ],
   "source": [
    "care_management_data"
   ]
  },
  {
   "cell_type": "code",
   "execution_count": 277,
   "metadata": {},
   "outputs": [
    {
     "data": {
      "text/plain": [
       "anon_ID                    0\n",
       "assistance_date            0\n",
       "assistance_category        0\n",
       "amount                     0\n",
       "unit                       0\n",
       "CommType                7819\n",
       "Party                   7812\n",
       "InitiatedBy             7842\n",
       "Benefit_1               8427\n",
       "Assistance_1            8361\n",
       "Benefit_2              11896\n",
       "Assistance_2           11899\n",
       "Benefit_3              12403\n",
       "Assistance_3           12404\n",
       "dtype: int64"
      ]
     },
     "execution_count": 277,
     "metadata": {},
     "output_type": "execute_result"
    }
   ],
   "source": [
    "care_management_data.isna().sum()"
   ]
  },
  {
   "cell_type": "code",
   "execution_count": 278,
   "metadata": {},
   "outputs": [
    {
     "data": {
      "text/plain": [
       "(12487, 14)"
      ]
     },
     "execution_count": 278,
     "metadata": {},
     "output_type": "execute_result"
    }
   ],
   "source": [
    "care_management_data.shape"
   ]
  },
  {
   "cell_type": "code",
   "execution_count": 279,
   "metadata": {},
   "outputs": [
    {
     "data": {
      "text/plain": [
       "Index(['assistance_date', 'assistance_category', 'unit', 'CommType', 'Party',\n",
       "       'InitiatedBy', 'Benefit_1', 'Assistance_1', 'Benefit_2', 'Assistance_2',\n",
       "       'Benefit_3', 'Assistance_3'],\n",
       "      dtype='object')"
      ]
     },
     "execution_count": 279,
     "metadata": {},
     "output_type": "execute_result"
    }
   ],
   "source": [
    "care_management_data.select_dtypes(include=['object']).columns"
   ]
  },
  {
   "cell_type": "code",
   "execution_count": 280,
   "metadata": {},
   "outputs": [],
   "source": [
    "care_management_data_grouped_1 = care_management_data.groupby(by=['anon_ID','assistance_category','unit', 'CommType','Party','InitiatedBy','Benefit_1','Assistance_1','Benefit_2','Assistance_2','Benefit_3','Assistance_3'], dropna=False).sum().reset_index()\n",
    "care_management_data_grouped_1"
   ]
  },
  {
   "cell_type": "code",
   "execution_count": 281,
   "metadata": {},
   "outputs": [],
   "source": [
    "care_management_data_grouped_1['anon_ID'].unique()"
   ]
  },
  {
   "cell_type": "code",
   "execution_count": 282,
   "metadata": {},
   "outputs": [],
   "source": [
    "client_info_data['anon_ID'].unique().count()"
   ]
  },
  {
   "cell_type": "code",
   "execution_count": 283,
   "metadata": {},
   "outputs": [
    {
     "data": {
      "text/plain": [
       "490"
      ]
     },
     "execution_count": 283,
     "metadata": {},
     "output_type": "execute_result"
    }
   ],
   "source": [
    "care_management_data['anon_ID'].unique().size"
   ]
  },
  {
   "cell_type": "code",
   "execution_count": 284,
   "metadata": {},
   "outputs": [
    {
     "data": {
      "text/plain": [
       "641"
      ]
     },
     "execution_count": 284,
     "metadata": {},
     "output_type": "execute_result"
    }
   ],
   "source": [
    "client_info_data['anon_ID'].unique().size"
   ]
  },
  {
   "cell_type": "code",
   "execution_count": 285,
   "metadata": {},
   "outputs": [],
   "source": [
    "care_management_data_grouped_1['anon_ID'].unique().size"
   ]
  },
  {
   "cell_type": "code",
   "execution_count": 286,
   "metadata": {},
   "outputs": [
    {
     "data": {
      "text/plain": [
       "array([nan, 'Client', 'Service Provider', 'ElderNet', 'Family', 'Other',\n",
       "       'Social Worker', 'Friend', 'Eldernet', 'Care Coordinator',\n",
       "       'Care Manager', 'Clinet'], dtype=object)"
      ]
     },
     "execution_count": 286,
     "metadata": {},
     "output_type": "execute_result"
    }
   ],
   "source": [
    "care_management_data['Party'].unique()"
   ]
  },
  {
   "cell_type": "code",
   "execution_count": 287,
   "metadata": {},
   "outputs": [
    {
     "data": {
      "text/plain": [
       "array([nan, 'Text Message', 'Email', 'Voice Message', 'Call', 'Mail',\n",
       "       'In Person', 'Video Call', ' '], dtype=object)"
      ]
     },
     "execution_count": 287,
     "metadata": {},
     "output_type": "execute_result"
    }
   ],
   "source": [
    "care_management_data['CommType'].unique()"
   ]
  },
  {
   "cell_type": "code",
   "execution_count": 288,
   "metadata": {},
   "outputs": [
    {
     "data": {
      "text/plain": [
       "array([nan, 'Information', 'Coordination', 'Support', 'Filing',\n",
       "       'Enrollment', 'Referral', 'Continuation', 'Medical',\n",
       "       'coordination', 'Facilitation'], dtype=object)"
      ]
     },
     "execution_count": 288,
     "metadata": {},
     "output_type": "execute_result"
    }
   ],
   "source": [
    "care_management_data['Assistance_1'].unique()"
   ]
  },
  {
   "cell_type": "code",
   "execution_count": 289,
   "metadata": {},
   "outputs": [
    {
     "data": {
      "text/plain": [
       "array([nan, 'Coordination', 'Information', 'Referral', 'Support',\n",
       "       'Enrollment', 'Continuation', 'Filing', 'ElderNet'], dtype=object)"
      ]
     },
     "execution_count": 289,
     "metadata": {},
     "output_type": "execute_result"
    }
   ],
   "source": [
    "care_management_data['Assistance_2'].unique()"
   ]
  },
  {
   "cell_type": "code",
   "execution_count": 290,
   "metadata": {},
   "outputs": [
    {
     "data": {
      "text/plain": [
       "array([nan, 'Support', 'Information', 'Coordination', 'Enrollment',\n",
       "       'Referral', 'Filing', 'Continuation'], dtype=object)"
      ]
     },
     "execution_count": 290,
     "metadata": {},
     "output_type": "execute_result"
    }
   ],
   "source": [
    "care_management_data['Assistance_3'].unique()"
   ]
  },
  {
   "cell_type": "code",
   "execution_count": 291,
   "metadata": {},
   "outputs": [
    {
     "data": {
      "text/plain": [
       "array([nan, 'ADL', 'Legal', 'Food', 'Medical', 'Financial', 'Safety',\n",
       "       'ElderNet', 'Housing', 'Utilities', 'Eldernet',\n",
       "       'Telecommunication', 'Transportation', 'Telecommunications',\n",
       "       'Social', 'Coordination'], dtype=object)"
      ]
     },
     "execution_count": 291,
     "metadata": {},
     "output_type": "execute_result"
    }
   ],
   "source": [
    "care_management_data['Benefit_2'].unique()"
   ]
  },
  {
   "cell_type": "code",
   "execution_count": 292,
   "metadata": {},
   "outputs": [],
   "source": [
    "import seaborn as sns"
   ]
  },
  {
   "cell_type": "code",
   "execution_count": 293,
   "metadata": {},
   "outputs": [
    {
     "data": {
      "text/plain": [
       "<matplotlib.axes._subplots.AxesSubplot at 0x1bcef9a3e48>"
      ]
     },
     "execution_count": 293,
     "metadata": {},
     "output_type": "execute_result"
    },
    {
     "data": {
      "image/png": "[encoded data removed]",
      "text/plain": [
       "<Figure size 432x288 with 1 Axes>"
      ]
     },
     "metadata": {},
     "output_type": "display_data"
    }
   ],
   "source": [
    "sns.countplot(x='CommType', data = care_management_data)"
   ]
  },
  {
   "cell_type": "code",
   "execution_count": 294,
   "metadata": {},
   "outputs": [
    {
     "data": {
      "text/plain": [
       "<matplotlib.axes._subplots.AxesSubplot at 0x1bcefa0c6c8>"
      ]
     },
     "execution_count": 294,
     "metadata": {},
     "output_type": "execute_result"
    },
    {
     "data": {
      "image/png": "[encoded data removed]",
      "text/plain": [
       "<Figure size 432x288 with 1 Axes>"
      ]
     },
     "metadata": {},
     "output_type": "display_data"
    }
   ],
   "source": [
    "sns.countplot(x='assistance_category', data = care_management_data)"
   ]
  },
  {
   "cell_type": "code",
   "execution_count": 295,
   "metadata": {},
   "outputs": [
    {
     "data": {
      "text/plain": [
       "<matplotlib.axes._subplots.AxesSubplot at 0x1bcefa55e88>"
      ]
     },
     "execution_count": 295,
     "metadata": {},
     "output_type": "execute_result"
    },
    {
     "data": {
      "image/png": "[encoded data removed]",
      "text/plain": [
       "<Figure size 432x288 with 1 Axes>"
      ]
     },
     "metadata": {},
     "output_type": "display_data"
    }
   ],
   "source": [
    "sns.countplot(x='Assistance_1', data = care_management_data)"
   ]
  },
  {
   "cell_type": "code",
   "execution_count": 296,
   "metadata": {},
   "outputs": [
    {
     "data": {
      "text/plain": [
       "<matplotlib.axes._subplots.AxesSubplot at 0x1bcefac9708>"
      ]
     },
     "execution_count": 296,
     "metadata": {},
     "output_type": "execute_result"
    },
    {
     "data": {
      "image/png": "[encoded data removed]",
      "text/plain": [
       "<Figure size 432x288 with 1 Axes>"
      ]
     },
     "metadata": {},
     "output_type": "display_data"
    }
   ],
   "source": [
    "sns.countplot(x='Benefit_1', data = care_management_data)"
   ]
  },
  {
   "cell_type": "code",
   "execution_count": 297,
   "metadata": {},
   "outputs": [
    {
     "data": {
      "text/plain": [
       "<matplotlib.axes._subplots.AxesSubplot at 0x1bcefb88208>"
      ]
     },
     "execution_count": 297,
     "metadata": {},
     "output_type": "execute_result"
    },
    {
     "data": {
      "image/png": "[encoded data removed]",
      "text/plain": [
       "<Figure size 432x288 with 1 Axes>"
      ]
     },
     "metadata": {},
     "output_type": "display_data"
    }
   ],
   "source": [
    "sns.countplot(x='Assistance_2', data = care_management_data)"
   ]
  },
  {
   "cell_type": "code",
   "execution_count": 298,
   "metadata": {},
   "outputs": [
    {
     "data": {
      "text/plain": [
       "<matplotlib.axes._subplots.AxesSubplot at 0x1bcefbfe248>"
      ]
     },
     "execution_count": 298,
     "metadata": {},
     "output_type": "execute_result"
    },
    {
     "data": {
      "image/png": "[encoded data removed]",
      "text/plain": [
       "<Figure size 432x288 with 1 Axes>"
      ]
     },
     "metadata": {},
     "output_type": "display_data"
    }
   ],
   "source": [
    "sns.countplot(x='Benefit_2', data = care_management_data)"
   ]
  },
  {
   "cell_type": "code",
   "execution_count": 299,
   "metadata": {},
   "outputs": [
    {
     "data": {
      "text/plain": [
       "<matplotlib.axes._subplots.AxesSubplot at 0x1bcefc9a748>"
      ]
     },
     "execution_count": 299,
     "metadata": {},
     "output_type": "execute_result"
    },
    {
     "data": {
      "image/png": "[encoded data removed]",
      "text/plain": [
       "<Figure size 432x288 with 1 Axes>"
      ]
     },
     "metadata": {},
     "output_type": "display_data"
    }
   ],
   "source": [
    "sns.countplot(x='Benefit_3', data = care_management_data)"
   ]
  },
  {
   "cell_type": "code",
   "execution_count": 300,
   "metadata": {},
   "outputs": [
    {
     "data": {
      "text/plain": [
       "<matplotlib.axes._subplots.AxesSubplot at 0x1bcefd1e608>"
      ]
     },
     "execution_count": 300,
     "metadata": {},
     "output_type": "execute_result"
    },
    {
     "data": {
      "image/png": "[encoded data removed]",
      "text/plain": [
       "<Figure size 432x288 with 1 Axes>"
      ]
     },
     "metadata": {},
     "output_type": "display_data"
    }
   ],
   "source": [
    "sns.countplot(x='Assistance_3', data = care_management_data)"
   ]
  },
  {
   "cell_type": "code",
   "execution_count": 301,
   "metadata": {},
   "outputs": [
    {
     "data": {
      "text/html": [
       "<div>\n",
       "<style scoped>\n",
       "    .dataframe tbody tr th:only-of-type {\n",
       "        vertical-align: middle;\n",
       "    }\n",
       "\n",
       "    .dataframe tbody tr th {\n",
       "        vertical-align: top;\n",
       "    }\n",
       "\n",
       "    .dataframe thead th {\n",
       "        text-align: right;\n",
       "    }\n",
       "</style>\n",
       "<table border=\"1\" class=\"dataframe\">\n",
       "  <thead>\n",
       "    <tr style=\"text-align: right;\">\n",
       "      <th></th>\n",
       "      <th>anon_ID</th>\n",
       "      <th>assistance_date</th>\n",
       "      <th>assistance_category</th>\n",
       "      <th>amount</th>\n",
       "      <th>unit</th>\n",
       "      <th>CommType</th>\n",
       "      <th>Party</th>\n",
       "      <th>InitiatedBy</th>\n",
       "      <th>Benefit_1</th>\n",
       "      <th>Assistance_1</th>\n",
       "      <th>Benefit_2</th>\n",
       "      <th>Assistance_2</th>\n",
       "      <th>Benefit_3</th>\n",
       "      <th>Assistance_3</th>\n",
       "    </tr>\n",
       "  </thead>\n",
       "  <tbody>\n",
       "    <tr>\n",
       "      <th>2483</th>\n",
       "      <td>168</td>\n",
       "      <td>2019-06-12 13:20:00</td>\n",
       "      <td>Community</td>\n",
       "      <td>183.0</td>\n",
       "      <td>Minutes</td>\n",
       "      <td>NaN</td>\n",
       "      <td>NaN</td>\n",
       "      <td>NaN</td>\n",
       "      <td>NaN</td>\n",
       "      <td>NaN</td>\n",
       "      <td>NaN</td>\n",
       "      <td>NaN</td>\n",
       "      <td>NaN</td>\n",
       "      <td>NaN</td>\n",
       "    </tr>\n",
       "    <tr>\n",
       "      <th>2614</th>\n",
       "      <td>382</td>\n",
       "      <td>2019-06-20 08:15:00</td>\n",
       "      <td>Community</td>\n",
       "      <td>180.0</td>\n",
       "      <td>Minutes</td>\n",
       "      <td>NaN</td>\n",
       "      <td>NaN</td>\n",
       "      <td>NaN</td>\n",
       "      <td>NaN</td>\n",
       "      <td>NaN</td>\n",
       "      <td>NaN</td>\n",
       "      <td>NaN</td>\n",
       "      <td>NaN</td>\n",
       "      <td>NaN</td>\n",
       "    </tr>\n",
       "    <tr>\n",
       "      <th>6735</th>\n",
       "      <td>139</td>\n",
       "      <td>2020-02-26 09:05:00</td>\n",
       "      <td>Home Visit</td>\n",
       "      <td>170.0</td>\n",
       "      <td>Minutes</td>\n",
       "      <td>NaN</td>\n",
       "      <td>NaN</td>\n",
       "      <td>NaN</td>\n",
       "      <td>NaN</td>\n",
       "      <td>NaN</td>\n",
       "      <td>NaN</td>\n",
       "      <td>NaN</td>\n",
       "      <td>NaN</td>\n",
       "      <td>NaN</td>\n",
       "    </tr>\n",
       "    <tr>\n",
       "      <th>1396</th>\n",
       "      <td>626</td>\n",
       "      <td>2019-04-04 13:50:00</td>\n",
       "      <td>Home Visit</td>\n",
       "      <td>170.0</td>\n",
       "      <td>Minutes</td>\n",
       "      <td>NaN</td>\n",
       "      <td>NaN</td>\n",
       "      <td>NaN</td>\n",
       "      <td>NaN</td>\n",
       "      <td>NaN</td>\n",
       "      <td>NaN</td>\n",
       "      <td>NaN</td>\n",
       "      <td>NaN</td>\n",
       "      <td>NaN</td>\n",
       "    </tr>\n",
       "    <tr>\n",
       "      <th>12180</th>\n",
       "      <td>127</td>\n",
       "      <td>2021-07-19 09:20:00</td>\n",
       "      <td>Community</td>\n",
       "      <td>160.0</td>\n",
       "      <td>Minutes</td>\n",
       "      <td>NaN</td>\n",
       "      <td>NaN</td>\n",
       "      <td>NaN</td>\n",
       "      <td>NaN</td>\n",
       "      <td>NaN</td>\n",
       "      <td>NaN</td>\n",
       "      <td>NaN</td>\n",
       "      <td>NaN</td>\n",
       "      <td>NaN</td>\n",
       "    </tr>\n",
       "    <tr>\n",
       "      <th>...</th>\n",
       "      <td>...</td>\n",
       "      <td>...</td>\n",
       "      <td>...</td>\n",
       "      <td>...</td>\n",
       "      <td>...</td>\n",
       "      <td>...</td>\n",
       "      <td>...</td>\n",
       "      <td>...</td>\n",
       "      <td>...</td>\n",
       "      <td>...</td>\n",
       "      <td>...</td>\n",
       "      <td>...</td>\n",
       "      <td>...</td>\n",
       "      <td>...</td>\n",
       "    </tr>\n",
       "    <tr>\n",
       "      <th>4082</th>\n",
       "      <td>314</td>\n",
       "      <td>2019-09-27 13:25:00</td>\n",
       "      <td>Remote Contact with client (phone, email)</td>\n",
       "      <td>1.0</td>\n",
       "      <td>Minutes</td>\n",
       "      <td>NaN</td>\n",
       "      <td>NaN</td>\n",
       "      <td>NaN</td>\n",
       "      <td>NaN</td>\n",
       "      <td>NaN</td>\n",
       "      <td>NaN</td>\n",
       "      <td>NaN</td>\n",
       "      <td>NaN</td>\n",
       "      <td>NaN</td>\n",
       "    </tr>\n",
       "    <tr>\n",
       "      <th>8624</th>\n",
       "      <td>168</td>\n",
       "      <td>2020-06-18 12:20:00</td>\n",
       "      <td>Remote Contact w/o client</td>\n",
       "      <td>1.0</td>\n",
       "      <td>Minutes</td>\n",
       "      <td>Voice Message</td>\n",
       "      <td>Social Worker</td>\n",
       "      <td>ElderNet</td>\n",
       "      <td>Medical</td>\n",
       "      <td>Coordination</td>\n",
       "      <td>NaN</td>\n",
       "      <td>NaN</td>\n",
       "      <td>NaN</td>\n",
       "      <td>NaN</td>\n",
       "    </tr>\n",
       "    <tr>\n",
       "      <th>8622</th>\n",
       "      <td>588</td>\n",
       "      <td>2020-06-18 12:10:00</td>\n",
       "      <td>Remote Contact w/o client</td>\n",
       "      <td>1.0</td>\n",
       "      <td>Minutes</td>\n",
       "      <td>Email</td>\n",
       "      <td>Family</td>\n",
       "      <td>ElderNet</td>\n",
       "      <td>NaN</td>\n",
       "      <td>NaN</td>\n",
       "      <td>NaN</td>\n",
       "      <td>NaN</td>\n",
       "      <td>NaN</td>\n",
       "      <td>NaN</td>\n",
       "    </tr>\n",
       "    <tr>\n",
       "      <th>8620</th>\n",
       "      <td>11</td>\n",
       "      <td>2020-06-18 12:00:00</td>\n",
       "      <td>Remote Contact with client (phone, email)</td>\n",
       "      <td>1.0</td>\n",
       "      <td>Minutes</td>\n",
       "      <td>Call</td>\n",
       "      <td>Client</td>\n",
       "      <td>ElderNet</td>\n",
       "      <td>ElderNet</td>\n",
       "      <td>Coordination</td>\n",
       "      <td>NaN</td>\n",
       "      <td>NaN</td>\n",
       "      <td>NaN</td>\n",
       "      <td>NaN</td>\n",
       "    </tr>\n",
       "    <tr>\n",
       "      <th>6243</th>\n",
       "      <td>527</td>\n",
       "      <td>2020-01-29 14:50:00</td>\n",
       "      <td>Remote Contact with client (phone, email)</td>\n",
       "      <td>1.0</td>\n",
       "      <td>Minutes</td>\n",
       "      <td>NaN</td>\n",
       "      <td>NaN</td>\n",
       "      <td>NaN</td>\n",
       "      <td>NaN</td>\n",
       "      <td>NaN</td>\n",
       "      <td>NaN</td>\n",
       "      <td>NaN</td>\n",
       "      <td>NaN</td>\n",
       "      <td>NaN</td>\n",
       "    </tr>\n",
       "  </tbody>\n",
       "</table>\n",
       "<p>12487 rows × 14 columns</p>\n",
       "</div>"
      ],
      "text/plain": [
       "       anon_ID      assistance_date  \\\n",
       "2483       168  2019-06-12 13:20:00   \n",
       "2614       382  2019-06-20 08:15:00   \n",
       "6735       139  2020-02-26 09:05:00   \n",
       "1396       626  2019-04-04 13:50:00   \n",
       "12180      127  2021-07-19 09:20:00   \n",
       "...        ...                  ...   \n",
       "4082       314  2019-09-27 13:25:00   \n",
       "8624       168  2020-06-18 12:20:00   \n",
       "8622       588  2020-06-18 12:10:00   \n",
       "8620        11  2020-06-18 12:00:00   \n",
       "6243       527  2020-01-29 14:50:00   \n",
       "\n",
       "                             assistance_category  amount     unit  \\\n",
       "2483                                   Community   183.0  Minutes   \n",
       "2614                                   Community   180.0  Minutes   \n",
       "6735                                  Home Visit   170.0  Minutes   \n",
       "1396                                  Home Visit   170.0  Minutes   \n",
       "12180                                  Community   160.0  Minutes   \n",
       "...                                          ...     ...      ...   \n",
       "4082   Remote Contact with client (phone, email)     1.0  Minutes   \n",
       "8624                   Remote Contact w/o client     1.0  Minutes   \n",
       "8622                   Remote Contact w/o client     1.0  Minutes   \n",
       "8620   Remote Contact with client (phone, email)     1.0  Minutes   \n",
       "6243   Remote Contact with client (phone, email)     1.0  Minutes   \n",
       "\n",
       "            CommType          Party InitiatedBy Benefit_1  Assistance_1  \\\n",
       "2483             NaN            NaN         NaN       NaN           NaN   \n",
       "2614             NaN            NaN         NaN       NaN           NaN   \n",
       "6735             NaN            NaN         NaN       NaN           NaN   \n",
       "1396             NaN            NaN         NaN       NaN           NaN   \n",
       "12180            NaN            NaN         NaN       NaN           NaN   \n",
       "...              ...            ...         ...       ...           ...   \n",
       "4082             NaN            NaN         NaN       NaN           NaN   \n",
       "8624   Voice Message  Social Worker    ElderNet   Medical  Coordination   \n",
       "8622           Email         Family    ElderNet       NaN           NaN   \n",
       "8620            Call         Client    ElderNet  ElderNet  Coordination   \n",
       "6243             NaN            NaN         NaN       NaN           NaN   \n",
       "\n",
       "      Benefit_2 Assistance_2 Benefit_3 Assistance_3  \n",
       "2483        NaN          NaN       NaN          NaN  \n",
       "2614        NaN          NaN       NaN          NaN  \n",
       "6735        NaN          NaN       NaN          NaN  \n",
       "1396        NaN          NaN       NaN          NaN  \n",
       "12180       NaN          NaN       NaN          NaN  \n",
       "...         ...          ...       ...          ...  \n",
       "4082        NaN          NaN       NaN          NaN  \n",
       "8624        NaN          NaN       NaN          NaN  \n",
       "8622        NaN          NaN       NaN          NaN  \n",
       "8620        NaN          NaN       NaN          NaN  \n",
       "6243        NaN          NaN       NaN          NaN  \n",
       "\n",
       "[12487 rows x 14 columns]"
      ]
     },
     "execution_count": 301,
     "metadata": {},
     "output_type": "execute_result"
    }
   ],
   "source": [
    "care_management_data.sort_values(by='amount', ascending = False)"
   ]
  },
  {
   "cell_type": "code",
   "execution_count": 302,
   "metadata": {},
   "outputs": [
    {
     "ename": "TypeError",
     "evalue": "fromisoformat: argument must be str",
     "output_type": "error",
     "traceback": [
      "\u001b[1;31m---------------------------------------------------------------------------\u001b[0m",
      "\u001b[1;31mTypeError\u001b[0m                                 Traceback (most recent call last)",
      "\u001b[1;32m<ipython-input-302-89357972ed8d>\u001b[0m in \u001b[0;36m<module>\u001b[1;34m\u001b[0m\n\u001b[0;32m      1\u001b[0m \u001b[1;32mfrom\u001b[0m \u001b[0mdatetime\u001b[0m \u001b[1;32mimport\u001b[0m \u001b[0mdatetime\u001b[0m\u001b[1;33m\u001b[0m\u001b[1;33m\u001b[0m\u001b[0m\n\u001b[1;32m----> 2\u001b[1;33m \u001b[0mcare_management_data\u001b[0m\u001b[1;33m[\u001b[0m\u001b[1;34m'assistance_date'\u001b[0m\u001b[1;33m]\u001b[0m \u001b[1;33m=\u001b[0m \u001b[0mdatetime\u001b[0m\u001b[1;33m.\u001b[0m\u001b[0mfromisoformat\u001b[0m\u001b[1;33m(\u001b[0m\u001b[0mcare_management_data\u001b[0m\u001b[1;33m[\u001b[0m\u001b[1;34m'assistance_date'\u001b[0m\u001b[1;33m]\u001b[0m\u001b[1;33m)\u001b[0m\u001b[1;33m\u001b[0m\u001b[1;33m\u001b[0m\u001b[0m\n\u001b[0m",
      "\u001b[1;31mTypeError\u001b[0m: fromisoformat: argument must be str"
     ]
    }
   ],
   "source": [
    "from datetime import datetime\n",
    "care_management_data['assistance_date'] = datetime.fromisoformat(care_management_data['assistance_date'])"
   ]
  },
  {
   "cell_type": "code",
   "execution_count": null,
   "metadata": {},
   "outputs": [],
   "source": [
    "care_management_data.assistance_date = pd.to_datetime(care_management_data.assistance_date, infer_datetime_format=True)  \n",
    "care_management_data"
   ]
  },
  {
   "cell_type": "code",
   "execution_count": null,
   "metadata": {},
   "outputs": [],
   "source": [
    "#care_management_data = care_management_data.set_index('assistance_date')\n",
    "care_management_days = care_management_data.resample('1M')"
   ]
  },
  {
   "cell_type": "code",
   "execution_count": null,
   "metadata": {},
   "outputs": [],
   "source": [
    "care_management_data['counter'] = 1\n",
    "care_management_data"
   ]
  },
  {
   "cell_type": "code",
   "execution_count": null,
   "metadata": {},
   "outputs": [],
   "source": [
    "care_management_data.CommType"
   ]
  },
  {
   "cell_type": "code",
   "execution_count": null,
   "metadata": {},
   "outputs": [],
   "source": [
    "sns.lineplot(x='assistance_date', y=\"counter\", data=care_management_month)"
   ]
  },
  {
   "cell_type": "code",
   "execution_count": null,
   "metadata": {},
   "outputs": [],
   "source": [
    "sns.lineplot(x='assistance_date', y=\"Assistance_1\", data=care_management_month)"
   ]
  },
  {
   "cell_type": "code",
   "execution_count": null,
   "metadata": {},
   "outputs": [],
   "source": [
    "sns.lineplot(x='assistance_date', y=\"Benefit_1\", data=care_management_month)"
   ]
  },
  {
   "cell_type": "code",
   "execution_count": null,
   "metadata": {},
   "outputs": [],
   "source": [
    "sns.lineplot(x='assistance_date', y=\"Assistance_2\", data=care_management_month)"
   ]
  },
  {
   "cell_type": "code",
   "execution_count": null,
   "metadata": {},
   "outputs": [],
   "source": [
    "sns.lineplot(x='assistance_date', y=\"Benefit_2\", data=care_management_month)"
   ]
  },
  {
   "cell_type": "code",
   "execution_count": null,
   "metadata": {},
   "outputs": [],
   "source": [
    "sns.lineplot(x='assistance_date', y=\"Assistance_3\", data=care_management_month)"
   ]
  },
  {
   "cell_type": "code",
   "execution_count": null,
   "metadata": {},
   "outputs": [],
   "source": [
    "sns.lineplot(x='assistance_date', y=\"Benefit_3\", data=care_management_month)"
   ]
  },
  {
   "cell_type": "code",
   "execution_count": null,
   "metadata": {},
   "outputs": [],
   "source": [
    "care_management_data.groupby('assistant')"
   ]
  },
  {
   "cell_type": "code",
   "execution_count": null,
   "metadata": {},
   "outputs": [],
   "source": [
    "care_management_data = care_management_data.set_index('anon_ID')\n",
    "volunteer_services_data = volunteer_services_data.set_index('anon_ID')\n",
    "client_info_data = client_info_data.set_index('anon_ID')\n",
    "pantry_data = pantry_data.set_index('anon_ID')"
   ]
  },
  {
   "cell_type": "code",
   "execution_count": null,
   "metadata": {},
   "outputs": [],
   "source": [
    "client_info_data"
   ]
  },
  {
   "cell_type": "code",
   "execution_count": null,
   "metadata": {},
   "outputs": [],
   "source": [
    "care_management_data"
   ]
  },
  {
   "cell_type": "code",
   "execution_count": null,
   "metadata": {},
   "outputs": [],
   "source": [
    "care_management_data['assistance_category'].values"
   ]
  },
  {
   "cell_type": "code",
   "execution_count": null,
   "metadata": {},
   "outputs": [],
   "source": [
    "#client_data_joined = client_data_joined.join(pantry_data, on = 'anon_ID', how = 'left')\n",
    "client_data_joined = client_info_data.merge(pantry_data_grouped,on = 'anon_ID', how = 'left')\n",
    "client_data_joined"
   ]
  },
  {
   "cell_type": "code",
   "execution_count": null,
   "metadata": {},
   "outputs": [],
   "source": [
    "client_data_joined = client_data_joined.rename({'assistance_category':'pantry_assistance_category','unit':'pantry_unit','amount':'pantry_amount',\n",
    "                                               'counter':'pantry_counter'}, axis=1)\n",
    "client_data_joined"
   ]
  },
  {
   "cell_type": "code",
   "execution_count": null,
   "metadata": {},
   "outputs": [],
   "source": [
    "client_data_joined = client_data_joined.merge(volunteer_services_data_grouped, on = 'anon_ID', how = 'left')\n",
    "client_data_joined"
   ]
  },
  {
   "cell_type": "code",
   "execution_count": null,
   "metadata": {},
   "outputs": [],
   "source": [
    "client_data_joined = client_data_joined.rename({'category':'volunteer_category','diff_ride_days':'volunteer_diff_ride_days','appt_duration':'volunteer_appt_duration',\n",
    "                                               'counter':'volunteer_counter'}, axis=1)\n",
    "client_data_joined"
   ]
  },
  {
   "cell_type": "code",
   "execution_count": null,
   "metadata": {},
   "outputs": [],
   "source": [
    "client_data_joined = client_data_joined.merge(care_management_data_grouped_1, on = 'anon_ID', how = 'left')\n",
    "client_data_joined"
   ]
  },
  {
   "cell_type": "code",
   "execution_count": null,
   "metadata": {},
   "outputs": [],
   "source": [
    "client_data_joined = client_data_joined.rename({'assistance_category':'care_management_category','unit':'care_management_unit','CommType':'care_management_CommType',\n",
    "                                               'Party':'care_management_Party','InitiatedBy':'care_management_InitiatedBy','Benefit_1':'care_management_Benefit_1',\n",
    "                                                'Assistance_1':'care_management_Assistance_1',\n",
    "                                               'Benefit_2':'care_management_Benefit_2','Assistance_2':'care_management_Assistance_2','Benefit_3':'care_management_Benefit_3',\n",
    "                                               'Assistance_3':'care_management_Assistance_3','amount':'care_management_amount','counter':'care_management_counter'}, axis=1)\n",
    "client_data_joined"
   ]
  },
  {
   "cell_type": "code",
   "execution_count": null,
   "metadata": {},
   "outputs": [],
   "source": [
    "client_data_joined.columns"
   ]
  },
  {
   "cell_type": "code",
   "execution_count": null,
   "metadata": {},
   "outputs": [],
   "source": [
    "client_data_joined['care_management_counter'].sort_values(ascending=False)"
   ]
  },
  {
   "cell_type": "code",
   "execution_count": null,
   "metadata": {},
   "outputs": [],
   "source": [
    "client_data_joined"
   ]
  },
  {
   "cell_type": "code",
   "execution_count": null,
   "metadata": {},
   "outputs": [],
   "source": [
    "client_data_joined.groupby('unit_y').sum()"
   ]
  },
  {
   "cell_type": "code",
   "execution_count": null,
   "metadata": {},
   "outputs": [],
   "source": [
    "client_data_joined.isna().sum()"
   ]
  },
  {
   "cell_type": "code",
   "execution_count": null,
   "metadata": {},
   "outputs": [],
   "source": [
    "pantry_data"
   ]
  },
  {
   "cell_type": "code",
   "execution_count": null,
   "metadata": {},
   "outputs": [],
   "source": [
    "volunteer_services_data"
   ]
  },
  {
   "cell_type": "code",
   "execution_count": null,
   "metadata": {},
   "outputs": [],
   "source": [
    "from datetime import datetime\n",
    "\n",
    "def days_between(d1, d2):\n",
    "    d1 = datetime.strptime(d1, \"%Y-%m-%d\")\n",
    "    d2 = datetime.strptime(d2, \"%Y-%m-%d\")\n",
    "    return abs((d2 - d1).days)"
   ]
  },
  {
   "cell_type": "code",
   "execution_count": null,
   "metadata": {},
   "outputs": [],
   "source": [
    "volunteer_services_data['rider_first_ride_date'] = pd.to_datetime(volunteer_services_data['rider_first_ride_date'], infer_datetime_format=True)\n",
    "volunteer_services_data['rider_last_ride_date'] = pd.to_datetime(volunteer_services_data['rider_last_ride_date'], infer_datetime_format=True)  "
   ]
  },
  {
   "cell_type": "code",
   "execution_count": null,
   "metadata": {},
   "outputs": [],
   "source": [
    "volunteer_services_data['diff_ride_days'] = abs(volunteer_services_data['rider_first_ride_date'] - volunteer_services_data['rider_last_ride_date'])"
   ]
  },
  {
   "cell_type": "code",
   "execution_count": null,
   "metadata": {},
   "outputs": [],
   "source": [
    "volunteer_services_data.groupby(['anon_ID','diff_ride_days']).count()"
   ]
  },
  {
   "cell_type": "code",
   "execution_count": null,
   "metadata": {},
   "outputs": [],
   "source": [
    "volunteer_services_data['category'].unique()"
   ]
  },
  {
   "cell_type": "code",
   "execution_count": null,
   "metadata": {},
   "outputs": [],
   "source": [
    "volunteer_services_data['counter'] = 1"
   ]
  },
  {
   "cell_type": "code",
   "execution_count": null,
   "metadata": {},
   "outputs": [],
   "source": [
    "\n",
    "volunteer_services_data_grouped = volunteer_services_data.groupby(['anon_ID','category','diff_ride_days']).sum()\n",
    "volunteer_services_data_grouped = volunteer_services_data_grouped.reset_index()\n",
    "volunteer_services_data_grouped"
   ]
  },
  {
   "cell_type": "code",
   "execution_count": null,
   "metadata": {},
   "outputs": [],
   "source": [
    "volunteer_services_data.groupby(['anon_ID']).sum()"
   ]
  },
  {
   "cell_type": "code",
   "execution_count": null,
   "metadata": {},
   "outputs": [],
   "source": [
    "volunteer_services_data.describe()"
   ]
  },
  {
   "cell_type": "code",
   "execution_count": null,
   "metadata": {},
   "outputs": [],
   "source": [
    "volunteer_services_data.groupby('category').mean()"
   ]
  },
  {
   "cell_type": "code",
   "execution_count": null,
   "metadata": {},
   "outputs": [],
   "source": [
    "volunteer_services_data.groupby('category').sum()"
   ]
  },
  {
   "cell_type": "code",
   "execution_count": null,
   "metadata": {},
   "outputs": [],
   "source": [
    "sns.countplot(x='category', data = volunteer_services_data)"
   ]
  },
  {
   "cell_type": "code",
   "execution_count": null,
   "metadata": {},
   "outputs": [],
   "source": [
    "volunteer_services_data['rider_num_rides'].values"
   ]
  },
  {
   "cell_type": "code",
   "execution_count": null,
   "metadata": {},
   "outputs": [],
   "source": [
    "volunteer"
   ]
  },
  {
   "cell_type": "code",
   "execution_count": null,
   "metadata": {},
   "outputs": [],
   "source": [
    "client_info_data"
   ]
  },
  {
   "cell_type": "code",
   "execution_count": null,
   "metadata": {},
   "outputs": [],
   "source": [
    "donations_data"
   ]
  },
  {
   "cell_type": "code",
   "execution_count": null,
   "metadata": {},
   "outputs": [],
   "source": [
    "donations_data['campaign'].value_counts()"
   ]
  },
  {
   "cell_type": "code",
   "execution_count": null,
   "metadata": {},
   "outputs": [],
   "source": [
    "donations_data.groupby('campaign').sum()"
   ]
  },
  {
   "cell_type": "code",
   "execution_count": null,
   "metadata": {},
   "outputs": [],
   "source": [
    "organization_donations = donations_data.loc[donations_data['organisation'] == 'Y'].sort_values(by='amount', ascending = False)\n",
    "organization_donations"
   ]
  },
  {
   "cell_type": "code",
   "execution_count": null,
   "metadata": {},
   "outputs": [],
   "source": [
    "organization_donations['anon_donor_id'].value_counts()"
   ]
  },
  {
   "cell_type": "code",
   "execution_count": null,
   "metadata": {},
   "outputs": [],
   "source": [
    "donations_data.groupby('zip').sum().sort_values(by='amount', ascending=False)"
   ]
  },
  {
   "cell_type": "code",
   "execution_count": null,
   "metadata": {},
   "outputs": [],
   "source": [
    "pantry_data"
   ]
  },
  {
   "cell_type": "code",
   "execution_count": null,
   "metadata": {},
   "outputs": [],
   "source": [
    "pantry_data['counter'] = 1"
   ]
  },
  {
   "cell_type": "code",
   "execution_count": null,
   "metadata": {},
   "outputs": [],
   "source": [
    "pantry_data_grouped = pantry_data.groupby(['anon_ID','assistance_category','unit']).sum().reset_index()"
   ]
  },
  {
   "cell_type": "code",
   "execution_count": null,
   "metadata": {},
   "outputs": [],
   "source": [
    "pantry_data_grouped"
   ]
  },
  {
   "cell_type": "code",
   "execution_count": null,
   "metadata": {},
   "outputs": [],
   "source": [
    "sns.countplot(x='unit',data = pantry_data)"
   ]
  },
  {
   "cell_type": "code",
   "execution_count": null,
   "metadata": {},
   "outputs": [],
   "source": [
    "sns.countplot(x='assistance_category',data = pantry_data)"
   ]
  },
  {
   "cell_type": "code",
   "execution_count": null,
   "metadata": {},
   "outputs": [],
   "source": [
    "pantry_data.groupby(['anon_ID','assistance_category']).sum()"
   ]
  },
  {
   "cell_type": "code",
   "execution_count": null,
   "metadata": {},
   "outputs": [],
   "source": [
    "pantry_data.groupby('unit').sum()"
   ]
  },
  {
   "cell_type": "code",
   "execution_count": null,
   "metadata": {},
   "outputs": [],
   "source": [
    "def count_plots(df):\n",
    "    for col in df:\n",
    "        fig = plt.figure(figsize =(10, 7))\n",
    " \n",
    "        # Horizontal Bar Plot\n",
    "\n",
    "        sns.set_theme(style=\"darkgrid\")\n",
    "        ax = sns.countplot(x=col, data=df)\n",
    "        sns.set(rc={'figure.figsize':(15,12)})\n",
    "        # Show Plot\n",
    "        plt.show()"
   ]
  },
  {
   "cell_type": "code",
   "execution_count": null,
   "metadata": {},
   "outputs": [],
   "source": [
    "import seaborn as sns"
   ]
  },
  {
   "cell_type": "code",
   "execution_count": null,
   "metadata": {},
   "outputs": [],
   "source": [
    "count_plots(care_management_data)"
   ]
  },
  {
   "cell_type": "code",
   "execution_count": null,
   "metadata": {},
   "outputs": [],
   "source": [
    "count_plots(client_info_data)"
   ]
  },
  {
   "cell_type": "code",
   "execution_count": null,
   "metadata": {},
   "outputs": [],
   "source": [
    "count_plots(donations_data)"
   ]
  },
  {
   "cell_type": "code",
   "execution_count": null,
   "metadata": {},
   "outputs": [],
   "source": [
    "count_plots(pantry_data)"
   ]
  },
  {
   "cell_type": "code",
   "execution_count": null,
   "metadata": {},
   "outputs": [],
   "source": [
    "count_plots(volunteer_services_data)"
   ]
  },
  {
   "cell_type": "code",
   "execution_count": null,
   "metadata": {},
   "outputs": [],
   "source": [
    "pantry_data.columns"
   ]
  },
  {
   "cell_type": "code",
   "execution_count": null,
   "metadata": {},
   "outputs": [],
   "source": [
    "pantry_data.groupby('assistance_category').plot(x = 'assistance_date', y = 'amount')"
   ]
  },
  {
   "cell_type": "code",
   "execution_count": null,
   "metadata": {},
   "outputs": [],
   "source": [
    "plt.boxplot(donations_data.amount)"
   ]
  },
  {
   "cell_type": "code",
   "execution_count": null,
   "metadata": {},
   "outputs": [],
   "source": [
    "plt.boxplot(pantry_data.amount)"
   ]
  },
  {
   "cell_type": "code",
   "execution_count": null,
   "metadata": {},
   "outputs": [],
   "source": [
    "plt.boxplot(volunteer_services_data.appt_duration)"
   ]
  },
  {
   "cell_type": "code",
   "execution_count": null,
   "metadata": {},
   "outputs": [],
   "source": [
    "volunteer_services_data.describe()"
   ]
  },
  {
   "cell_type": "code",
   "execution_count": null,
   "metadata": {},
   "outputs": [],
   "source": [
    "import seaborn as sns\n",
    "#units_df_min\n",
    "fig = plt.figure(figsize =(10, 7))\n",
    " \n",
    "# Horizontal Bar Plot\n",
    "\n",
    "sns.set_theme(style=\"darkgrid\")\n",
    "ax = sns.countplot(x=\"county\", data=client_info_data)\n",
    "# Show Plot\n",
    "plt.show()"
   ]
  },
  {
   "cell_type": "code",
   "execution_count": null,
   "metadata": {},
   "outputs": [],
   "source": [
    "na_df = pd.DataFrame(dataTrain.isna().sum())"
   ]
  },
  {
   "cell_type": "code",
   "execution_count": null,
   "metadata": {},
   "outputs": [],
   "source": [
    "na_df"
   ]
  },
  {
   "cell_type": "code",
   "execution_count": null,
   "metadata": {},
   "outputs": [],
   "source": [
    "dataTrain.isna().sum().reset_index(name=\"n\").plot.bar(x='index', y='n', rot=45)"
   ]
  },
  {
   "cell_type": "code",
   "execution_count": null,
   "metadata": {},
   "outputs": [],
   "source": [
    "def cat_analyzer(dataframe, variable, target = None):\n",
    "    print(variable)\n",
    "    print(pd.DataFrame({\n",
    "            \"COUNT\": dataframe[variable].value_counts(),\n",
    "            \"RATIO\": dataframe[variable].value_counts() / len(dataframe)}), end=\"\\n\\n\")"
   ]
  },
  {
   "cell_type": "code",
   "execution_count": null,
   "metadata": {},
   "outputs": [],
   "source": [
    "catCols = [col for col in dataTrain.columns if dataTrain[col].dtype==\"O\"]\n",
    "for i in dataTrain:\n",
    "    if i in catCols:\n",
    "        cat_analyzer(dataTrain, i)"
   ]
  },
  {
   "cell_type": "code",
   "execution_count": null,
   "metadata": {},
   "outputs": [],
   "source": [
    "dataTrain.columns"
   ]
  },
  {
   "cell_type": "code",
   "execution_count": null,
   "metadata": {},
   "outputs": [],
   "source": [
    "# Figure Size\n",
    "\n",
    "units_df_min = dataTrain.loc[dataTrain['unit'] == 'Minutes']\n",
    "\n",
    "#units_df_min\n",
    "fig = plt.figure(figsize =(15, 12))\n",
    " \n",
    "# Horizontal Bar Plot\n",
    "plt.bar(units_df_min.assistance_category, units_df_min.amount)\n",
    " \n",
    "# Show Plot\n",
    "plt.show()"
   ]
  },
  {
   "cell_type": "code",
   "execution_count": null,
   "metadata": {},
   "outputs": [],
   "source": [
    "dataTrain.unit"
   ]
  },
  {
   "cell_type": "code",
   "execution_count": null,
   "metadata": {},
   "outputs": [],
   "source": []
  }
 ],
 "metadata": {
  "kernelspec": {
   "display_name": "Python 3",
   "language": "python",
   "name": "python3"
  },
  "language_info": {
   "codemirror_mode": {
    "name": "ipython",
    "version": 3
   },
   "file_extension": ".py",
   "mimetype": "text/x-python",
   "name": "python",
   "nbconvert_exporter": "python",
   "pygments_lexer": "ipython3",
   "version": "3.7.6"
  }
 },
 "nbformat": 4,
 "nbformat_minor": 5
}
