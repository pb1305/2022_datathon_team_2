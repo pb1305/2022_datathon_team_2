{
 "cells": [
  {
   "cell_type": "code",
   "execution_count": 187,
   "metadata": {},
   "outputs": [],
   "source": [
    "import matplotlib.pyplot as plt\n",
    "import pandas as pd\n",
    "import datetime\n",
    "from dateutil.relativedelta import relativedelta\n",
    "from datetime import date\n",
    "import numpy as np"
   ]
  },
  {
   "cell_type": "code",
   "execution_count": 188,
   "metadata": {},
   "outputs": [],
   "source": [
    " %matplotlib inline"
   ]
  },
  {
   "cell_type": "code",
   "execution_count": 189,
   "metadata": {},
   "outputs": [],
   "source": [
    "# Load all the datasets\n",
    "care_management = r'C:\\Users\\parob\\dthon\\2022_datathon_team_2\\data\\care_management_anonymized.csv'\n",
    "volunteer_services = r\"C:\\Users\\parob\\dthon\\2022_datathon_team_2\\data\\volunteer_services_anonymized.csv\"\n",
    "client_info = r\"C:\\Users\\parob\\dthon\\2022_datathon_team_2\\data\\client_info_anonymized.csv\"\n",
    "donations = r\"C:\\Users\\parob\\dthon\\2022_datathon_team_2\\data\\donations_anonymized.csv\"\n",
    "pantry = r\"C:\\Users\\parob\\dthon\\2022_datathon_team_2\\data\\pantry_anonymized.csv\""
   ]
  },
  {
   "cell_type": "code",
   "execution_count": 190,
   "metadata": {},
   "outputs": [],
   "source": [
    "vol = pd.read_csv(volunteer_services)"
   ]
  },
  {
   "cell_type": "code",
   "execution_count": 191,
   "metadata": {},
   "outputs": [],
   "source": [
    "client = pd.read_csv(client_info)"
   ]
  },
  {
   "cell_type": "code",
   "execution_count": 192,
   "metadata": {},
   "outputs": [],
   "source": [
    "pan = pd.read_csv(pantry)"
   ]
  },
  {
   "cell_type": "code",
   "execution_count": 193,
   "metadata": {},
   "outputs": [
    {
     "data": {
      "text/html": [
       "<div>\n",
       "<style scoped>\n",
       "    .dataframe tbody tr th:only-of-type {\n",
       "        vertical-align: middle;\n",
       "    }\n",
       "\n",
       "    .dataframe tbody tr th {\n",
       "        vertical-align: top;\n",
       "    }\n",
       "\n",
       "    .dataframe thead th {\n",
       "        text-align: right;\n",
       "    }\n",
       "</style>\n",
       "<table border=\"1\" class=\"dataframe\">\n",
       "  <thead>\n",
       "    <tr style=\"text-align: right;\">\n",
       "      <th></th>\n",
       "      <th>anon_ID</th>\n",
       "      <th>rider_first_ride_date</th>\n",
       "      <th>rider_last_ride_date</th>\n",
       "      <th>rider_num_rides</th>\n",
       "      <th>appt_date</th>\n",
       "      <th>appt_duration</th>\n",
       "      <th>category</th>\n",
       "    </tr>\n",
       "  </thead>\n",
       "  <tbody>\n",
       "    <tr>\n",
       "      <th>0</th>\n",
       "      <td>276</td>\n",
       "      <td>2015-04-27</td>\n",
       "      <td>2021-11-16</td>\n",
       "      <td>0</td>\n",
       "      <td>9/15/2021</td>\n",
       "      <td>2.00</td>\n",
       "      <td>Doctor Appt</td>\n",
       "    </tr>\n",
       "    <tr>\n",
       "      <th>1</th>\n",
       "      <td>276</td>\n",
       "      <td>2015-04-27</td>\n",
       "      <td>2021-11-16</td>\n",
       "      <td>0</td>\n",
       "      <td>9/1/2021</td>\n",
       "      <td>2.00</td>\n",
       "      <td>Doctor Appt</td>\n",
       "    </tr>\n",
       "    <tr>\n",
       "      <th>2</th>\n",
       "      <td>276</td>\n",
       "      <td>2015-04-27</td>\n",
       "      <td>2021-11-16</td>\n",
       "      <td>0</td>\n",
       "      <td>8/26/2021</td>\n",
       "      <td>2.00</td>\n",
       "      <td>Doctor Appt</td>\n",
       "    </tr>\n",
       "    <tr>\n",
       "      <th>3</th>\n",
       "      <td>276</td>\n",
       "      <td>2015-04-27</td>\n",
       "      <td>2021-11-16</td>\n",
       "      <td>0</td>\n",
       "      <td>8/11/2021</td>\n",
       "      <td>2.00</td>\n",
       "      <td>Doctor Appt</td>\n",
       "    </tr>\n",
       "    <tr>\n",
       "      <th>4</th>\n",
       "      <td>276</td>\n",
       "      <td>2015-04-27</td>\n",
       "      <td>2021-11-16</td>\n",
       "      <td>0</td>\n",
       "      <td>8/10/2021</td>\n",
       "      <td>2.25</td>\n",
       "      <td>Doctor Appt</td>\n",
       "    </tr>\n",
       "  </tbody>\n",
       "</table>\n",
       "</div>"
      ],
      "text/plain": [
       "   anon_ID rider_first_ride_date rider_last_ride_date  rider_num_rides  \\\n",
       "0      276            2015-04-27           2021-11-16                0   \n",
       "1      276            2015-04-27           2021-11-16                0   \n",
       "2      276            2015-04-27           2021-11-16                0   \n",
       "3      276            2015-04-27           2021-11-16                0   \n",
       "4      276            2015-04-27           2021-11-16                0   \n",
       "\n",
       "   appt_date  appt_duration     category  \n",
       "0  9/15/2021           2.00  Doctor Appt  \n",
       "1   9/1/2021           2.00  Doctor Appt  \n",
       "2  8/26/2021           2.00  Doctor Appt  \n",
       "3  8/11/2021           2.00  Doctor Appt  \n",
       "4  8/10/2021           2.25  Doctor Appt  "
      ]
     },
     "execution_count": 193,
     "metadata": {},
     "output_type": "execute_result"
    }
   ],
   "source": [
    "vol.head()"
   ]
  },
  {
   "cell_type": "code",
   "execution_count": 194,
   "metadata": {},
   "outputs": [
    {
     "data": {
      "text/plain": [
       "anon_ID                    int64\n",
       "rider_first_ride_date     object\n",
       "rider_last_ride_date      object\n",
       "rider_num_rides            int64\n",
       "appt_date                 object\n",
       "appt_duration            float64\n",
       "category                  object\n",
       "dtype: object"
      ]
     },
     "execution_count": 194,
     "metadata": {},
     "output_type": "execute_result"
    }
   ],
   "source": [
    "# Basic data checks\n",
    "vol.dtypes"
   ]
  },
  {
   "cell_type": "code",
   "execution_count": 195,
   "metadata": {},
   "outputs": [
    {
     "data": {
      "text/plain": [
       "(4925, 7)"
      ]
     },
     "execution_count": 195,
     "metadata": {},
     "output_type": "execute_result"
    }
   ],
   "source": [
    "vol.shape"
   ]
  },
  {
   "cell_type": "code",
   "execution_count": 196,
   "metadata": {},
   "outputs": [
    {
     "data": {
      "text/plain": [
       "Index(['anon_ID', 'rider_first_ride_date', 'rider_last_ride_date',\n",
       "       'rider_num_rides', 'appt_date', 'appt_duration', 'category'],\n",
       "      dtype='object')"
      ]
     },
     "execution_count": 196,
     "metadata": {},
     "output_type": "execute_result"
    }
   ],
   "source": [
    "vol.columns"
   ]
  },
  {
   "cell_type": "code",
   "execution_count": 197,
   "metadata": {},
   "outputs": [
    {
     "data": {
      "text/plain": [
       "162"
      ]
     },
     "execution_count": 197,
     "metadata": {},
     "output_type": "execute_result"
    }
   ],
   "source": [
    "vol['anon_ID'].nunique()\n",
    "## There are 162 unique clients which have leveraged the rider services between Jan 2019 and Sept 2021"
   ]
  },
  {
   "cell_type": "code",
   "execution_count": 198,
   "metadata": {},
   "outputs": [
    {
     "data": {
      "text/plain": [
       "anon_ID\n",
       "602    2648.0\n",
       "166    1157.0\n",
       "469     677.5\n",
       "638     565.5\n",
       "382     460.0\n",
       "377     329.0\n",
       "143     296.5\n",
       "582     284.5\n",
       "81      279.0\n",
       "38      267.5\n",
       "Name: appt_duration, dtype: float64"
      ]
     },
     "execution_count": 198,
     "metadata": {},
     "output_type": "execute_result"
    }
   ],
   "source": [
    "# Top 10 clients which which have used rider services\n",
    "vol.groupby(['anon_ID'])['appt_duration'].sum().sort_values(ascending=False).head(10)"
   ]
  },
  {
   "cell_type": "code",
   "execution_count": 264,
   "metadata": {},
   "outputs": [
    {
     "data": {
      "text/plain": [
       "<matplotlib.axes._subplots.AxesSubplot at 0x1b4cc6e8ac8>"
      ]
     },
     "execution_count": 264,
     "metadata": {},
     "output_type": "execute_result"
    },
    {
     "data": {
      "image/png": "[encoded data removed]",
      "text/plain": [
       "<Figure size 432x288 with 1 Axes>"
      ]
     },
     "metadata": {},
     "output_type": "display_data"
    }
   ],
   "source": [
    "vol['category'].value_counts().plot(kind = 'bar')\n",
    "# Number of rides per category"
   ]
  },
  {
   "cell_type": "code",
   "execution_count": 200,
   "metadata": {},
   "outputs": [
    {
     "data": {
      "text/plain": [
       "category\n",
       "Doctor Appt               4366.75\n",
       "Shopping                  3376.75\n",
       "Pantry                    2478.50\n",
       "Friendly Visit            2086.25\n",
       "Board or Committee Mtg    1353.00\n",
       "Special Projects           793.50\n",
       "Skilled Work               568.50\n",
       "Odd Jobs                   200.50\n",
       "Pantry Delivery            156.50\n",
       "Errands                    147.25\n",
       "Yard Work                   59.50\n",
       "Telephone Reassurance        2.00\n",
       "Name: appt_duration, dtype: float64"
      ]
     },
     "execution_count": 200,
     "metadata": {},
     "output_type": "execute_result"
    }
   ],
   "source": [
    "# Between between January 2019 and September 2021 hours of rider services used by category\n",
    "vol_per_cat = vol.groupby(['category'])['appt_duration'].sum().sort_values(ascending=False)\n",
    "vol_per_cat"
   ]
  },
  {
   "cell_type": "code",
   "execution_count": 201,
   "metadata": {},
   "outputs": [
    {
     "data": {
      "text/plain": [
       "pandas.core.series.Series"
      ]
     },
     "execution_count": 201,
     "metadata": {},
     "output_type": "execute_result"
    }
   ],
   "source": [
    "type(vol_per_cat)"
   ]
  },
  {
   "cell_type": "code",
   "execution_count": 202,
   "metadata": {},
   "outputs": [
    {
     "data": {
      "text/plain": [
       "Text(0, 0.5, 'Total Hours Volunteered')"
      ]
     },
     "execution_count": 202,
     "metadata": {},
     "output_type": "execute_result"
    },
    {
     "data": {
      "image/png": "[encoded data removed]",
      "text/plain": [
       "<Figure size 432x288 with 1 Axes>"
      ]
     },
     "metadata": {},
     "output_type": "display_data"
    }
   ],
   "source": [
    "plt.style.use('fivethirtyeight')\n",
    "vol_per_cat.plot(kind='bar')\n",
    "plt.title(\"Rider Services Volunteered Hours\")\n",
    "plt.xlabel(\"Purpose of Ride\")\n",
    "plt.ylabel(\"Total Hours Volunteered\")\n",
    "\n",
    "# ## Eldernet focus area - adding trips to non-essential appointments that improve quality of life (i.e. hairdresser, mall, religious services); \n",
    "# mobile behavioral health treatment; medication management\n"
   ]
  },
  {
   "cell_type": "code",
   "execution_count": 203,
   "metadata": {},
   "outputs": [
    {
     "data": {
      "text/plain": [
       "anon_ID                  0\n",
       "rider_first_ride_date    0\n",
       "rider_last_ride_date     0\n",
       "rider_num_rides          0\n",
       "appt_date                0\n",
       "appt_duration            0\n",
       "category                 0\n",
       "dtype: int64"
      ]
     },
     "execution_count": 203,
     "metadata": {},
     "output_type": "execute_result"
    }
   ],
   "source": [
    "# No missing data- good clean dataset\n",
    "vol.isna().sum()"
   ]
  },
  {
   "cell_type": "code",
   "execution_count": 204,
   "metadata": {},
   "outputs": [
    {
     "data": {
      "text/plain": [
       "anon_ID                    int64\n",
       "rider_first_ride_date     object\n",
       "rider_last_ride_date      object\n",
       "rider_num_rides            int64\n",
       "appt_date                 object\n",
       "appt_duration            float64\n",
       "category                  object\n",
       "dtype: object"
      ]
     },
     "execution_count": 204,
     "metadata": {},
     "output_type": "execute_result"
    }
   ],
   "source": [
    "# converting dates to date format\n",
    "vol.dtypes"
   ]
  },
  {
   "cell_type": "code",
   "execution_count": 205,
   "metadata": {},
   "outputs": [],
   "source": [
    "vol[\"rider_first_ride_date\"]= pd.to_datetime(vol[\"rider_first_ride_date\"])\n",
    "vol[\"rider_last_ride_date\"]= pd.to_datetime(vol[\"rider_last_ride_date\"])\n",
    "vol[\"appt_date\"]= pd.to_datetime(vol[\"appt_date\"])"
   ]
  },
  {
   "cell_type": "code",
   "execution_count": 206,
   "metadata": {},
   "outputs": [
    {
     "data": {
      "text/html": [
       "<div>\n",
       "<style scoped>\n",
       "    .dataframe tbody tr th:only-of-type {\n",
       "        vertical-align: middle;\n",
       "    }\n",
       "\n",
       "    .dataframe tbody tr th {\n",
       "        vertical-align: top;\n",
       "    }\n",
       "\n",
       "    .dataframe thead th {\n",
       "        text-align: right;\n",
       "    }\n",
       "</style>\n",
       "<table border=\"1\" class=\"dataframe\">\n",
       "  <thead>\n",
       "    <tr style=\"text-align: right;\">\n",
       "      <th></th>\n",
       "      <th>anon_ID</th>\n",
       "      <th>rider_first_ride_date</th>\n",
       "      <th>rider_last_ride_date</th>\n",
       "      <th>rider_num_rides</th>\n",
       "      <th>appt_date</th>\n",
       "      <th>appt_duration</th>\n",
       "      <th>category</th>\n",
       "    </tr>\n",
       "  </thead>\n",
       "  <tbody>\n",
       "    <tr>\n",
       "      <th>0</th>\n",
       "      <td>276</td>\n",
       "      <td>2015-04-27</td>\n",
       "      <td>2021-11-16</td>\n",
       "      <td>0</td>\n",
       "      <td>2021-09-15</td>\n",
       "      <td>2.00</td>\n",
       "      <td>Doctor Appt</td>\n",
       "    </tr>\n",
       "    <tr>\n",
       "      <th>1</th>\n",
       "      <td>276</td>\n",
       "      <td>2015-04-27</td>\n",
       "      <td>2021-11-16</td>\n",
       "      <td>0</td>\n",
       "      <td>2021-09-01</td>\n",
       "      <td>2.00</td>\n",
       "      <td>Doctor Appt</td>\n",
       "    </tr>\n",
       "    <tr>\n",
       "      <th>2</th>\n",
       "      <td>276</td>\n",
       "      <td>2015-04-27</td>\n",
       "      <td>2021-11-16</td>\n",
       "      <td>0</td>\n",
       "      <td>2021-08-26</td>\n",
       "      <td>2.00</td>\n",
       "      <td>Doctor Appt</td>\n",
       "    </tr>\n",
       "    <tr>\n",
       "      <th>3</th>\n",
       "      <td>276</td>\n",
       "      <td>2015-04-27</td>\n",
       "      <td>2021-11-16</td>\n",
       "      <td>0</td>\n",
       "      <td>2021-08-11</td>\n",
       "      <td>2.00</td>\n",
       "      <td>Doctor Appt</td>\n",
       "    </tr>\n",
       "    <tr>\n",
       "      <th>4</th>\n",
       "      <td>276</td>\n",
       "      <td>2015-04-27</td>\n",
       "      <td>2021-11-16</td>\n",
       "      <td>0</td>\n",
       "      <td>2021-08-10</td>\n",
       "      <td>2.25</td>\n",
       "      <td>Doctor Appt</td>\n",
       "    </tr>\n",
       "  </tbody>\n",
       "</table>\n",
       "</div>"
      ],
      "text/plain": [
       "   anon_ID rider_first_ride_date rider_last_ride_date  rider_num_rides  \\\n",
       "0      276            2015-04-27           2021-11-16                0   \n",
       "1      276            2015-04-27           2021-11-16                0   \n",
       "2      276            2015-04-27           2021-11-16                0   \n",
       "3      276            2015-04-27           2021-11-16                0   \n",
       "4      276            2015-04-27           2021-11-16                0   \n",
       "\n",
       "   appt_date  appt_duration     category  \n",
       "0 2021-09-15           2.00  Doctor Appt  \n",
       "1 2021-09-01           2.00  Doctor Appt  \n",
       "2 2021-08-26           2.00  Doctor Appt  \n",
       "3 2021-08-11           2.00  Doctor Appt  \n",
       "4 2021-08-10           2.25  Doctor Appt  "
      ]
     },
     "execution_count": 206,
     "metadata": {},
     "output_type": "execute_result"
    }
   ],
   "source": [
    "vol.head()"
   ]
  },
  {
   "cell_type": "code",
   "execution_count": 207,
   "metadata": {},
   "outputs": [
    {
     "data": {
      "text/plain": [
       "anon_ID                           int64\n",
       "rider_first_ride_date    datetime64[ns]\n",
       "rider_last_ride_date     datetime64[ns]\n",
       "rider_num_rides                   int64\n",
       "appt_date                datetime64[ns]\n",
       "appt_duration                   float64\n",
       "category                         object\n",
       "dtype: object"
      ]
     },
     "execution_count": 207,
     "metadata": {},
     "output_type": "execute_result"
    }
   ],
   "source": [
    "vol.dtypes"
   ]
  },
  {
   "cell_type": "code",
   "execution_count": 208,
   "metadata": {},
   "outputs": [],
   "source": [
    "import datetime\n",
    "from dateutil.relativedelta import relativedelta\n",
    "from datetime import date\n",
    "import numpy as np"
   ]
  },
  {
   "cell_type": "code",
   "execution_count": 209,
   "metadata": {},
   "outputs": [],
   "source": [
    "vol['rider_services_len']= vol['rider_last_ride_date']-vol['rider_first_ride_date']\n",
    "vol['rider_services_len'] = round(vol['rider_services_len']/np.timedelta64(1,'Y'))"
   ]
  },
  {
   "cell_type": "code",
   "execution_count": 210,
   "metadata": {
    "scrolled": true
   },
   "outputs": [
    {
     "data": {
      "text/html": [
       "<div>\n",
       "<style scoped>\n",
       "    .dataframe tbody tr th:only-of-type {\n",
       "        vertical-align: middle;\n",
       "    }\n",
       "\n",
       "    .dataframe tbody tr th {\n",
       "        vertical-align: top;\n",
       "    }\n",
       "\n",
       "    .dataframe thead th {\n",
       "        text-align: right;\n",
       "    }\n",
       "</style>\n",
       "<table border=\"1\" class=\"dataframe\">\n",
       "  <thead>\n",
       "    <tr style=\"text-align: right;\">\n",
       "      <th></th>\n",
       "      <th>anon_ID</th>\n",
       "      <th>rider_first_ride_date</th>\n",
       "      <th>rider_last_ride_date</th>\n",
       "      <th>rider_num_rides</th>\n",
       "      <th>appt_date</th>\n",
       "      <th>appt_duration</th>\n",
       "      <th>category</th>\n",
       "      <th>rider_services_len</th>\n",
       "    </tr>\n",
       "  </thead>\n",
       "  <tbody>\n",
       "    <tr>\n",
       "      <th>0</th>\n",
       "      <td>276</td>\n",
       "      <td>2015-04-27</td>\n",
       "      <td>2021-11-16</td>\n",
       "      <td>0</td>\n",
       "      <td>2021-09-15</td>\n",
       "      <td>2.00</td>\n",
       "      <td>Doctor Appt</td>\n",
       "      <td>7.0</td>\n",
       "    </tr>\n",
       "    <tr>\n",
       "      <th>1</th>\n",
       "      <td>276</td>\n",
       "      <td>2015-04-27</td>\n",
       "      <td>2021-11-16</td>\n",
       "      <td>0</td>\n",
       "      <td>2021-09-01</td>\n",
       "      <td>2.00</td>\n",
       "      <td>Doctor Appt</td>\n",
       "      <td>7.0</td>\n",
       "    </tr>\n",
       "    <tr>\n",
       "      <th>2</th>\n",
       "      <td>276</td>\n",
       "      <td>2015-04-27</td>\n",
       "      <td>2021-11-16</td>\n",
       "      <td>0</td>\n",
       "      <td>2021-08-26</td>\n",
       "      <td>2.00</td>\n",
       "      <td>Doctor Appt</td>\n",
       "      <td>7.0</td>\n",
       "    </tr>\n",
       "    <tr>\n",
       "      <th>3</th>\n",
       "      <td>276</td>\n",
       "      <td>2015-04-27</td>\n",
       "      <td>2021-11-16</td>\n",
       "      <td>0</td>\n",
       "      <td>2021-08-11</td>\n",
       "      <td>2.00</td>\n",
       "      <td>Doctor Appt</td>\n",
       "      <td>7.0</td>\n",
       "    </tr>\n",
       "    <tr>\n",
       "      <th>4</th>\n",
       "      <td>276</td>\n",
       "      <td>2015-04-27</td>\n",
       "      <td>2021-11-16</td>\n",
       "      <td>0</td>\n",
       "      <td>2021-08-10</td>\n",
       "      <td>2.25</td>\n",
       "      <td>Doctor Appt</td>\n",
       "      <td>7.0</td>\n",
       "    </tr>\n",
       "  </tbody>\n",
       "</table>\n",
       "</div>"
      ],
      "text/plain": [
       "   anon_ID rider_first_ride_date rider_last_ride_date  rider_num_rides  \\\n",
       "0      276            2015-04-27           2021-11-16                0   \n",
       "1      276            2015-04-27           2021-11-16                0   \n",
       "2      276            2015-04-27           2021-11-16                0   \n",
       "3      276            2015-04-27           2021-11-16                0   \n",
       "4      276            2015-04-27           2021-11-16                0   \n",
       "\n",
       "   appt_date  appt_duration     category  rider_services_len  \n",
       "0 2021-09-15           2.00  Doctor Appt                 7.0  \n",
       "1 2021-09-01           2.00  Doctor Appt                 7.0  \n",
       "2 2021-08-26           2.00  Doctor Appt                 7.0  \n",
       "3 2021-08-11           2.00  Doctor Appt                 7.0  \n",
       "4 2021-08-10           2.25  Doctor Appt                 7.0  "
      ]
     },
     "execution_count": 210,
     "metadata": {},
     "output_type": "execute_result"
    }
   ],
   "source": [
    "vol.head()"
   ]
  },
  {
   "cell_type": "code",
   "execution_count": 211,
   "metadata": {},
   "outputs": [
    {
     "data": {
      "text/plain": [
       "anon_ID                           int64\n",
       "rider_first_ride_date    datetime64[ns]\n",
       "rider_last_ride_date     datetime64[ns]\n",
       "rider_num_rides                   int64\n",
       "appt_date                datetime64[ns]\n",
       "appt_duration                   float64\n",
       "category                         object\n",
       "rider_services_len              float64\n",
       "dtype: object"
      ]
     },
     "execution_count": 211,
     "metadata": {},
     "output_type": "execute_result"
    }
   ],
   "source": [
    "vol.dtypes"
   ]
  },
  {
   "cell_type": "code",
   "execution_count": 265,
   "metadata": {},
   "outputs": [
    {
     "data": {
      "text/plain": [
       "rider_services_len\n",
       "0.0     104\n",
       "2.0     289\n",
       "1.0     330\n",
       "4.0     392\n",
       "3.0     498\n",
       "7.0     560\n",
       "5.0     650\n",
       "6.0    2102\n",
       "Name: anon_ID, dtype: int64"
      ]
     },
     "execution_count": 265,
     "metadata": {},
     "output_type": "execute_result"
    }
   ],
   "source": [
    "vol['anon_ID'].groupby(vol['rider_services_len']).count().sort_values()"
   ]
  },
  {
   "cell_type": "code",
   "execution_count": 212,
   "metadata": {
    "scrolled": true
   },
   "outputs": [
    {
     "data": {
      "text/plain": [
       "<matplotlib.axes._subplots.AxesSubplot at 0x1b4cc4fddc8>"
      ]
     },
     "execution_count": 212,
     "metadata": {},
     "output_type": "execute_result"
    },
    {
     "data": {
      "image/png": "[encoded data removed]",
      "text/plain": [
       "<Figure size 432x288 with 1 Axes>"
      ]
     },
     "metadata": {},
     "output_type": "display_data"
    }
   ],
   "source": [
    "plt.style.use('fivethirtyeight')\n",
    "vol['anon_ID'].groupby(vol['rider_services_len']).count().sort_values().plot(kind='barh')\n",
    "## Each anon_id here respresents the time when a client has leveraged the ElderNet rider services. We see that the\n",
    "## count of rides is highest for clients where the length of engagement is higher than 5 years. The count is lower\n",
    "## which makes sense here because of COVID most likely. However, perhaps there is a need to promote rider services so \n",
    "## more people can leverage the services."
   ]
  },
  {
   "cell_type": "code",
   "execution_count": 213,
   "metadata": {},
   "outputs": [
    {
     "data": {
      "text/html": [
       "<div>\n",
       "<style scoped>\n",
       "    .dataframe tbody tr th:only-of-type {\n",
       "        vertical-align: middle;\n",
       "    }\n",
       "\n",
       "    .dataframe tbody tr th {\n",
       "        vertical-align: top;\n",
       "    }\n",
       "\n",
       "    .dataframe thead th {\n",
       "        text-align: right;\n",
       "    }\n",
       "</style>\n",
       "<table border=\"1\" class=\"dataframe\">\n",
       "  <thead>\n",
       "    <tr style=\"text-align: right;\">\n",
       "      <th></th>\n",
       "      <th>count</th>\n",
       "      <th>mean</th>\n",
       "      <th>std</th>\n",
       "      <th>min</th>\n",
       "      <th>25%</th>\n",
       "      <th>50%</th>\n",
       "      <th>75%</th>\n",
       "      <th>max</th>\n",
       "    </tr>\n",
       "  </thead>\n",
       "  <tbody>\n",
       "    <tr>\n",
       "      <th>anon_ID</th>\n",
       "      <td>4925.0</td>\n",
       "      <td>329.857462</td>\n",
       "      <td>187.983010</td>\n",
       "      <td>2.0</td>\n",
       "      <td>166.0</td>\n",
       "      <td>297.0</td>\n",
       "      <td>505.0</td>\n",
       "      <td>641.0</td>\n",
       "    </tr>\n",
       "    <tr>\n",
       "      <th>rider_num_rides</th>\n",
       "      <td>4925.0</td>\n",
       "      <td>0.000000</td>\n",
       "      <td>0.000000</td>\n",
       "      <td>0.0</td>\n",
       "      <td>0.0</td>\n",
       "      <td>0.0</td>\n",
       "      <td>0.0</td>\n",
       "      <td>0.0</td>\n",
       "    </tr>\n",
       "    <tr>\n",
       "      <th>appt_duration</th>\n",
       "      <td>4925.0</td>\n",
       "      <td>3.165279</td>\n",
       "      <td>5.648763</td>\n",
       "      <td>0.0</td>\n",
       "      <td>2.0</td>\n",
       "      <td>2.0</td>\n",
       "      <td>3.0</td>\n",
       "      <td>200.0</td>\n",
       "    </tr>\n",
       "    <tr>\n",
       "      <th>rider_services_len</th>\n",
       "      <td>4925.0</td>\n",
       "      <td>4.822741</td>\n",
       "      <td>1.860938</td>\n",
       "      <td>0.0</td>\n",
       "      <td>4.0</td>\n",
       "      <td>6.0</td>\n",
       "      <td>6.0</td>\n",
       "      <td>7.0</td>\n",
       "    </tr>\n",
       "  </tbody>\n",
       "</table>\n",
       "</div>"
      ],
      "text/plain": [
       "                     count        mean         std  min    25%    50%    75%  \\\n",
       "anon_ID             4925.0  329.857462  187.983010  2.0  166.0  297.0  505.0   \n",
       "rider_num_rides     4925.0    0.000000    0.000000  0.0    0.0    0.0    0.0   \n",
       "appt_duration       4925.0    3.165279    5.648763  0.0    2.0    2.0    3.0   \n",
       "rider_services_len  4925.0    4.822741    1.860938  0.0    4.0    6.0    6.0   \n",
       "\n",
       "                      max  \n",
       "anon_ID             641.0  \n",
       "rider_num_rides       0.0  \n",
       "appt_duration       200.0  \n",
       "rider_services_len    7.0  "
      ]
     },
     "execution_count": 213,
     "metadata": {},
     "output_type": "execute_result"
    }
   ],
   "source": [
    "vol.describe().T"
   ]
  },
  {
   "cell_type": "code",
   "execution_count": 214,
   "metadata": {},
   "outputs": [
    {
     "name": "stdout",
     "output_type": "stream",
     "text": [
      "641\n",
      "\n",
      "162\n"
     ]
    }
   ],
   "source": [
    "print(client['anon_ID'].nunique())\n",
    "print()\n",
    "print(vol['anon_ID'].nunique())"
   ]
  },
  {
   "cell_type": "code",
   "execution_count": 215,
   "metadata": {},
   "outputs": [
    {
     "data": {
      "text/plain": [
       "25.273010920436818"
      ]
     },
     "execution_count": 215,
     "metadata": {},
     "output_type": "execute_result"
    }
   ],
   "source": [
    "162/641*100\n",
    "## Approximately only 25% of the clients are taking advantage of the rider services"
   ]
  },
  {
   "cell_type": "code",
   "execution_count": 216,
   "metadata": {},
   "outputs": [],
   "source": [
    "rider_analysis = client.merge(vol,how='inner')"
   ]
  },
  {
   "cell_type": "code",
   "execution_count": 217,
   "metadata": {},
   "outputs": [
    {
     "data": {
      "text/plain": [
       "(641, 5)"
      ]
     },
     "execution_count": 217,
     "metadata": {},
     "output_type": "execute_result"
    }
   ],
   "source": [
    "client.shape"
   ]
  },
  {
   "cell_type": "code",
   "execution_count": 218,
   "metadata": {},
   "outputs": [
    {
     "data": {
      "text/plain": [
       "(4925, 8)"
      ]
     },
     "execution_count": 218,
     "metadata": {},
     "output_type": "execute_result"
    }
   ],
   "source": [
    "vol.shape"
   ]
  },
  {
   "cell_type": "code",
   "execution_count": 219,
   "metadata": {},
   "outputs": [
    {
     "data": {
      "text/plain": [
       "(4925, 12)"
      ]
     },
     "execution_count": 219,
     "metadata": {},
     "output_type": "execute_result"
    }
   ],
   "source": [
    "rider_analysis.shape"
   ]
  },
  {
   "cell_type": "code",
   "execution_count": 220,
   "metadata": {},
   "outputs": [
    {
     "data": {
      "text/html": [
       "<div>\n",
       "<style scoped>\n",
       "    .dataframe tbody tr th:only-of-type {\n",
       "        vertical-align: middle;\n",
       "    }\n",
       "\n",
       "    .dataframe tbody tr th {\n",
       "        vertical-align: top;\n",
       "    }\n",
       "\n",
       "    .dataframe thead th {\n",
       "        text-align: right;\n",
       "    }\n",
       "</style>\n",
       "<table border=\"1\" class=\"dataframe\">\n",
       "  <thead>\n",
       "    <tr style=\"text-align: right;\">\n",
       "      <th></th>\n",
       "      <th>anon_ID</th>\n",
       "      <th>county</th>\n",
       "      <th>poverty</th>\n",
       "      <th>minority</th>\n",
       "      <th>age_group</th>\n",
       "      <th>rider_first_ride_date</th>\n",
       "      <th>rider_last_ride_date</th>\n",
       "      <th>rider_num_rides</th>\n",
       "      <th>appt_date</th>\n",
       "      <th>appt_duration</th>\n",
       "      <th>category</th>\n",
       "      <th>rider_services_len</th>\n",
       "    </tr>\n",
       "  </thead>\n",
       "  <tbody>\n",
       "    <tr>\n",
       "      <th>0</th>\n",
       "      <td>2</td>\n",
       "      <td>Montgomery</td>\n",
       "      <td>No</td>\n",
       "      <td>No</td>\n",
       "      <td>D</td>\n",
       "      <td>2015-11-10</td>\n",
       "      <td>2021-05-11</td>\n",
       "      <td>0</td>\n",
       "      <td>2021-05-11</td>\n",
       "      <td>2.0</td>\n",
       "      <td>Doctor Appt</td>\n",
       "      <td>6.0</td>\n",
       "    </tr>\n",
       "    <tr>\n",
       "      <th>1</th>\n",
       "      <td>2</td>\n",
       "      <td>Montgomery</td>\n",
       "      <td>No</td>\n",
       "      <td>No</td>\n",
       "      <td>D</td>\n",
       "      <td>2015-11-10</td>\n",
       "      <td>2021-05-11</td>\n",
       "      <td>0</td>\n",
       "      <td>2021-05-03</td>\n",
       "      <td>2.0</td>\n",
       "      <td>Doctor Appt</td>\n",
       "      <td>6.0</td>\n",
       "    </tr>\n",
       "    <tr>\n",
       "      <th>2</th>\n",
       "      <td>2</td>\n",
       "      <td>Montgomery</td>\n",
       "      <td>No</td>\n",
       "      <td>No</td>\n",
       "      <td>D</td>\n",
       "      <td>2015-11-10</td>\n",
       "      <td>2021-05-11</td>\n",
       "      <td>0</td>\n",
       "      <td>2021-04-22</td>\n",
       "      <td>2.0</td>\n",
       "      <td>Doctor Appt</td>\n",
       "      <td>6.0</td>\n",
       "    </tr>\n",
       "    <tr>\n",
       "      <th>3</th>\n",
       "      <td>2</td>\n",
       "      <td>Montgomery</td>\n",
       "      <td>No</td>\n",
       "      <td>No</td>\n",
       "      <td>D</td>\n",
       "      <td>2015-11-10</td>\n",
       "      <td>2021-05-11</td>\n",
       "      <td>0</td>\n",
       "      <td>2021-04-21</td>\n",
       "      <td>2.0</td>\n",
       "      <td>Doctor Appt</td>\n",
       "      <td>6.0</td>\n",
       "    </tr>\n",
       "    <tr>\n",
       "      <th>4</th>\n",
       "      <td>2</td>\n",
       "      <td>Montgomery</td>\n",
       "      <td>No</td>\n",
       "      <td>No</td>\n",
       "      <td>D</td>\n",
       "      <td>2015-11-10</td>\n",
       "      <td>2021-05-11</td>\n",
       "      <td>0</td>\n",
       "      <td>2021-04-19</td>\n",
       "      <td>2.0</td>\n",
       "      <td>Doctor Appt</td>\n",
       "      <td>6.0</td>\n",
       "    </tr>\n",
       "  </tbody>\n",
       "</table>\n",
       "</div>"
      ],
      "text/plain": [
       "   anon_ID      county poverty minority age_group rider_first_ride_date  \\\n",
       "0        2  Montgomery      No       No         D            2015-11-10   \n",
       "1        2  Montgomery      No       No         D            2015-11-10   \n",
       "2        2  Montgomery      No       No         D            2015-11-10   \n",
       "3        2  Montgomery      No       No         D            2015-11-10   \n",
       "4        2  Montgomery      No       No         D            2015-11-10   \n",
       "\n",
       "  rider_last_ride_date  rider_num_rides  appt_date  appt_duration  \\\n",
       "0           2021-05-11                0 2021-05-11            2.0   \n",
       "1           2021-05-11                0 2021-05-03            2.0   \n",
       "2           2021-05-11                0 2021-04-22            2.0   \n",
       "3           2021-05-11                0 2021-04-21            2.0   \n",
       "4           2021-05-11                0 2021-04-19            2.0   \n",
       "\n",
       "      category  rider_services_len  \n",
       "0  Doctor Appt                 6.0  \n",
       "1  Doctor Appt                 6.0  \n",
       "2  Doctor Appt                 6.0  \n",
       "3  Doctor Appt                 6.0  \n",
       "4  Doctor Appt                 6.0  "
      ]
     },
     "execution_count": 220,
     "metadata": {},
     "output_type": "execute_result"
    }
   ],
   "source": [
    "rider_analysis.head()"
   ]
  },
  {
   "cell_type": "code",
   "execution_count": 221,
   "metadata": {},
   "outputs": [],
   "source": [
    "# Removing missing data\n",
    "rider_analysis = rider_analysis.dropna()"
   ]
  },
  {
   "cell_type": "code",
   "execution_count": 222,
   "metadata": {},
   "outputs": [
    {
     "data": {
      "text/plain": [
       "(3152, 12)"
      ]
     },
     "execution_count": 222,
     "metadata": {},
     "output_type": "execute_result"
    }
   ],
   "source": [
    "rider_analysis.shape"
   ]
  },
  {
   "cell_type": "code",
   "execution_count": 223,
   "metadata": {},
   "outputs": [
    {
     "data": {
      "text/html": [
       "<div>\n",
       "<style scoped>\n",
       "    .dataframe tbody tr th:only-of-type {\n",
       "        vertical-align: middle;\n",
       "    }\n",
       "\n",
       "    .dataframe tbody tr th {\n",
       "        vertical-align: top;\n",
       "    }\n",
       "\n",
       "    .dataframe thead th {\n",
       "        text-align: right;\n",
       "    }\n",
       "</style>\n",
       "<table border=\"1\" class=\"dataframe\">\n",
       "  <thead>\n",
       "    <tr style=\"text-align: right;\">\n",
       "      <th></th>\n",
       "      <th>anon_ID</th>\n",
       "      <th>county</th>\n",
       "      <th>poverty</th>\n",
       "      <th>minority</th>\n",
       "      <th>age_group</th>\n",
       "      <th>rider_first_ride_date</th>\n",
       "      <th>rider_last_ride_date</th>\n",
       "      <th>rider_num_rides</th>\n",
       "      <th>appt_date</th>\n",
       "      <th>appt_duration</th>\n",
       "      <th>category</th>\n",
       "      <th>rider_services_len</th>\n",
       "    </tr>\n",
       "  </thead>\n",
       "  <tbody>\n",
       "    <tr>\n",
       "      <th>0</th>\n",
       "      <td>2</td>\n",
       "      <td>Montgomery</td>\n",
       "      <td>No</td>\n",
       "      <td>No</td>\n",
       "      <td>D</td>\n",
       "      <td>2015-11-10</td>\n",
       "      <td>2021-05-11</td>\n",
       "      <td>0</td>\n",
       "      <td>2021-05-11</td>\n",
       "      <td>2.0</td>\n",
       "      <td>Doctor Appt</td>\n",
       "      <td>6.0</td>\n",
       "    </tr>\n",
       "    <tr>\n",
       "      <th>1</th>\n",
       "      <td>2</td>\n",
       "      <td>Montgomery</td>\n",
       "      <td>No</td>\n",
       "      <td>No</td>\n",
       "      <td>D</td>\n",
       "      <td>2015-11-10</td>\n",
       "      <td>2021-05-11</td>\n",
       "      <td>0</td>\n",
       "      <td>2021-05-03</td>\n",
       "      <td>2.0</td>\n",
       "      <td>Doctor Appt</td>\n",
       "      <td>6.0</td>\n",
       "    </tr>\n",
       "    <tr>\n",
       "      <th>2</th>\n",
       "      <td>2</td>\n",
       "      <td>Montgomery</td>\n",
       "      <td>No</td>\n",
       "      <td>No</td>\n",
       "      <td>D</td>\n",
       "      <td>2015-11-10</td>\n",
       "      <td>2021-05-11</td>\n",
       "      <td>0</td>\n",
       "      <td>2021-04-22</td>\n",
       "      <td>2.0</td>\n",
       "      <td>Doctor Appt</td>\n",
       "      <td>6.0</td>\n",
       "    </tr>\n",
       "    <tr>\n",
       "      <th>3</th>\n",
       "      <td>2</td>\n",
       "      <td>Montgomery</td>\n",
       "      <td>No</td>\n",
       "      <td>No</td>\n",
       "      <td>D</td>\n",
       "      <td>2015-11-10</td>\n",
       "      <td>2021-05-11</td>\n",
       "      <td>0</td>\n",
       "      <td>2021-04-21</td>\n",
       "      <td>2.0</td>\n",
       "      <td>Doctor Appt</td>\n",
       "      <td>6.0</td>\n",
       "    </tr>\n",
       "    <tr>\n",
       "      <th>4</th>\n",
       "      <td>2</td>\n",
       "      <td>Montgomery</td>\n",
       "      <td>No</td>\n",
       "      <td>No</td>\n",
       "      <td>D</td>\n",
       "      <td>2015-11-10</td>\n",
       "      <td>2021-05-11</td>\n",
       "      <td>0</td>\n",
       "      <td>2021-04-19</td>\n",
       "      <td>2.0</td>\n",
       "      <td>Doctor Appt</td>\n",
       "      <td>6.0</td>\n",
       "    </tr>\n",
       "  </tbody>\n",
       "</table>\n",
       "</div>"
      ],
      "text/plain": [
       "   anon_ID      county poverty minority age_group rider_first_ride_date  \\\n",
       "0        2  Montgomery      No       No         D            2015-11-10   \n",
       "1        2  Montgomery      No       No         D            2015-11-10   \n",
       "2        2  Montgomery      No       No         D            2015-11-10   \n",
       "3        2  Montgomery      No       No         D            2015-11-10   \n",
       "4        2  Montgomery      No       No         D            2015-11-10   \n",
       "\n",
       "  rider_last_ride_date  rider_num_rides  appt_date  appt_duration  \\\n",
       "0           2021-05-11                0 2021-05-11            2.0   \n",
       "1           2021-05-11                0 2021-05-03            2.0   \n",
       "2           2021-05-11                0 2021-04-22            2.0   \n",
       "3           2021-05-11                0 2021-04-21            2.0   \n",
       "4           2021-05-11                0 2021-04-19            2.0   \n",
       "\n",
       "      category  rider_services_len  \n",
       "0  Doctor Appt                 6.0  \n",
       "1  Doctor Appt                 6.0  \n",
       "2  Doctor Appt                 6.0  \n",
       "3  Doctor Appt                 6.0  \n",
       "4  Doctor Appt                 6.0  "
      ]
     },
     "execution_count": 223,
     "metadata": {},
     "output_type": "execute_result"
    }
   ],
   "source": [
    "rider_analysis.head()"
   ]
  },
  {
   "cell_type": "code",
   "execution_count": 224,
   "metadata": {},
   "outputs": [],
   "source": [
    "rider_analysis= rider_analysis.drop(['county'], axis=1)"
   ]
  },
  {
   "cell_type": "code",
   "execution_count": 225,
   "metadata": {
    "scrolled": true
   },
   "outputs": [
    {
     "data": {
      "text/html": [
       "<div>\n",
       "<style scoped>\n",
       "    .dataframe tbody tr th:only-of-type {\n",
       "        vertical-align: middle;\n",
       "    }\n",
       "\n",
       "    .dataframe tbody tr th {\n",
       "        vertical-align: top;\n",
       "    }\n",
       "\n",
       "    .dataframe thead th {\n",
       "        text-align: right;\n",
       "    }\n",
       "</style>\n",
       "<table border=\"1\" class=\"dataframe\">\n",
       "  <thead>\n",
       "    <tr style=\"text-align: right;\">\n",
       "      <th></th>\n",
       "      <th>anon_ID</th>\n",
       "      <th>poverty</th>\n",
       "      <th>minority</th>\n",
       "      <th>age_group</th>\n",
       "      <th>rider_first_ride_date</th>\n",
       "      <th>rider_last_ride_date</th>\n",
       "      <th>rider_num_rides</th>\n",
       "      <th>appt_date</th>\n",
       "      <th>appt_duration</th>\n",
       "      <th>category</th>\n",
       "      <th>rider_services_len</th>\n",
       "    </tr>\n",
       "  </thead>\n",
       "  <tbody>\n",
       "    <tr>\n",
       "      <th>0</th>\n",
       "      <td>2</td>\n",
       "      <td>No</td>\n",
       "      <td>No</td>\n",
       "      <td>D</td>\n",
       "      <td>2015-11-10</td>\n",
       "      <td>2021-05-11</td>\n",
       "      <td>0</td>\n",
       "      <td>2021-05-11</td>\n",
       "      <td>2.0</td>\n",
       "      <td>Doctor Appt</td>\n",
       "      <td>6.0</td>\n",
       "    </tr>\n",
       "    <tr>\n",
       "      <th>1</th>\n",
       "      <td>2</td>\n",
       "      <td>No</td>\n",
       "      <td>No</td>\n",
       "      <td>D</td>\n",
       "      <td>2015-11-10</td>\n",
       "      <td>2021-05-11</td>\n",
       "      <td>0</td>\n",
       "      <td>2021-05-03</td>\n",
       "      <td>2.0</td>\n",
       "      <td>Doctor Appt</td>\n",
       "      <td>6.0</td>\n",
       "    </tr>\n",
       "    <tr>\n",
       "      <th>2</th>\n",
       "      <td>2</td>\n",
       "      <td>No</td>\n",
       "      <td>No</td>\n",
       "      <td>D</td>\n",
       "      <td>2015-11-10</td>\n",
       "      <td>2021-05-11</td>\n",
       "      <td>0</td>\n",
       "      <td>2021-04-22</td>\n",
       "      <td>2.0</td>\n",
       "      <td>Doctor Appt</td>\n",
       "      <td>6.0</td>\n",
       "    </tr>\n",
       "    <tr>\n",
       "      <th>3</th>\n",
       "      <td>2</td>\n",
       "      <td>No</td>\n",
       "      <td>No</td>\n",
       "      <td>D</td>\n",
       "      <td>2015-11-10</td>\n",
       "      <td>2021-05-11</td>\n",
       "      <td>0</td>\n",
       "      <td>2021-04-21</td>\n",
       "      <td>2.0</td>\n",
       "      <td>Doctor Appt</td>\n",
       "      <td>6.0</td>\n",
       "    </tr>\n",
       "    <tr>\n",
       "      <th>4</th>\n",
       "      <td>2</td>\n",
       "      <td>No</td>\n",
       "      <td>No</td>\n",
       "      <td>D</td>\n",
       "      <td>2015-11-10</td>\n",
       "      <td>2021-05-11</td>\n",
       "      <td>0</td>\n",
       "      <td>2021-04-19</td>\n",
       "      <td>2.0</td>\n",
       "      <td>Doctor Appt</td>\n",
       "      <td>6.0</td>\n",
       "    </tr>\n",
       "    <tr>\n",
       "      <th>...</th>\n",
       "      <td>...</td>\n",
       "      <td>...</td>\n",
       "      <td>...</td>\n",
       "      <td>...</td>\n",
       "      <td>...</td>\n",
       "      <td>...</td>\n",
       "      <td>...</td>\n",
       "      <td>...</td>\n",
       "      <td>...</td>\n",
       "      <td>...</td>\n",
       "      <td>...</td>\n",
       "    </tr>\n",
       "    <tr>\n",
       "      <th>3457</th>\n",
       "      <td>641</td>\n",
       "      <td>Yes</td>\n",
       "      <td>No</td>\n",
       "      <td>T</td>\n",
       "      <td>2017-09-03</td>\n",
       "      <td>2021-07-30</td>\n",
       "      <td>0</td>\n",
       "      <td>2019-05-13</td>\n",
       "      <td>3.0</td>\n",
       "      <td>Shopping</td>\n",
       "      <td>4.0</td>\n",
       "    </tr>\n",
       "    <tr>\n",
       "      <th>3458</th>\n",
       "      <td>641</td>\n",
       "      <td>Yes</td>\n",
       "      <td>No</td>\n",
       "      <td>T</td>\n",
       "      <td>2017-09-03</td>\n",
       "      <td>2021-07-30</td>\n",
       "      <td>0</td>\n",
       "      <td>2019-04-20</td>\n",
       "      <td>3.0</td>\n",
       "      <td>Shopping</td>\n",
       "      <td>4.0</td>\n",
       "    </tr>\n",
       "    <tr>\n",
       "      <th>3459</th>\n",
       "      <td>641</td>\n",
       "      <td>Yes</td>\n",
       "      <td>No</td>\n",
       "      <td>T</td>\n",
       "      <td>2017-09-03</td>\n",
       "      <td>2021-07-30</td>\n",
       "      <td>0</td>\n",
       "      <td>2019-03-15</td>\n",
       "      <td>2.0</td>\n",
       "      <td>Shopping</td>\n",
       "      <td>4.0</td>\n",
       "    </tr>\n",
       "    <tr>\n",
       "      <th>3460</th>\n",
       "      <td>641</td>\n",
       "      <td>Yes</td>\n",
       "      <td>No</td>\n",
       "      <td>T</td>\n",
       "      <td>2017-09-03</td>\n",
       "      <td>2021-07-30</td>\n",
       "      <td>0</td>\n",
       "      <td>2019-02-09</td>\n",
       "      <td>2.0</td>\n",
       "      <td>Shopping</td>\n",
       "      <td>4.0</td>\n",
       "    </tr>\n",
       "    <tr>\n",
       "      <th>3461</th>\n",
       "      <td>641</td>\n",
       "      <td>Yes</td>\n",
       "      <td>No</td>\n",
       "      <td>T</td>\n",
       "      <td>2017-09-03</td>\n",
       "      <td>2021-07-30</td>\n",
       "      <td>0</td>\n",
       "      <td>2019-01-31</td>\n",
       "      <td>3.0</td>\n",
       "      <td>Shopping</td>\n",
       "      <td>4.0</td>\n",
       "    </tr>\n",
       "  </tbody>\n",
       "</table>\n",
       "<p>3152 rows × 11 columns</p>\n",
       "</div>"
      ],
      "text/plain": [
       "      anon_ID poverty minority age_group rider_first_ride_date  \\\n",
       "0           2      No       No         D            2015-11-10   \n",
       "1           2      No       No         D            2015-11-10   \n",
       "2           2      No       No         D            2015-11-10   \n",
       "3           2      No       No         D            2015-11-10   \n",
       "4           2      No       No         D            2015-11-10   \n",
       "...       ...     ...      ...       ...                   ...   \n",
       "3457      641     Yes       No         T            2017-09-03   \n",
       "3458      641     Yes       No         T            2017-09-03   \n",
       "3459      641     Yes       No         T            2017-09-03   \n",
       "3460      641     Yes       No         T            2017-09-03   \n",
       "3461      641     Yes       No         T            2017-09-03   \n",
       "\n",
       "     rider_last_ride_date  rider_num_rides  appt_date  appt_duration  \\\n",
       "0              2021-05-11                0 2021-05-11            2.0   \n",
       "1              2021-05-11                0 2021-05-03            2.0   \n",
       "2              2021-05-11                0 2021-04-22            2.0   \n",
       "3              2021-05-11                0 2021-04-21            2.0   \n",
       "4              2021-05-11                0 2021-04-19            2.0   \n",
       "...                   ...              ...        ...            ...   \n",
       "3457           2021-07-30                0 2019-05-13            3.0   \n",
       "3458           2021-07-30                0 2019-04-20            3.0   \n",
       "3459           2021-07-30                0 2019-03-15            2.0   \n",
       "3460           2021-07-30                0 2019-02-09            2.0   \n",
       "3461           2021-07-30                0 2019-01-31            3.0   \n",
       "\n",
       "         category  rider_services_len  \n",
       "0     Doctor Appt                 6.0  \n",
       "1     Doctor Appt                 6.0  \n",
       "2     Doctor Appt                 6.0  \n",
       "3     Doctor Appt                 6.0  \n",
       "4     Doctor Appt                 6.0  \n",
       "...           ...                 ...  \n",
       "3457     Shopping                 4.0  \n",
       "3458     Shopping                 4.0  \n",
       "3459     Shopping                 4.0  \n",
       "3460     Shopping                 4.0  \n",
       "3461     Shopping                 4.0  \n",
       "\n",
       "[3152 rows x 11 columns]"
      ]
     },
     "execution_count": 225,
     "metadata": {},
     "output_type": "execute_result"
    }
   ],
   "source": [
    "rider_analysis"
   ]
  },
  {
   "cell_type": "code",
   "execution_count": 226,
   "metadata": {},
   "outputs": [
    {
     "data": {
      "text/plain": [
       "<matplotlib.axes._subplots.AxesSubplot at 0x1b4cc450f88>"
      ]
     },
     "execution_count": 226,
     "metadata": {},
     "output_type": "execute_result"
    },
    {
     "data": {
      "image/png": "[encoded data removed]",
      "text/plain": [
       "<Figure size 432x288 with 1 Axes>"
      ]
     },
     "metadata": {},
     "output_type": "display_data"
    }
   ],
   "source": [
    "## Looking for demographic patterns from people who participate in rider services\n",
    "rider_analysis['anon_ID'].groupby(rider_analysis['poverty']).count().plot(kind='pie')"
   ]
  },
  {
   "cell_type": "code",
   "execution_count": 227,
   "metadata": {},
   "outputs": [
    {
     "data": {
      "text/plain": [
       "<matplotlib.axes._subplots.AxesSubplot at 0x1b4cc564588>"
      ]
     },
     "execution_count": 227,
     "metadata": {},
     "output_type": "execute_result"
    },
    {
     "data": {
      "image/png": "[encoded data removed]",
      "text/plain": [
       "<Figure size 432x288 with 1 Axes>"
      ]
     },
     "metadata": {},
     "output_type": "display_data"
    }
   ],
   "source": [
    "rider_analysis['anon_ID'].groupby(rider_analysis['minority']).count().plot(kind='bar')"
   ]
  },
  {
   "cell_type": "code",
   "execution_count": 228,
   "metadata": {},
   "outputs": [
    {
     "data": {
      "text/plain": [
       "<matplotlib.axes._subplots.AxesSubplot at 0x1b4cc5b44c8>"
      ]
     },
     "execution_count": 228,
     "metadata": {},
     "output_type": "execute_result"
    },
    {
     "data": {
      "image/png": "[encoded data removed]",
      "text/plain": [
       "<Figure size 432x288 with 1 Axes>"
      ]
     },
     "metadata": {},
     "output_type": "display_data"
    }
   ],
   "source": [
    "rider_analysis['anon_ID'].groupby(rider_analysis['age_group']).count().sort_values().plot(kind='bar')\n",
    "## Age groups T and D leverage rider services the most, maybe during intake the rider services can be offered based\n",
    "## on if a canidate falls into this age category"
   ]
  },
  {
   "cell_type": "code",
   "execution_count": 229,
   "metadata": {},
   "outputs": [
    {
     "data": {
      "text/html": [
       "<div>\n",
       "<style scoped>\n",
       "    .dataframe tbody tr th:only-of-type {\n",
       "        vertical-align: middle;\n",
       "    }\n",
       "\n",
       "    .dataframe tbody tr th {\n",
       "        vertical-align: top;\n",
       "    }\n",
       "\n",
       "    .dataframe thead th {\n",
       "        text-align: right;\n",
       "    }\n",
       "</style>\n",
       "<table border=\"1\" class=\"dataframe\">\n",
       "  <thead>\n",
       "    <tr style=\"text-align: right;\">\n",
       "      <th></th>\n",
       "      <th>anon_ID</th>\n",
       "      <th>assistance_date</th>\n",
       "      <th>assistance_category</th>\n",
       "      <th>amount</th>\n",
       "      <th>unit</th>\n",
       "    </tr>\n",
       "  </thead>\n",
       "  <tbody>\n",
       "    <tr>\n",
       "      <th>0</th>\n",
       "      <td>102</td>\n",
       "      <td>1/3/2019 10:00</td>\n",
       "      <td>Food Pantry: Food Pantry Poundage</td>\n",
       "      <td>25</td>\n",
       "      <td>Pounds</td>\n",
       "    </tr>\n",
       "    <tr>\n",
       "      <th>1</th>\n",
       "      <td>178</td>\n",
       "      <td>1/3/2019 10:00</td>\n",
       "      <td>Food Pantry: Food Pantry Poundage</td>\n",
       "      <td>25</td>\n",
       "      <td>Pounds</td>\n",
       "    </tr>\n",
       "    <tr>\n",
       "      <th>2</th>\n",
       "      <td>588</td>\n",
       "      <td>1/3/2019 10:30</td>\n",
       "      <td>Food Pantry: Food Pantry Poundage</td>\n",
       "      <td>25</td>\n",
       "      <td>Pounds</td>\n",
       "    </tr>\n",
       "    <tr>\n",
       "      <th>3</th>\n",
       "      <td>502</td>\n",
       "      <td>1/3/2019 11:15</td>\n",
       "      <td>Food Pantry: Food Pantry Poundage</td>\n",
       "      <td>25</td>\n",
       "      <td>Pounds</td>\n",
       "    </tr>\n",
       "    <tr>\n",
       "      <th>4</th>\n",
       "      <td>232</td>\n",
       "      <td>1/3/2019 11:30</td>\n",
       "      <td>Food Pantry: Food Pantry Poundage</td>\n",
       "      <td>25</td>\n",
       "      <td>Pounds</td>\n",
       "    </tr>\n",
       "  </tbody>\n",
       "</table>\n",
       "</div>"
      ],
      "text/plain": [
       "   anon_ID assistance_date                assistance_category  amount    unit\n",
       "0      102  1/3/2019 10:00  Food Pantry: Food Pantry Poundage      25  Pounds\n",
       "1      178  1/3/2019 10:00  Food Pantry: Food Pantry Poundage      25  Pounds\n",
       "2      588  1/3/2019 10:30  Food Pantry: Food Pantry Poundage      25  Pounds\n",
       "3      502  1/3/2019 11:15  Food Pantry: Food Pantry Poundage      25  Pounds\n",
       "4      232  1/3/2019 11:30  Food Pantry: Food Pantry Poundage      25  Pounds"
      ]
     },
     "execution_count": 229,
     "metadata": {},
     "output_type": "execute_result"
    }
   ],
   "source": [
    "pan.head()"
   ]
  },
  {
   "cell_type": "code",
   "execution_count": 230,
   "metadata": {},
   "outputs": [
    {
     "data": {
      "text/plain": [
       "(6273, 5)"
      ]
     },
     "execution_count": 230,
     "metadata": {},
     "output_type": "execute_result"
    }
   ],
   "source": [
    "pan.shape"
   ]
  },
  {
   "cell_type": "code",
   "execution_count": 231,
   "metadata": {},
   "outputs": [
    {
     "data": {
      "text/plain": [
       "anon_ID                 int64\n",
       "assistance_date        object\n",
       "assistance_category    object\n",
       "amount                  int64\n",
       "unit                   object\n",
       "dtype: object"
      ]
     },
     "execution_count": 231,
     "metadata": {},
     "output_type": "execute_result"
    }
   ],
   "source": [
    "pan.dtypes"
   ]
  },
  {
   "cell_type": "code",
   "execution_count": 232,
   "metadata": {},
   "outputs": [],
   "source": [
    "pan[\"assistance_date\"]= pd.to_datetime(pan[\"assistance_date\"])"
   ]
  },
  {
   "cell_type": "code",
   "execution_count": 233,
   "metadata": {},
   "outputs": [
    {
     "data": {
      "text/plain": [
       "anon_ID                         int64\n",
       "assistance_date        datetime64[ns]\n",
       "assistance_category            object\n",
       "amount                          int64\n",
       "unit                           object\n",
       "dtype: object"
      ]
     },
     "execution_count": 233,
     "metadata": {},
     "output_type": "execute_result"
    }
   ],
   "source": [
    "pan.dtypes"
   ]
  },
  {
   "cell_type": "code",
   "execution_count": 234,
   "metadata": {},
   "outputs": [
    {
     "data": {
      "text/plain": [
       "anon_ID                0\n",
       "assistance_date        0\n",
       "assistance_category    0\n",
       "amount                 0\n",
       "unit                   0\n",
       "dtype: int64"
      ]
     },
     "execution_count": 234,
     "metadata": {},
     "output_type": "execute_result"
    }
   ],
   "source": [
    "pan.isna().sum()"
   ]
  },
  {
   "cell_type": "code",
   "execution_count": 235,
   "metadata": {},
   "outputs": [
    {
     "data": {
      "text/plain": [
       "Food Pantry: Food Pantry Poundage    5817\n",
       "Food Pantry: Holiday Baskets          437\n",
       "Food Pantry: Easter Outreach           19\n",
       "Name: assistance_category, dtype: int64"
      ]
     },
     "execution_count": 235,
     "metadata": {},
     "output_type": "execute_result"
    }
   ],
   "source": [
    "pan['assistance_category'].value_counts()"
   ]
  },
  {
   "cell_type": "code",
   "execution_count": 236,
   "metadata": {},
   "outputs": [
    {
     "data": {
      "text/plain": [
       "Pounds        6161\n",
       "Dollars         99\n",
       "Boxes/Bags      13\n",
       "Name: unit, dtype: int64"
      ]
     },
     "execution_count": 236,
     "metadata": {},
     "output_type": "execute_result"
    }
   ],
   "source": [
    "pan['unit'].value_counts()"
   ]
  },
  {
   "cell_type": "code",
   "execution_count": 237,
   "metadata": {},
   "outputs": [
    {
     "data": {
      "text/plain": [
       "<matplotlib.axes._subplots.AxesSubplot at 0x1b4cadfbbc8>"
      ]
     },
     "execution_count": 237,
     "metadata": {},
     "output_type": "execute_result"
    },
    {
     "data": {
      "image/png": "[encoded data removed]",
      "text/plain": [
       "<Figure size 432x288 with 1 Axes>"
      ]
     },
     "metadata": {},
     "output_type": "display_data"
    }
   ],
   "source": [
    "pan['amount'].groupby(pan['unit']).sum().sort_values().plot(kind='bar')"
   ]
  },
  {
   "cell_type": "code",
   "execution_count": 238,
   "metadata": {},
   "outputs": [
    {
     "data": {
      "text/plain": [
       "unit\n",
       "Boxes/Bags        49\n",
       "Dollars         3045\n",
       "Pounds        155605\n",
       "Name: amount, dtype: int64"
      ]
     },
     "execution_count": 238,
     "metadata": {},
     "output_type": "execute_result"
    }
   ],
   "source": [
    "pan['amount'].groupby(pan['unit']).sum()"
   ]
  },
  {
   "cell_type": "code",
   "execution_count": 239,
   "metadata": {},
   "outputs": [
    {
     "data": {
      "text/plain": [
       "assistance_date\n",
       "2020-03-16 13:35:00    325\n",
       "2020-03-16 13:40:00    300\n",
       "2020-03-16 13:20:00    300\n",
       "2020-05-26 14:00:00    275\n",
       "2020-11-20 12:00:00    275\n",
       "2020-12-22 00:30:00    260\n",
       "2020-03-16 13:25:00    250\n",
       "2019-11-15 16:00:00    240\n",
       "2020-12-19 11:00:00    240\n",
       "2020-10-27 11:00:00    225\n",
       "Name: amount, dtype: int64"
      ]
     },
     "execution_count": 239,
     "metadata": {},
     "output_type": "execute_result"
    }
   ],
   "source": [
    "pan['amount'].groupby(pan[\"assistance_date\"]).sum().sort_values(ascending = False).head(10)"
   ]
  },
  {
   "cell_type": "code",
   "execution_count": 240,
   "metadata": {},
   "outputs": [],
   "source": [
    "pan_new = pan.copy()"
   ]
  },
  {
   "cell_type": "code",
   "execution_count": 241,
   "metadata": {},
   "outputs": [],
   "source": [
    "pan_new = pan_new[pan_new['unit']=='Pounds']\n",
    "## focusing on food/pounds the most"
   ]
  },
  {
   "cell_type": "code",
   "execution_count": 242,
   "metadata": {},
   "outputs": [
    {
     "data": {
      "text/plain": [
       "Pounds    6161\n",
       "Name: unit, dtype: int64"
      ]
     },
     "execution_count": 242,
     "metadata": {},
     "output_type": "execute_result"
    }
   ],
   "source": [
    "pan_new['unit'].value_counts()"
   ]
  },
  {
   "cell_type": "code",
   "execution_count": 243,
   "metadata": {},
   "outputs": [],
   "source": [
    "pan_ts = pan_new[['amount',\"assistance_date\"]]"
   ]
  },
  {
   "cell_type": "code",
   "execution_count": 244,
   "metadata": {},
   "outputs": [
    {
     "data": {
      "text/html": [
       "<div>\n",
       "<style scoped>\n",
       "    .dataframe tbody tr th:only-of-type {\n",
       "        vertical-align: middle;\n",
       "    }\n",
       "\n",
       "    .dataframe tbody tr th {\n",
       "        vertical-align: top;\n",
       "    }\n",
       "\n",
       "    .dataframe thead th {\n",
       "        text-align: right;\n",
       "    }\n",
       "</style>\n",
       "<table border=\"1\" class=\"dataframe\">\n",
       "  <thead>\n",
       "    <tr style=\"text-align: right;\">\n",
       "      <th></th>\n",
       "      <th>amount</th>\n",
       "      <th>assistance_date</th>\n",
       "    </tr>\n",
       "  </thead>\n",
       "  <tbody>\n",
       "    <tr>\n",
       "      <th>0</th>\n",
       "      <td>25</td>\n",
       "      <td>2019-01-03 10:00:00</td>\n",
       "    </tr>\n",
       "    <tr>\n",
       "      <th>1</th>\n",
       "      <td>25</td>\n",
       "      <td>2019-01-03 10:00:00</td>\n",
       "    </tr>\n",
       "    <tr>\n",
       "      <th>2</th>\n",
       "      <td>25</td>\n",
       "      <td>2019-01-03 10:30:00</td>\n",
       "    </tr>\n",
       "    <tr>\n",
       "      <th>3</th>\n",
       "      <td>25</td>\n",
       "      <td>2019-01-03 11:15:00</td>\n",
       "    </tr>\n",
       "    <tr>\n",
       "      <th>4</th>\n",
       "      <td>25</td>\n",
       "      <td>2019-01-03 11:30:00</td>\n",
       "    </tr>\n",
       "  </tbody>\n",
       "</table>\n",
       "</div>"
      ],
      "text/plain": [
       "   amount     assistance_date\n",
       "0      25 2019-01-03 10:00:00\n",
       "1      25 2019-01-03 10:00:00\n",
       "2      25 2019-01-03 10:30:00\n",
       "3      25 2019-01-03 11:15:00\n",
       "4      25 2019-01-03 11:30:00"
      ]
     },
     "execution_count": 244,
     "metadata": {},
     "output_type": "execute_result"
    }
   ],
   "source": [
    "pan_ts.head()"
   ]
  },
  {
   "cell_type": "code",
   "execution_count": 245,
   "metadata": {},
   "outputs": [
    {
     "name": "stderr",
     "output_type": "stream",
     "text": [
      "C:\\ProgramData\\Anaconda3\\lib\\site-packages\\ipykernel_launcher.py:1: SettingWithCopyWarning: \n",
      "A value is trying to be set on a copy of a slice from a DataFrame.\n",
      "Try using .loc[row_indexer,col_indexer] = value instead\n",
      "\n",
      "See the caveats in the documentation: https://pandas.pydata.org/pandas-docs/stable/user_guide/indexing.html#returning-a-view-versus-a-copy\n",
      "  \"\"\"Entry point for launching an IPython kernel.\n"
     ]
    }
   ],
   "source": [
    "pan_ts['assistance_date']= pd.to_datetime(pan_ts['assistance_date'],format='%Y')\n",
    "pan_ts = pan_ts.set_index('assistance_date')"
   ]
  },
  {
   "cell_type": "code",
   "execution_count": 246,
   "metadata": {},
   "outputs": [
    {
     "data": {
      "text/html": [
       "<div>\n",
       "<style scoped>\n",
       "    .dataframe tbody tr th:only-of-type {\n",
       "        vertical-align: middle;\n",
       "    }\n",
       "\n",
       "    .dataframe tbody tr th {\n",
       "        vertical-align: top;\n",
       "    }\n",
       "\n",
       "    .dataframe thead th {\n",
       "        text-align: right;\n",
       "    }\n",
       "</style>\n",
       "<table border=\"1\" class=\"dataframe\">\n",
       "  <thead>\n",
       "    <tr style=\"text-align: right;\">\n",
       "      <th></th>\n",
       "      <th>amount</th>\n",
       "    </tr>\n",
       "    <tr>\n",
       "      <th>assistance_date</th>\n",
       "      <th></th>\n",
       "    </tr>\n",
       "  </thead>\n",
       "  <tbody>\n",
       "    <tr>\n",
       "      <th>2019-01-03 10:00:00</th>\n",
       "      <td>25</td>\n",
       "    </tr>\n",
       "    <tr>\n",
       "      <th>2019-01-03 10:00:00</th>\n",
       "      <td>25</td>\n",
       "    </tr>\n",
       "    <tr>\n",
       "      <th>2019-01-03 10:30:00</th>\n",
       "      <td>25</td>\n",
       "    </tr>\n",
       "    <tr>\n",
       "      <th>2019-01-03 11:15:00</th>\n",
       "      <td>25</td>\n",
       "    </tr>\n",
       "    <tr>\n",
       "      <th>2019-01-03 11:30:00</th>\n",
       "      <td>25</td>\n",
       "    </tr>\n",
       "    <tr>\n",
       "      <th>...</th>\n",
       "      <td>...</td>\n",
       "    </tr>\n",
       "    <tr>\n",
       "      <th>2021-09-07 14:15:00</th>\n",
       "      <td>25</td>\n",
       "    </tr>\n",
       "    <tr>\n",
       "      <th>2021-09-07 14:55:00</th>\n",
       "      <td>25</td>\n",
       "    </tr>\n",
       "    <tr>\n",
       "      <th>2021-09-07 15:00:00</th>\n",
       "      <td>25</td>\n",
       "    </tr>\n",
       "    <tr>\n",
       "      <th>2021-09-07 15:15:00</th>\n",
       "      <td>25</td>\n",
       "    </tr>\n",
       "    <tr>\n",
       "      <th>2021-09-09 14:25:00</th>\n",
       "      <td>25</td>\n",
       "    </tr>\n",
       "  </tbody>\n",
       "</table>\n",
       "<p>6161 rows × 1 columns</p>\n",
       "</div>"
      ],
      "text/plain": [
       "                     amount\n",
       "assistance_date            \n",
       "2019-01-03 10:00:00      25\n",
       "2019-01-03 10:00:00      25\n",
       "2019-01-03 10:30:00      25\n",
       "2019-01-03 11:15:00      25\n",
       "2019-01-03 11:30:00      25\n",
       "...                     ...\n",
       "2021-09-07 14:15:00      25\n",
       "2021-09-07 14:55:00      25\n",
       "2021-09-07 15:00:00      25\n",
       "2021-09-07 15:15:00      25\n",
       "2021-09-09 14:25:00      25\n",
       "\n",
       "[6161 rows x 1 columns]"
      ]
     },
     "execution_count": 246,
     "metadata": {},
     "output_type": "execute_result"
    }
   ],
   "source": [
    "pan_ts"
   ]
  },
  {
   "cell_type": "code",
   "execution_count": 247,
   "metadata": {
    "scrolled": true
   },
   "outputs": [
    {
     "data": {
      "image/png": "[encoded data removed]",
      "text/plain": [
       "<Figure size 640x480 with 1 Axes>"
      ]
     },
     "metadata": {},
     "output_type": "display_data"
    }
   ],
   "source": [
    "from matplotlib.pyplot import figure\n",
    "figure(figsize=(8, 6), dpi=80)\n",
    "plt.plot(pan_ts['amount'])\n",
    "plt.xticks( rotation='vertical')\n",
    "plt.show()"
   ]
  },
  {
   "cell_type": "code",
   "execution_count": 248,
   "metadata": {},
   "outputs": [
    {
     "data": {
      "text/html": [
       "<div>\n",
       "<style scoped>\n",
       "    .dataframe tbody tr th:only-of-type {\n",
       "        vertical-align: middle;\n",
       "    }\n",
       "\n",
       "    .dataframe tbody tr th {\n",
       "        vertical-align: top;\n",
       "    }\n",
       "\n",
       "    .dataframe thead th {\n",
       "        text-align: right;\n",
       "    }\n",
       "</style>\n",
       "<table border=\"1\" class=\"dataframe\">\n",
       "  <thead>\n",
       "    <tr style=\"text-align: right;\">\n",
       "      <th></th>\n",
       "      <th>amount</th>\n",
       "    </tr>\n",
       "  </thead>\n",
       "  <tbody>\n",
       "    <tr>\n",
       "      <th>count</th>\n",
       "      <td>6161.000000</td>\n",
       "    </tr>\n",
       "    <tr>\n",
       "      <th>mean</th>\n",
       "      <td>25.256452</td>\n",
       "    </tr>\n",
       "    <tr>\n",
       "      <th>std</th>\n",
       "      <td>1.357089</td>\n",
       "    </tr>\n",
       "    <tr>\n",
       "      <th>min</th>\n",
       "      <td>10.000000</td>\n",
       "    </tr>\n",
       "    <tr>\n",
       "      <th>25%</th>\n",
       "      <td>25.000000</td>\n",
       "    </tr>\n",
       "    <tr>\n",
       "      <th>50%</th>\n",
       "      <td>25.000000</td>\n",
       "    </tr>\n",
       "    <tr>\n",
       "      <th>75%</th>\n",
       "      <td>25.000000</td>\n",
       "    </tr>\n",
       "    <tr>\n",
       "      <th>max</th>\n",
       "      <td>50.000000</td>\n",
       "    </tr>\n",
       "  </tbody>\n",
       "</table>\n",
       "</div>"
      ],
      "text/plain": [
       "            amount\n",
       "count  6161.000000\n",
       "mean     25.256452\n",
       "std       1.357089\n",
       "min      10.000000\n",
       "25%      25.000000\n",
       "50%      25.000000\n",
       "75%      25.000000\n",
       "max      50.000000"
      ]
     },
     "execution_count": 248,
     "metadata": {},
     "output_type": "execute_result"
    }
   ],
   "source": [
    "pan_ts.describe()"
   ]
  },
  {
   "cell_type": "code",
   "execution_count": 249,
   "metadata": {},
   "outputs": [],
   "source": [
    "pan_client = pan_new.merge(client, how ='inner')"
   ]
  },
  {
   "cell_type": "code",
   "execution_count": 250,
   "metadata": {},
   "outputs": [
    {
     "data": {
      "text/html": [
       "<div>\n",
       "<style scoped>\n",
       "    .dataframe tbody tr th:only-of-type {\n",
       "        vertical-align: middle;\n",
       "    }\n",
       "\n",
       "    .dataframe tbody tr th {\n",
       "        vertical-align: top;\n",
       "    }\n",
       "\n",
       "    .dataframe thead th {\n",
       "        text-align: right;\n",
       "    }\n",
       "</style>\n",
       "<table border=\"1\" class=\"dataframe\">\n",
       "  <thead>\n",
       "    <tr style=\"text-align: right;\">\n",
       "      <th></th>\n",
       "      <th>anon_ID</th>\n",
       "      <th>assistance_date</th>\n",
       "      <th>assistance_category</th>\n",
       "      <th>amount</th>\n",
       "      <th>unit</th>\n",
       "      <th>county</th>\n",
       "      <th>poverty</th>\n",
       "      <th>minority</th>\n",
       "      <th>age_group</th>\n",
       "    </tr>\n",
       "  </thead>\n",
       "  <tbody>\n",
       "    <tr>\n",
       "      <th>0</th>\n",
       "      <td>102</td>\n",
       "      <td>2019-01-03 10:00:00</td>\n",
       "      <td>Food Pantry: Food Pantry Poundage</td>\n",
       "      <td>25</td>\n",
       "      <td>Pounds</td>\n",
       "      <td>Montgomery</td>\n",
       "      <td>Yes</td>\n",
       "      <td>NaN</td>\n",
       "      <td>G</td>\n",
       "    </tr>\n",
       "    <tr>\n",
       "      <th>1</th>\n",
       "      <td>102</td>\n",
       "      <td>2019-01-07 12:10:00</td>\n",
       "      <td>Food Pantry: Food Pantry Poundage</td>\n",
       "      <td>25</td>\n",
       "      <td>Pounds</td>\n",
       "      <td>Montgomery</td>\n",
       "      <td>Yes</td>\n",
       "      <td>NaN</td>\n",
       "      <td>G</td>\n",
       "    </tr>\n",
       "    <tr>\n",
       "      <th>2</th>\n",
       "      <td>102</td>\n",
       "      <td>2019-01-29 12:10:00</td>\n",
       "      <td>Food Pantry: Food Pantry Poundage</td>\n",
       "      <td>25</td>\n",
       "      <td>Pounds</td>\n",
       "      <td>Montgomery</td>\n",
       "      <td>Yes</td>\n",
       "      <td>NaN</td>\n",
       "      <td>G</td>\n",
       "    </tr>\n",
       "    <tr>\n",
       "      <th>3</th>\n",
       "      <td>102</td>\n",
       "      <td>2019-02-14 12:10:00</td>\n",
       "      <td>Food Pantry: Food Pantry Poundage</td>\n",
       "      <td>25</td>\n",
       "      <td>Pounds</td>\n",
       "      <td>Montgomery</td>\n",
       "      <td>Yes</td>\n",
       "      <td>NaN</td>\n",
       "      <td>G</td>\n",
       "    </tr>\n",
       "    <tr>\n",
       "      <th>4</th>\n",
       "      <td>102</td>\n",
       "      <td>2019-02-28 12:10:00</td>\n",
       "      <td>Food Pantry: Food Pantry Poundage</td>\n",
       "      <td>25</td>\n",
       "      <td>Pounds</td>\n",
       "      <td>Montgomery</td>\n",
       "      <td>Yes</td>\n",
       "      <td>NaN</td>\n",
       "      <td>G</td>\n",
       "    </tr>\n",
       "  </tbody>\n",
       "</table>\n",
       "</div>"
      ],
      "text/plain": [
       "   anon_ID     assistance_date                assistance_category  amount  \\\n",
       "0      102 2019-01-03 10:00:00  Food Pantry: Food Pantry Poundage      25   \n",
       "1      102 2019-01-07 12:10:00  Food Pantry: Food Pantry Poundage      25   \n",
       "2      102 2019-01-29 12:10:00  Food Pantry: Food Pantry Poundage      25   \n",
       "3      102 2019-02-14 12:10:00  Food Pantry: Food Pantry Poundage      25   \n",
       "4      102 2019-02-28 12:10:00  Food Pantry: Food Pantry Poundage      25   \n",
       "\n",
       "     unit      county poverty minority age_group  \n",
       "0  Pounds  Montgomery     Yes      NaN         G  \n",
       "1  Pounds  Montgomery     Yes      NaN         G  \n",
       "2  Pounds  Montgomery     Yes      NaN         G  \n",
       "3  Pounds  Montgomery     Yes      NaN         G  \n",
       "4  Pounds  Montgomery     Yes      NaN         G  "
      ]
     },
     "execution_count": 250,
     "metadata": {},
     "output_type": "execute_result"
    }
   ],
   "source": [
    "pan_client.head()"
   ]
  },
  {
   "cell_type": "code",
   "execution_count": 251,
   "metadata": {},
   "outputs": [],
   "source": [
    "pan_client = pan_client.dropna()"
   ]
  },
  {
   "cell_type": "code",
   "execution_count": 252,
   "metadata": {},
   "outputs": [
    {
     "data": {
      "text/plain": [
       "<matplotlib.axes._subplots.AxesSubplot at 0x1b4cb2a9e08>"
      ]
     },
     "execution_count": 252,
     "metadata": {},
     "output_type": "execute_result"
    },
    {
     "data": {
      "image/png": "[encoded data removed]",
      "text/plain": [
       "<Figure size 432x288 with 1 Axes>"
      ]
     },
     "metadata": {},
     "output_type": "display_data"
    }
   ],
   "source": [
    "pan_client['anon_ID'].groupby(pan_client['poverty']).count().sort_values().plot(kind='bar')"
   ]
  },
  {
   "cell_type": "code",
   "execution_count": 253,
   "metadata": {},
   "outputs": [
    {
     "data": {
      "text/plain": [
       "<matplotlib.axes._subplots.AxesSubplot at 0x1b4cc618748>"
      ]
     },
     "execution_count": 253,
     "metadata": {},
     "output_type": "execute_result"
    },
    {
     "data": {
      "image/png": "[encoded data removed]",
      "text/plain": [
       "<Figure size 432x288 with 1 Axes>"
      ]
     },
     "metadata": {},
     "output_type": "display_data"
    }
   ],
   "source": [
    "pan_client['anon_ID'].groupby(pan_client['minority']).count().sort_values().plot(kind='bar')\n",
    "## repeating anon_id, not sure if this is accurate because of that"
   ]
  },
  {
   "cell_type": "code",
   "execution_count": 254,
   "metadata": {},
   "outputs": [
    {
     "data": {
      "text/plain": [
       "<matplotlib.axes._subplots.AxesSubplot at 0x1b4cb291308>"
      ]
     },
     "execution_count": 254,
     "metadata": {},
     "output_type": "execute_result"
    },
    {
     "data": {
      "image/png": "[encoded data removed]",
      "text/plain": [
       "<Figure size 432x288 with 1 Axes>"
      ]
     },
     "metadata": {},
     "output_type": "display_data"
    }
   ],
   "source": [
    "pan_client['anon_ID'].groupby(pan_client['age_group']).count().sort_values().plot(kind='bar')"
   ]
  },
  {
   "cell_type": "code",
   "execution_count": 255,
   "metadata": {},
   "outputs": [],
   "source": [
    "## Pantry services are most availed by minorities and poorer communities. As Eldernet expands their geographic footprint\n",
    "## this information can be utilized to target services accordingly."
   ]
  },
  {
   "cell_type": "code",
   "execution_count": 256,
   "metadata": {},
   "outputs": [
    {
     "data": {
      "text/plain": [
       "anon_ID\n",
       "625    2410\n",
       "607    2230\n",
       "15     2120\n",
       "33     1930\n",
       "361    1660\n",
       "588    1590\n",
       "308    1540\n",
       "72     1460\n",
       "436    1435\n",
       "516    1340\n",
       "502    1330\n",
       "475    1310\n",
       "529    1305\n",
       "210    1260\n",
       "314    1235\n",
       "382    1235\n",
       "609    1155\n",
       "561    1155\n",
       "505    1155\n",
       "222    1075\n",
       "Name: amount, dtype: int64"
      ]
     },
     "execution_count": 256,
     "metadata": {},
     "output_type": "execute_result"
    }
   ],
   "source": [
    "pan_client['amount'].groupby(pan_client['anon_ID']).sum().sort_values(ascending=False).head(20)"
   ]
  },
  {
   "cell_type": "code",
   "execution_count": 257,
   "metadata": {},
   "outputs": [],
   "source": [
    "filt = pan_client['anon_ID']==15"
   ]
  },
  {
   "cell_type": "code",
   "execution_count": 258,
   "metadata": {},
   "outputs": [
    {
     "data": {
      "text/html": [
       "<div>\n",
       "<style scoped>\n",
       "    .dataframe tbody tr th:only-of-type {\n",
       "        vertical-align: middle;\n",
       "    }\n",
       "\n",
       "    .dataframe tbody tr th {\n",
       "        vertical-align: top;\n",
       "    }\n",
       "\n",
       "    .dataframe thead th {\n",
       "        text-align: right;\n",
       "    }\n",
       "</style>\n",
       "<table border=\"1\" class=\"dataframe\">\n",
       "  <thead>\n",
       "    <tr style=\"text-align: right;\">\n",
       "      <th></th>\n",
       "      <th>anon_ID</th>\n",
       "      <th>assistance_date</th>\n",
       "      <th>assistance_category</th>\n",
       "      <th>amount</th>\n",
       "      <th>unit</th>\n",
       "      <th>county</th>\n",
       "      <th>poverty</th>\n",
       "      <th>minority</th>\n",
       "      <th>age_group</th>\n",
       "    </tr>\n",
       "  </thead>\n",
       "  <tbody>\n",
       "    <tr>\n",
       "      <th>2525</th>\n",
       "      <td>15</td>\n",
       "      <td>2019-01-15 16:00:00</td>\n",
       "      <td>Food Pantry: Holiday Baskets</td>\n",
       "      <td>30</td>\n",
       "      <td>Pounds</td>\n",
       "      <td>Montgomery</td>\n",
       "      <td>No</td>\n",
       "      <td>No</td>\n",
       "      <td>D</td>\n",
       "    </tr>\n",
       "    <tr>\n",
       "      <th>2526</th>\n",
       "      <td>15</td>\n",
       "      <td>2019-01-15 16:00:00</td>\n",
       "      <td>Food Pantry: Holiday Baskets</td>\n",
       "      <td>30</td>\n",
       "      <td>Pounds</td>\n",
       "      <td>Montgomery</td>\n",
       "      <td>No</td>\n",
       "      <td>No</td>\n",
       "      <td>D</td>\n",
       "    </tr>\n",
       "    <tr>\n",
       "      <th>2527</th>\n",
       "      <td>15</td>\n",
       "      <td>2019-08-27 14:11:00</td>\n",
       "      <td>Food Pantry: Food Pantry Poundage</td>\n",
       "      <td>25</td>\n",
       "      <td>Pounds</td>\n",
       "      <td>Montgomery</td>\n",
       "      <td>No</td>\n",
       "      <td>No</td>\n",
       "      <td>D</td>\n",
       "    </tr>\n",
       "    <tr>\n",
       "      <th>2528</th>\n",
       "      <td>15</td>\n",
       "      <td>2019-08-27 14:11:00</td>\n",
       "      <td>Food Pantry: Food Pantry Poundage</td>\n",
       "      <td>25</td>\n",
       "      <td>Pounds</td>\n",
       "      <td>Montgomery</td>\n",
       "      <td>No</td>\n",
       "      <td>No</td>\n",
       "      <td>D</td>\n",
       "    </tr>\n",
       "    <tr>\n",
       "      <th>2529</th>\n",
       "      <td>15</td>\n",
       "      <td>2019-09-10 14:26:00</td>\n",
       "      <td>Food Pantry: Food Pantry Poundage</td>\n",
       "      <td>25</td>\n",
       "      <td>Pounds</td>\n",
       "      <td>Montgomery</td>\n",
       "      <td>No</td>\n",
       "      <td>No</td>\n",
       "      <td>D</td>\n",
       "    </tr>\n",
       "    <tr>\n",
       "      <th>...</th>\n",
       "      <td>...</td>\n",
       "      <td>...</td>\n",
       "      <td>...</td>\n",
       "      <td>...</td>\n",
       "      <td>...</td>\n",
       "      <td>...</td>\n",
       "      <td>...</td>\n",
       "      <td>...</td>\n",
       "      <td>...</td>\n",
       "    </tr>\n",
       "    <tr>\n",
       "      <th>2604</th>\n",
       "      <td>15</td>\n",
       "      <td>2021-06-15 11:00:00</td>\n",
       "      <td>Food Pantry: Food Pantry Poundage</td>\n",
       "      <td>25</td>\n",
       "      <td>Pounds</td>\n",
       "      <td>Montgomery</td>\n",
       "      <td>No</td>\n",
       "      <td>No</td>\n",
       "      <td>D</td>\n",
       "    </tr>\n",
       "    <tr>\n",
       "      <th>2605</th>\n",
       "      <td>15</td>\n",
       "      <td>2021-07-13 10:35:00</td>\n",
       "      <td>Food Pantry: Food Pantry Poundage</td>\n",
       "      <td>25</td>\n",
       "      <td>Pounds</td>\n",
       "      <td>Montgomery</td>\n",
       "      <td>No</td>\n",
       "      <td>No</td>\n",
       "      <td>D</td>\n",
       "    </tr>\n",
       "    <tr>\n",
       "      <th>2606</th>\n",
       "      <td>15</td>\n",
       "      <td>2021-07-13 10:35:00</td>\n",
       "      <td>Food Pantry: Food Pantry Poundage</td>\n",
       "      <td>25</td>\n",
       "      <td>Pounds</td>\n",
       "      <td>Montgomery</td>\n",
       "      <td>No</td>\n",
       "      <td>No</td>\n",
       "      <td>D</td>\n",
       "    </tr>\n",
       "    <tr>\n",
       "      <th>2607</th>\n",
       "      <td>15</td>\n",
       "      <td>2021-08-10 10:29:00</td>\n",
       "      <td>Food Pantry: Food Pantry Poundage</td>\n",
       "      <td>25</td>\n",
       "      <td>Pounds</td>\n",
       "      <td>Montgomery</td>\n",
       "      <td>No</td>\n",
       "      <td>No</td>\n",
       "      <td>D</td>\n",
       "    </tr>\n",
       "    <tr>\n",
       "      <th>2608</th>\n",
       "      <td>15</td>\n",
       "      <td>2021-08-10 10:29:00</td>\n",
       "      <td>Food Pantry: Food Pantry Poundage</td>\n",
       "      <td>25</td>\n",
       "      <td>Pounds</td>\n",
       "      <td>Montgomery</td>\n",
       "      <td>No</td>\n",
       "      <td>No</td>\n",
       "      <td>D</td>\n",
       "    </tr>\n",
       "  </tbody>\n",
       "</table>\n",
       "<p>84 rows × 9 columns</p>\n",
       "</div>"
      ],
      "text/plain": [
       "      anon_ID     assistance_date                assistance_category  amount  \\\n",
       "2525       15 2019-01-15 16:00:00       Food Pantry: Holiday Baskets      30   \n",
       "2526       15 2019-01-15 16:00:00       Food Pantry: Holiday Baskets      30   \n",
       "2527       15 2019-08-27 14:11:00  Food Pantry: Food Pantry Poundage      25   \n",
       "2528       15 2019-08-27 14:11:00  Food Pantry: Food Pantry Poundage      25   \n",
       "2529       15 2019-09-10 14:26:00  Food Pantry: Food Pantry Poundage      25   \n",
       "...       ...                 ...                                ...     ...   \n",
       "2604       15 2021-06-15 11:00:00  Food Pantry: Food Pantry Poundage      25   \n",
       "2605       15 2021-07-13 10:35:00  Food Pantry: Food Pantry Poundage      25   \n",
       "2606       15 2021-07-13 10:35:00  Food Pantry: Food Pantry Poundage      25   \n",
       "2607       15 2021-08-10 10:29:00  Food Pantry: Food Pantry Poundage      25   \n",
       "2608       15 2021-08-10 10:29:00  Food Pantry: Food Pantry Poundage      25   \n",
       "\n",
       "        unit      county poverty minority age_group  \n",
       "2525  Pounds  Montgomery      No       No         D  \n",
       "2526  Pounds  Montgomery      No       No         D  \n",
       "2527  Pounds  Montgomery      No       No         D  \n",
       "2528  Pounds  Montgomery      No       No         D  \n",
       "2529  Pounds  Montgomery      No       No         D  \n",
       "...      ...         ...     ...      ...       ...  \n",
       "2604  Pounds  Montgomery      No       No         D  \n",
       "2605  Pounds  Montgomery      No       No         D  \n",
       "2606  Pounds  Montgomery      No       No         D  \n",
       "2607  Pounds  Montgomery      No       No         D  \n",
       "2608  Pounds  Montgomery      No       No         D  \n",
       "\n",
       "[84 rows x 9 columns]"
      ]
     },
     "execution_count": 258,
     "metadata": {},
     "output_type": "execute_result"
    }
   ],
   "source": [
    "pan_client_highest = pan_client[filt]\n",
    "pan_client_highest"
   ]
  },
  {
   "cell_type": "code",
   "execution_count": 259,
   "metadata": {},
   "outputs": [
    {
     "data": {
      "text/plain": [
       "414"
      ]
     },
     "execution_count": 259,
     "metadata": {},
     "output_type": "execute_result"
    }
   ],
   "source": [
    "pan['anon_ID'].nunique()"
   ]
  },
  {
   "cell_type": "code",
   "execution_count": 260,
   "metadata": {},
   "outputs": [
    {
     "data": {
      "text/plain": [
       "641"
      ]
     },
     "execution_count": 260,
     "metadata": {},
     "output_type": "execute_result"
    }
   ],
   "source": [
    "client['anon_ID'].nunique()"
   ]
  },
  {
   "cell_type": "code",
   "execution_count": 261,
   "metadata": {},
   "outputs": [
    {
     "data": {
      "text/plain": [
       "65"
      ]
     },
     "execution_count": 261,
     "metadata": {},
     "output_type": "execute_result"
    }
   ],
   "source": [
    "round(414/641*100)\n",
    "## 65% of folks use pantry services"
   ]
  },
  {
   "cell_type": "code",
   "execution_count": 262,
   "metadata": {},
   "outputs": [
    {
     "data": {
      "text/plain": [
       "Doctor Appt               2102\n",
       "Shopping                  1158\n",
       "Board or Committee Mtg     586\n",
       "Friendly Visit             571\n",
       "Pantry                     273\n",
       "Errands                     79\n",
       "Special Projects            56\n",
       "Odd Jobs                    43\n",
       "Pantry Delivery             30\n",
       "Skilled Work                20\n",
       "Yard Work                    4\n",
       "Telephone Reassurance        3\n",
       "Name: category, dtype: int64"
      ]
     },
     "execution_count": 262,
     "metadata": {},
     "output_type": "execute_result"
    }
   ],
   "source": [
    "vol['category'].value_counts()"
   ]
  },
  {
   "cell_type": "code",
   "execution_count": null,
   "metadata": {},
   "outputs": [],
   "source": [
    "vol_new = vol[(vol['category']=='Pantry')|(vol['category']=='Pantry Delivery')]"
   ]
  },
  {
   "cell_type": "code",
   "execution_count": null,
   "metadata": {},
   "outputs": [],
   "source": [
    "vol.shape"
   ]
  },
  {
   "cell_type": "code",
   "execution_count": null,
   "metadata": {},
   "outputs": [],
   "source": [
    "vol_new.shape"
   ]
  },
  {
   "cell_type": "code",
   "execution_count": null,
   "metadata": {},
   "outputs": [],
   "source": [
    "vol_new.head()"
   ]
  },
  {
   "cell_type": "code",
   "execution_count": null,
   "metadata": {},
   "outputs": [],
   "source": [
    "pan_client.head()"
   ]
  },
  {
   "cell_type": "code",
   "execution_count": null,
   "metadata": {},
   "outputs": [],
   "source": [
    "## merge vol_new and pan_client to see if any patterns emerge\n",
    "vol_pan_rel = vol_new.merge(pan_client, how ='inner')"
   ]
  },
  {
   "cell_type": "code",
   "execution_count": null,
   "metadata": {},
   "outputs": [],
   "source": [
    "vol_pan_rel.head()"
   ]
  },
  {
   "cell_type": "code",
   "execution_count": null,
   "metadata": {},
   "outputs": [],
   "source": [
    "vol_pan_rel['anon_ID'].nunique()\n",
    "## Just 1 client used the rider services to access the pantry\n",
    "## anon_ID 602 is in the volunteer services dataset with pantry as category for the ride, but not in the pantry dataset\n",
    "## which is strange"
   ]
  },
  {
   "cell_type": "code",
   "execution_count": null,
   "metadata": {},
   "outputs": [],
   "source": []
  }
 ],
 "metadata": {
  "kernelspec": {
   "display_name": "Python 3",
   "language": "python",
   "name": "python3"
  },
  "language_info": {
   "codemirror_mode": {
    "name": "ipython",
    "version": 3
   },
   "file_extension": ".py",
   "mimetype": "text/x-python",
   "name": "python",
   "nbconvert_exporter": "python",
   "pygments_lexer": "ipython3",
   "version": "3.7.6"
  }
 },
 "nbformat": 4,
 "nbformat_minor": 4
}
